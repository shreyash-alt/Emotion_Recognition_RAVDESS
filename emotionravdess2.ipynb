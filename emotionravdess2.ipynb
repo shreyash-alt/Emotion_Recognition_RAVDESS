{
  "cells": [
    {
      "cell_type": "markdown",
      "metadata": {
        "id": "view-in-github",
        "colab_type": "text"
      },
      "source": [
        "<a href=\"https://colab.research.google.com/github/shreyash-alt/Emotion_Recognition_RAVDESS/blob/main/emotionravdess2.ipynb\" target=\"_parent\"><img src=\"https://colab.research.google.com/assets/colab-badge.svg\" alt=\"Open In Colab\"/></a>"
      ]
    },
    {
      "cell_type": "markdown",
      "source": [
        "**Getting the Dataset**"
      ],
      "metadata": {
        "id": "_P9JAauX05HC"
      }
    },
    {
      "cell_type": "code",
      "execution_count": 1,
      "metadata": {
        "colab": {
          "base_uri": "https://localhost:8080/",
          "height": 91
        },
        "id": "lL-fUS4_a-Mo",
        "outputId": "886d8100-0863-47d7-8584-c3396a194ac5"
      },
      "outputs": [
        {
          "output_type": "display_data",
          "data": {
            "text/plain": [
              "<IPython.core.display.HTML object>"
            ],
            "text/html": [
              "\n",
              "     <input type=\"file\" id=\"files-1cb1f8ad-bb58-460e-a09f-cda4ef89fb03\" name=\"files[]\" multiple disabled\n",
              "        style=\"border:none\" />\n",
              "     <output id=\"result-1cb1f8ad-bb58-460e-a09f-cda4ef89fb03\">\n",
              "      Upload widget is only available when the cell has been executed in the\n",
              "      current browser session. Please rerun this cell to enable.\n",
              "      </output>\n",
              "      <script>// Copyright 2017 Google LLC\n",
              "//\n",
              "// Licensed under the Apache License, Version 2.0 (the \"License\");\n",
              "// you may not use this file except in compliance with the License.\n",
              "// You may obtain a copy of the License at\n",
              "//\n",
              "//      http://www.apache.org/licenses/LICENSE-2.0\n",
              "//\n",
              "// Unless required by applicable law or agreed to in writing, software\n",
              "// distributed under the License is distributed on an \"AS IS\" BASIS,\n",
              "// WITHOUT WARRANTIES OR CONDITIONS OF ANY KIND, either express or implied.\n",
              "// See the License for the specific language governing permissions and\n",
              "// limitations under the License.\n",
              "\n",
              "/**\n",
              " * @fileoverview Helpers for google.colab Python module.\n",
              " */\n",
              "(function(scope) {\n",
              "function span(text, styleAttributes = {}) {\n",
              "  const element = document.createElement('span');\n",
              "  element.textContent = text;\n",
              "  for (const key of Object.keys(styleAttributes)) {\n",
              "    element.style[key] = styleAttributes[key];\n",
              "  }\n",
              "  return element;\n",
              "}\n",
              "\n",
              "// Max number of bytes which will be uploaded at a time.\n",
              "const MAX_PAYLOAD_SIZE = 100 * 1024;\n",
              "\n",
              "function _uploadFiles(inputId, outputId) {\n",
              "  const steps = uploadFilesStep(inputId, outputId);\n",
              "  const outputElement = document.getElementById(outputId);\n",
              "  // Cache steps on the outputElement to make it available for the next call\n",
              "  // to uploadFilesContinue from Python.\n",
              "  outputElement.steps = steps;\n",
              "\n",
              "  return _uploadFilesContinue(outputId);\n",
              "}\n",
              "\n",
              "// This is roughly an async generator (not supported in the browser yet),\n",
              "// where there are multiple asynchronous steps and the Python side is going\n",
              "// to poll for completion of each step.\n",
              "// This uses a Promise to block the python side on completion of each step,\n",
              "// then passes the result of the previous step as the input to the next step.\n",
              "function _uploadFilesContinue(outputId) {\n",
              "  const outputElement = document.getElementById(outputId);\n",
              "  const steps = outputElement.steps;\n",
              "\n",
              "  const next = steps.next(outputElement.lastPromiseValue);\n",
              "  return Promise.resolve(next.value.promise).then((value) => {\n",
              "    // Cache the last promise value to make it available to the next\n",
              "    // step of the generator.\n",
              "    outputElement.lastPromiseValue = value;\n",
              "    return next.value.response;\n",
              "  });\n",
              "}\n",
              "\n",
              "/**\n",
              " * Generator function which is called between each async step of the upload\n",
              " * process.\n",
              " * @param {string} inputId Element ID of the input file picker element.\n",
              " * @param {string} outputId Element ID of the output display.\n",
              " * @return {!Iterable<!Object>} Iterable of next steps.\n",
              " */\n",
              "function* uploadFilesStep(inputId, outputId) {\n",
              "  const inputElement = document.getElementById(inputId);\n",
              "  inputElement.disabled = false;\n",
              "\n",
              "  const outputElement = document.getElementById(outputId);\n",
              "  outputElement.innerHTML = '';\n",
              "\n",
              "  const pickedPromise = new Promise((resolve) => {\n",
              "    inputElement.addEventListener('change', (e) => {\n",
              "      resolve(e.target.files);\n",
              "    });\n",
              "  });\n",
              "\n",
              "  const cancel = document.createElement('button');\n",
              "  inputElement.parentElement.appendChild(cancel);\n",
              "  cancel.textContent = 'Cancel upload';\n",
              "  const cancelPromise = new Promise((resolve) => {\n",
              "    cancel.onclick = () => {\n",
              "      resolve(null);\n",
              "    };\n",
              "  });\n",
              "\n",
              "  // Wait for the user to pick the files.\n",
              "  const files = yield {\n",
              "    promise: Promise.race([pickedPromise, cancelPromise]),\n",
              "    response: {\n",
              "      action: 'starting',\n",
              "    }\n",
              "  };\n",
              "\n",
              "  cancel.remove();\n",
              "\n",
              "  // Disable the input element since further picks are not allowed.\n",
              "  inputElement.disabled = true;\n",
              "\n",
              "  if (!files) {\n",
              "    return {\n",
              "      response: {\n",
              "        action: 'complete',\n",
              "      }\n",
              "    };\n",
              "  }\n",
              "\n",
              "  for (const file of files) {\n",
              "    const li = document.createElement('li');\n",
              "    li.append(span(file.name, {fontWeight: 'bold'}));\n",
              "    li.append(span(\n",
              "        `(${file.type || 'n/a'}) - ${file.size} bytes, ` +\n",
              "        `last modified: ${\n",
              "            file.lastModifiedDate ? file.lastModifiedDate.toLocaleDateString() :\n",
              "                                    'n/a'} - `));\n",
              "    const percent = span('0% done');\n",
              "    li.appendChild(percent);\n",
              "\n",
              "    outputElement.appendChild(li);\n",
              "\n",
              "    const fileDataPromise = new Promise((resolve) => {\n",
              "      const reader = new FileReader();\n",
              "      reader.onload = (e) => {\n",
              "        resolve(e.target.result);\n",
              "      };\n",
              "      reader.readAsArrayBuffer(file);\n",
              "    });\n",
              "    // Wait for the data to be ready.\n",
              "    let fileData = yield {\n",
              "      promise: fileDataPromise,\n",
              "      response: {\n",
              "        action: 'continue',\n",
              "      }\n",
              "    };\n",
              "\n",
              "    // Use a chunked sending to avoid message size limits. See b/62115660.\n",
              "    let position = 0;\n",
              "    do {\n",
              "      const length = Math.min(fileData.byteLength - position, MAX_PAYLOAD_SIZE);\n",
              "      const chunk = new Uint8Array(fileData, position, length);\n",
              "      position += length;\n",
              "\n",
              "      const base64 = btoa(String.fromCharCode.apply(null, chunk));\n",
              "      yield {\n",
              "        response: {\n",
              "          action: 'append',\n",
              "          file: file.name,\n",
              "          data: base64,\n",
              "        },\n",
              "      };\n",
              "\n",
              "      let percentDone = fileData.byteLength === 0 ?\n",
              "          100 :\n",
              "          Math.round((position / fileData.byteLength) * 100);\n",
              "      percent.textContent = `${percentDone}% done`;\n",
              "\n",
              "    } while (position < fileData.byteLength);\n",
              "  }\n",
              "\n",
              "  // All done.\n",
              "  yield {\n",
              "    response: {\n",
              "      action: 'complete',\n",
              "    }\n",
              "  };\n",
              "}\n",
              "\n",
              "scope.google = scope.google || {};\n",
              "scope.google.colab = scope.google.colab || {};\n",
              "scope.google.colab._files = {\n",
              "  _uploadFiles,\n",
              "  _uploadFilesContinue,\n",
              "};\n",
              "})(self);\n",
              "</script> "
            ]
          },
          "metadata": {}
        },
        {
          "output_type": "stream",
          "name": "stdout",
          "text": [
            "Saving kaggle.json to kaggle.json\n"
          ]
        },
        {
          "output_type": "execute_result",
          "data": {
            "text/plain": [
              "{'kaggle.json': b'{\"username\":\"shreyash24324021\",\"key\":\"d7cee66ce8766696612dad63304c02bc\"}'}"
            ]
          },
          "metadata": {},
          "execution_count": 1
        }
      ],
      "source": [
        "from google.colab import files\n",
        "files.upload()  # Upload kaggle.json here when prompted\n"
      ]
    },
    {
      "cell_type": "code",
      "execution_count": 2,
      "metadata": {
        "colab": {
          "base_uri": "https://localhost:8080/"
        },
        "id": "Es7Y9Wi5bQey",
        "outputId": "1948d3dc-0e20-4b27-a1d6-f6225ae00c42"
      },
      "outputs": [
        {
          "output_type": "stream",
          "name": "stdout",
          "text": [
            "Dataset URL: https://www.kaggle.com/datasets/uwrfkaggler/ravdess-emotional-speech-audio\n",
            "License(s): CC-BY-NC-SA-4.0\n",
            "Downloading ravdess-emotional-speech-audio.zip to /content\n",
            " 93% 400M/429M [00:00<00:00, 442MB/s]\n",
            "100% 429M/429M [00:00<00:00, 500MB/s]\n",
            "Dataset URL: https://www.kaggle.com/datasets/uwrfkaggler/ravdess-emotional-song-audio\n",
            "License(s): CC-BY-NC-SA-4.0\n",
            "Downloading ravdess-emotional-song-audio.zip to /content\n",
            " 90% 409M/456M [00:00<00:00, 461MB/s]\n",
            "100% 456M/456M [00:00<00:00, 491MB/s]\n"
          ]
        }
      ],
      "source": [
        "import os\n",
        "\n",
        "os.makedirs(\"/root/.kaggle\", exist_ok=True)\n",
        "!mv kaggle.json /root/.kaggle/\n",
        "!chmod 600 /root/.kaggle/kaggle.json\n",
        "!kaggle datasets download -d uwrfkaggler/ravdess-emotional-speech-audio\n",
        "!kaggle datasets download -d uwrfkaggler/ravdess-emotional-song-audio\n"
      ]
    },
    {
      "cell_type": "code",
      "execution_count": 3,
      "metadata": {
        "id": "JYtpEGoTcuY9"
      },
      "outputs": [],
      "source": [
        "import zipfile\n",
        "with zipfile.ZipFile(\"/content/ravdess-emotional-speech-audio.zip\", 'r') as zip_ref:\n",
        "    zip_ref.extractall(\"/content/ravdess_speech\")\n",
        "\n",
        "with zipfile.ZipFile(\"/content/ravdess-emotional-song-audio.zip\", 'r') as zip_ref:\n",
        "    zip_ref.extractall(\"/content/ravdess_song\")"
      ]
    },
    {
      "cell_type": "markdown",
      "source": [
        "**Preprocessing**"
      ],
      "metadata": {
        "id": "rSSh3HBD1FDG"
      }
    },
    {
      "cell_type": "code",
      "execution_count": 4,
      "metadata": {
        "id": "_8usS90LdEAg"
      },
      "outputs": [],
      "source": [
        "import os\n",
        "import numpy as np\n",
        "import pandas as pd\n",
        "import librosa\n",
        "from sklearn.model_selection import train_test_split\n",
        "from sklearn.preprocessing import OneHotEncoder\n",
        "from sklearn.preprocessing import StandardScaler\n",
        "from sklearn.utils.class_weight import compute_class_weight\n",
        "from sklearn.preprocessing import LabelEncoder\n",
        "from tensorflow.keras.utils import to_categorical\n",
        "import tensorflow as tf\n",
        "from sklearn.metrics import classification_report, confusion_matrix\n",
        "import seaborn as sns\n",
        "import matplotlib.pyplot as plt\n",
        "import joblib\n",
        "import seaborn as sns\n"
      ]
    },
    {
      "cell_type": "code",
      "execution_count": 5,
      "metadata": {
        "id": "cEq2bWeidLwz"
      },
      "outputs": [],
      "source": [
        "def extract_emotion_features(filename, fixed_length=130):\n",
        "    y, sr = librosa.load(filename, duration=4, offset=0)\n",
        "    # MFCC + Delta\n",
        "    mfcc = librosa.feature.mfcc(y=y, sr=sr, n_mfcc=13)\n",
        "    mfcc = librosa.util.fix_length(mfcc, size=fixed_length, axis=1)\n",
        "\n",
        "    delta = librosa.feature.delta(mfcc)\n",
        "    delta = librosa.util.fix_length(delta, size=fixed_length, axis=1)\n",
        "\n",
        "    delta2 = librosa.feature.delta(mfcc, order=2)\n",
        "    delta2 = librosa.util.fix_length(delta2, size=fixed_length, axis=1)\n",
        "\n",
        "    # Chroma\n",
        "    chroma = librosa.feature.chroma_stft(y=y, sr=sr)\n",
        "    chroma = librosa.util.fix_length(chroma, size=fixed_length, axis=1)\n",
        "\n",
        "    # Spectral contrast\n",
        "    contrast = librosa.feature.spectral_contrast(y=y, sr=sr)\n",
        "    contrast = librosa.util.fix_length(contrast, size=fixed_length, axis=1)\n",
        "\n",
        "    # Zero-Crossing Rate\n",
        "    zcr = librosa.feature.zero_crossing_rate(y)\n",
        "    zcr = librosa.util.fix_length(zcr, size=fixed_length, axis=1)\n",
        "\n",
        "    # Spectral Bandwidth\n",
        "    bandwidth = librosa.feature.spectral_bandwidth(y=y, sr=sr)\n",
        "    bandwidth = librosa.util.fix_length(bandwidth, size=fixed_length, axis=1)\n",
        "\n",
        "    # Pitch using librosa's piptrack\n",
        "    pitches, magnitudes = librosa.piptrack(y=y, sr=sr)\n",
        "    pitch_track = np.mean(pitches, axis=0)\n",
        "    pitch_track = librosa.util.fix_length(pitch_track, size=fixed_length)\n",
        "    pitch_feature = np.expand_dims(pitch_track, axis=0)\n",
        "\n",
        "\n",
        "    # RMS energy\n",
        "    rms = librosa.feature.rms(y=y)\n",
        "    rms = librosa.util.fix_length(rms, size=fixed_length, axis=1)\n",
        "\n",
        "    # Concatenate all features\n",
        "    combined = np.concatenate((mfcc, delta,delta2, chroma, contrast, zcr, bandwidth, pitch_feature,rms), axis=0)\n",
        "\n",
        "    return combined.T  # Shape: (time_steps, features)"
      ]
    },
    {
      "cell_type": "code",
      "execution_count": 6,
      "metadata": {
        "colab": {
          "base_uri": "https://localhost:8080/"
        },
        "id": "OoFPxQuddOoM",
        "outputId": "507d6cee-d365-4eea-806a-129e060fd1aa"
      },
      "outputs": [
        {
          "output_type": "stream",
          "name": "stdout",
          "text": [
            "4904\n"
          ]
        }
      ],
      "source": [
        "def extract_label_from_filename(filename):\n",
        "    modality=int(filename.split('-')[1])\n",
        "    emotion_code = int(filename.split('-')[2])\n",
        "    emotion_map = {\n",
        "        1: 'neutral', 2: 'calm', 3: 'happy', 4: 'sad',\n",
        "        5: 'angry', 6: 'fearful', 7: 'disgust', 8: 'surprised'\n",
        "    }\n",
        "    emotion=emotion_map.get(emotion_code)\n",
        "    #return f\"{modality}_{emotion}\"\n",
        "    return emotion\n",
        "\n",
        "# Load file paths and labels\n",
        "file_paths = []\n",
        "labels = []\n",
        "\n",
        "for dirname, _, filenames in os.walk('/content'):\n",
        "    for filename in filenames:\n",
        "        if filename.endswith('.wav'):\n",
        "            label = extract_label_from_filename(filename)\n",
        "            if label:\n",
        "                path = os.path.join(dirname, filename)\n",
        "                file_paths.append(path)\n",
        "                labels.append(label)\n",
        "\n",
        "df = pd.DataFrame({'audio': file_paths, 'label': labels})\n",
        "print(len(file_paths))"
      ]
    },
    {
      "cell_type": "code",
      "execution_count": 7,
      "metadata": {
        "colab": {
          "base_uri": "https://localhost:8080/"
        },
        "id": "eVVof8aNrpFD",
        "outputId": "e791fcdb-6c68-4afe-d509-92bb22887e8b"
      },
      "outputs": [
        {
          "output_type": "stream",
          "name": "stdout",
          "text": [
            "(4904, 130, 62)\n"
          ]
        }
      ],
      "source": [
        "X_features = [extract_emotion_features(f) for f in df['audio']]\n",
        "X = np.array(X_features)\n",
        "print(X.shape)"
      ]
    },
    {
      "cell_type": "code",
      "source": [
        "sns.countplot(x='label', data=df, palette='bright')"
      ],
      "metadata": {
        "colab": {
          "base_uri": "https://localhost:8080/",
          "height": 553
        },
        "id": "zCQq36JByF4f",
        "outputId": "5981b393-6da0-40d7-af24-394b1208e617"
      },
      "execution_count": 31,
      "outputs": [
        {
          "output_type": "stream",
          "name": "stderr",
          "text": [
            "/tmp/ipython-input-31-2598841033.py:1: FutureWarning: \n",
            "\n",
            "Passing `palette` without assigning `hue` is deprecated and will be removed in v0.14.0. Assign the `x` variable to `hue` and set `legend=False` for the same effect.\n",
            "\n",
            "  sns.countplot(x='label', data=df, palette='bright')\n"
          ]
        },
        {
          "output_type": "execute_result",
          "data": {
            "text/plain": [
              "<Axes: xlabel='label', ylabel='count'>"
            ]
          },
          "metadata": {},
          "execution_count": 31
        },
        {
          "output_type": "display_data",
          "data": {
            "text/plain": [
              "<Figure size 640x480 with 1 Axes>"
            ],
            "image/png": "[encoded data removed]"
          },
          "metadata": {}
        }
      ]
    },
    {
      "cell_type": "code",
      "execution_count": 9,
      "metadata": {
        "colab": {
          "base_uri": "https://localhost:8080/"
        },
        "id": "SzmZaQTzrs3g",
        "outputId": "99676320-9362-4164-a9cd-b1b1b67a985c"
      },
      "outputs": [
        {
          "output_type": "stream",
          "name": "stdout",
          "text": [
            "{0: np.float64(0.8151595744680851), 1: np.float64(0.8151595744680851), 2: np.float64(1.5963541666666667), 3: np.float64(0.8151595744680851), 4: np.float64(0.8151595744680851), 5: np.float64(1.6303191489361701), 6: np.float64(0.8151595744680851), 7: np.float64(1.5963541666666667)}\n",
            "['angry' 'calm' 'disgust' 'fearful' 'happy' 'neutral' 'sad' 'surprised']\n"
          ]
        }
      ],
      "source": [
        "\n",
        "\n",
        "# Encoding labels to integers for class weighing\n",
        "le = LabelEncoder()\n",
        "y= le.fit_transform(df['label'])  # Integer labels for class_weight\n",
        "\n",
        "\n",
        "\n",
        "# Computing class weights\n",
        "class_weights = compute_class_weight(class_weight='balanced', classes=np.unique(y), y=y)\n",
        "class_weights = dict(enumerate(class_weights))\n",
        "print(class_weights)\n",
        "# One-hot encoding for model training\n",
        "y = to_categorical(y)\n",
        "print(le.classes_)"
      ]
    },
    {
      "cell_type": "code",
      "execution_count": 10,
      "metadata": {
        "id": "mi6Fl7lttqAx"
      },
      "outputs": [],
      "source": [
        "X_train, X_val, y_train, y_val = train_test_split(X, y, test_size=0.2, stratify=y, random_state=42)"
      ]
    },
    {
      "cell_type": "code",
      "execution_count": 11,
      "metadata": {
        "id": "Dvn9vwu3twI_"
      },
      "outputs": [],
      "source": [
        "from sklearn.preprocessing import StandardScaler\n",
        "import joblib\n",
        "\n",
        "def normalize_train_val(X_train, X_val):\n",
        "    # Flattening to 2D for scaler\n",
        "    num_train, t, f = X_train.shape\n",
        "    num_val = X_val.shape[0]\n",
        "\n",
        "    X_train_flat = X_train.reshape(-1, f)\n",
        "    X_val_flat = X_val.reshape(-1, f)\n",
        "\n",
        "    # Fitting scaler only on training data\n",
        "    scaler = StandardScaler()\n",
        "    X_train_scaled = scaler.fit_transform(X_train_flat)\n",
        "    X_val_scaled = scaler.transform(X_val_flat)\n",
        "\n",
        "    # Save the scaler for testscript and webapp\n",
        "    joblib.dump(scaler, 'scaler.pkl')\n",
        "\n",
        "    # Reshape back to original 3D shapes\n",
        "    X_train_scaled = X_train_scaled.reshape(num_train, t, f)\n",
        "    X_val_scaled = X_val_scaled.reshape(num_val, t, f)\n",
        "\n",
        "    return X_train_scaled, X_val_scaled\n"
      ]
    },
    {
      "cell_type": "code",
      "execution_count": 12,
      "metadata": {
        "id": "5S9dOP_ut1tJ",
        "colab": {
          "base_uri": "https://localhost:8080/"
        },
        "outputId": "20a5c621-9116-48e0-cf66-92a3e0e39516"
      },
      "outputs": [
        {
          "output_type": "stream",
          "name": "stdout",
          "text": [
            "(3923, 130, 62) (981, 130, 62)\n"
          ]
        }
      ],
      "source": [
        "\n",
        "\n",
        "X_train, X_val = normalize_train_val(X_train, X_val)\n",
        "print(X_train.shape, X_val.shape)\n",
        "\n"
      ]
    },
    {
      "cell_type": "markdown",
      "source": [
        "**Model Training**"
      ],
      "metadata": {
        "id": "YMQ0gb3K1ST4"
      }
    },
    {
      "cell_type": "code",
      "execution_count": 13,
      "metadata": {
        "id": "_-LfkOZut3N1",
        "colab": {
          "base_uri": "https://localhost:8080/"
        },
        "outputId": "1ee510e6-deae-4349-e855-de431917bd6f"
      },
      "outputs": [
        {
          "output_type": "stream",
          "name": "stderr",
          "text": [
            "/usr/local/lib/python3.11/dist-packages/keras/src/layers/convolutional/base_conv.py:107: UserWarning: Do not pass an `input_shape`/`input_dim` argument to a layer. When using Sequential models, prefer using an `Input(shape)` object as the first layer in the model instead.\n",
            "  super().__init__(activity_regularizer=activity_regularizer, **kwargs)\n"
          ]
        },
        {
          "output_type": "stream",
          "name": "stdout",
          "text": [
            "Epoch 1/200\n",
            "\u001b[1m123/123\u001b[0m \u001b[32m━━━━━━━━━━━━━━━━━━━━\u001b[0m\u001b[37m\u001b[0m \u001b[1m13s\u001b[0m 24ms/step - accuracy: 0.1822 - loss: 3.1997 - val_accuracy: 0.3109 - val_loss: 2.3367\n",
            "Epoch 2/200\n",
            "\u001b[1m123/123\u001b[0m \u001b[32m━━━━━━━━━━━━━━━━━━━━\u001b[0m\u001b[37m\u001b[0m \u001b[1m6s\u001b[0m 19ms/step - accuracy: 0.3121 - loss: 2.4690 - val_accuracy: 0.4363 - val_loss: 1.9820\n",
            "Epoch 3/200\n",
            "\u001b[1m123/123\u001b[0m \u001b[32m━━━━━━━━━━━━━━━━━━━━\u001b[0m\u001b[37m\u001b[0m \u001b[1m2s\u001b[0m 18ms/step - accuracy: 0.3878 - loss: 2.1762 - val_accuracy: 0.4822 - val_loss: 1.9085\n",
            "Epoch 4/200\n",
            "\u001b[1m123/123\u001b[0m \u001b[32m━━━━━━━━━━━━━━━━━━━━\u001b[0m\u001b[37m\u001b[0m \u001b[1m2s\u001b[0m 18ms/step - accuracy: 0.4596 - loss: 1.9324 - val_accuracy: 0.5739 - val_loss: 1.6412\n",
            "Epoch 5/200\n",
            "\u001b[1m123/123\u001b[0m \u001b[32m━━━━━━━━━━━━━━━━━━━━\u001b[0m\u001b[37m\u001b[0m \u001b[1m3s\u001b[0m 19ms/step - accuracy: 0.5477 - loss: 1.6990 - val_accuracy: 0.6453 - val_loss: 1.4528\n",
            "Epoch 6/200\n",
            "\u001b[1m123/123\u001b[0m \u001b[32m━━━━━━━━━━━━━━━━━━━━\u001b[0m\u001b[37m\u001b[0m \u001b[1m3s\u001b[0m 23ms/step - accuracy: 0.5992 - loss: 1.4936 - val_accuracy: 0.7543 - val_loss: 1.2054\n",
            "Epoch 7/200\n",
            "\u001b[1m123/123\u001b[0m \u001b[32m━━━━━━━━━━━━━━━━━━━━\u001b[0m\u001b[37m\u001b[0m \u001b[1m2s\u001b[0m 18ms/step - accuracy: 0.6687 - loss: 1.3507 - val_accuracy: 0.7482 - val_loss: 1.1808\n",
            "Epoch 8/200\n",
            "\u001b[1m123/123\u001b[0m \u001b[32m━━━━━━━━━━━━━━━━━━━━\u001b[0m\u001b[37m\u001b[0m \u001b[1m3s\u001b[0m 19ms/step - accuracy: 0.6963 - loss: 1.2748 - val_accuracy: 0.7859 - val_loss: 1.1008\n",
            "Epoch 9/200\n",
            "\u001b[1m123/123\u001b[0m \u001b[32m━━━━━━━━━━━━━━━━━━━━\u001b[0m\u001b[37m\u001b[0m \u001b[1m2s\u001b[0m 18ms/step - accuracy: 0.7653 - loss: 1.1192 - val_accuracy: 0.7951 - val_loss: 1.0321\n",
            "Epoch 10/200\n",
            "\u001b[1m123/123\u001b[0m \u001b[32m━━━━━━━━━━━━━━━━━━━━\u001b[0m\u001b[37m\u001b[0m \u001b[1m3s\u001b[0m 21ms/step - accuracy: 0.7807 - loss: 1.0315 - val_accuracy: 0.8206 - val_loss: 0.9883\n",
            "Epoch 11/200\n",
            "\u001b[1m123/123\u001b[0m \u001b[32m━━━━━━━━━━━━━━━━━━━━\u001b[0m\u001b[37m\u001b[0m \u001b[1m5s\u001b[0m 18ms/step - accuracy: 0.8147 - loss: 0.9873 - val_accuracy: 0.8522 - val_loss: 0.8144\n",
            "Epoch 12/200\n",
            "\u001b[1m123/123\u001b[0m \u001b[32m━━━━━━━━━━━━━━━━━━━━\u001b[0m\u001b[37m\u001b[0m \u001b[1m3s\u001b[0m 18ms/step - accuracy: 0.8305 - loss: 0.8972 - val_accuracy: 0.8797 - val_loss: 0.7522\n",
            "Epoch 13/200\n",
            "\u001b[1m123/123\u001b[0m \u001b[32m━━━━━━━━━━━━━━━━━━━━\u001b[0m\u001b[37m\u001b[0m \u001b[1m2s\u001b[0m 17ms/step - accuracy: 0.8509 - loss: 0.8235 - val_accuracy: 0.8736 - val_loss: 0.7924\n",
            "Epoch 14/200\n",
            "\u001b[1m123/123\u001b[0m \u001b[32m━━━━━━━━━━━━━━━━━━━━\u001b[0m\u001b[37m\u001b[0m \u001b[1m3s\u001b[0m 23ms/step - accuracy: 0.8592 - loss: 0.7673 - val_accuracy: 0.8767 - val_loss: 0.7156\n",
            "Epoch 15/200\n",
            "\u001b[1m123/123\u001b[0m \u001b[32m━━━━━━━━━━━━━━━━━━━━\u001b[0m\u001b[37m\u001b[0m \u001b[1m2s\u001b[0m 19ms/step - accuracy: 0.8769 - loss: 0.7216 - val_accuracy: 0.8991 - val_loss: 0.6949\n",
            "Epoch 16/200\n",
            "\u001b[1m123/123\u001b[0m \u001b[32m━━━━━━━━━━━━━━━━━━━━\u001b[0m\u001b[37m\u001b[0m \u001b[1m2s\u001b[0m 17ms/step - accuracy: 0.8682 - loss: 0.7221 - val_accuracy: 0.9052 - val_loss: 0.6664\n",
            "Epoch 17/200\n",
            "\u001b[1m123/123\u001b[0m \u001b[32m━━━━━━━━━━━━━━━━━━━━\u001b[0m\u001b[37m\u001b[0m \u001b[1m3s\u001b[0m 17ms/step - accuracy: 0.8845 - loss: 0.6678 - val_accuracy: 0.9113 - val_loss: 0.5975\n",
            "Epoch 18/200\n",
            "\u001b[1m123/123\u001b[0m \u001b[32m━━━━━━━━━━━━━━━━━━━━\u001b[0m\u001b[37m\u001b[0m \u001b[1m3s\u001b[0m 17ms/step - accuracy: 0.9073 - loss: 0.5913 - val_accuracy: 0.8848 - val_loss: 0.6368\n",
            "Epoch 19/200\n",
            "\u001b[1m123/123\u001b[0m \u001b[32m━━━━━━━━━━━━━━━━━━━━\u001b[0m\u001b[37m\u001b[0m \u001b[1m3s\u001b[0m 23ms/step - accuracy: 0.8882 - loss: 0.6452 - val_accuracy: 0.9083 - val_loss: 0.6003\n",
            "Epoch 20/200\n",
            "\u001b[1m123/123\u001b[0m \u001b[32m━━━━━━━━━━━━━━━━━━━━\u001b[0m\u001b[37m\u001b[0m \u001b[1m5s\u001b[0m 19ms/step - accuracy: 0.9009 - loss: 0.5907 - val_accuracy: 0.9246 - val_loss: 0.5111\n",
            "Epoch 21/200\n",
            "\u001b[1m123/123\u001b[0m \u001b[32m━━━━━━━━━━━━━━━━━━━━\u001b[0m\u001b[37m\u001b[0m \u001b[1m2s\u001b[0m 17ms/step - accuracy: 0.9324 - loss: 0.4928 - val_accuracy: 0.9399 - val_loss: 0.4474\n",
            "Epoch 22/200\n",
            "\u001b[1m123/123\u001b[0m \u001b[32m━━━━━━━━━━━━━━━━━━━━\u001b[0m\u001b[37m\u001b[0m \u001b[1m2s\u001b[0m 18ms/step - accuracy: 0.9334 - loss: 0.4612 - val_accuracy: 0.9490 - val_loss: 0.4488\n",
            "Epoch 23/200\n",
            "\u001b[1m123/123\u001b[0m \u001b[32m━━━━━━━━━━━━━━━━━━━━\u001b[0m\u001b[37m\u001b[0m \u001b[1m3s\u001b[0m 22ms/step - accuracy: 0.9284 - loss: 0.4662 - val_accuracy: 0.9103 - val_loss: 0.5622\n",
            "Epoch 24/200\n",
            "\u001b[1m123/123\u001b[0m \u001b[32m━━━━━━━━━━━━━━━━━━━━\u001b[0m\u001b[37m\u001b[0m \u001b[1m5s\u001b[0m 18ms/step - accuracy: 0.9305 - loss: 0.4616 - val_accuracy: 0.9297 - val_loss: 0.4432\n",
            "Epoch 25/200\n",
            "\u001b[1m123/123\u001b[0m \u001b[32m━━━━━━━━━━━━━━━━━━━━\u001b[0m\u001b[37m\u001b[0m \u001b[1m3s\u001b[0m 19ms/step - accuracy: 0.9251 - loss: 0.4447 - val_accuracy: 0.9480 - val_loss: 0.3895\n",
            "Epoch 26/200\n",
            "\u001b[1m123/123\u001b[0m \u001b[32m━━━━━━━━━━━━━━━━━━━━\u001b[0m\u001b[37m\u001b[0m \u001b[1m3s\u001b[0m 19ms/step - accuracy: 0.9316 - loss: 0.4189 - val_accuracy: 0.9551 - val_loss: 0.3699\n",
            "Epoch 27/200\n",
            "\u001b[1m123/123\u001b[0m \u001b[32m━━━━━━━━━━━━━━━━━━━━\u001b[0m\u001b[37m\u001b[0m \u001b[1m3s\u001b[0m 21ms/step - accuracy: 0.9380 - loss: 0.4000 - val_accuracy: 0.9439 - val_loss: 0.4016\n",
            "Epoch 28/200\n",
            "\u001b[1m123/123\u001b[0m \u001b[32m━━━━━━━━━━━━━━━━━━━━\u001b[0m\u001b[37m\u001b[0m \u001b[1m2s\u001b[0m 17ms/step - accuracy: 0.9333 - loss: 0.4005 - val_accuracy: 0.9450 - val_loss: 0.3919\n",
            "Epoch 29/200\n",
            "\u001b[1m123/123\u001b[0m \u001b[32m━━━━━━━━━━━━━━━━━━━━\u001b[0m\u001b[37m\u001b[0m \u001b[1m2s\u001b[0m 17ms/step - accuracy: 0.9403 - loss: 0.3727 - val_accuracy: 0.9511 - val_loss: 0.3658\n",
            "Epoch 30/200\n",
            "\u001b[1m123/123\u001b[0m \u001b[32m━━━━━━━━━━━━━━━━━━━━\u001b[0m\u001b[37m\u001b[0m \u001b[1m3s\u001b[0m 17ms/step - accuracy: 0.9403 - loss: 0.3730 - val_accuracy: 0.9572 - val_loss: 0.3407\n",
            "Epoch 31/200\n",
            "\u001b[1m123/123\u001b[0m \u001b[32m━━━━━━━━━━━━━━━━━━━━\u001b[0m\u001b[37m\u001b[0m \u001b[1m3s\u001b[0m 20ms/step - accuracy: 0.9523 - loss: 0.3235 - val_accuracy: 0.9541 - val_loss: 0.4081\n",
            "Epoch 32/200\n",
            "\u001b[1m123/123\u001b[0m \u001b[32m━━━━━━━━━━━━━━━━━━━━\u001b[0m\u001b[37m\u001b[0m \u001b[1m2s\u001b[0m 20ms/step - accuracy: 0.9563 - loss: 0.3084 - val_accuracy: 0.9511 - val_loss: 0.3476\n",
            "Epoch 33/200\n",
            "\u001b[1m123/123\u001b[0m \u001b[32m━━━━━━━━━━━━━━━━━━━━\u001b[0m\u001b[37m\u001b[0m \u001b[1m2s\u001b[0m 17ms/step - accuracy: 0.9534 - loss: 0.3049 - val_accuracy: 0.9551 - val_loss: 0.2896\n",
            "Epoch 34/200\n",
            "\u001b[1m123/123\u001b[0m \u001b[32m━━━━━━━━━━━━━━━━━━━━\u001b[0m\u001b[37m\u001b[0m \u001b[1m3s\u001b[0m 18ms/step - accuracy: 0.9407 - loss: 0.3192 - val_accuracy: 0.9602 - val_loss: 0.2861\n",
            "Epoch 35/200\n",
            "\u001b[1m123/123\u001b[0m \u001b[32m━━━━━━━━━━━━━━━━━━━━\u001b[0m\u001b[37m\u001b[0m \u001b[1m2s\u001b[0m 17ms/step - accuracy: 0.9418 - loss: 0.3211 - val_accuracy: 0.9511 - val_loss: 0.3614\n",
            "Epoch 36/200\n",
            "\u001b[1m123/123\u001b[0m \u001b[32m━━━━━━━━━━━━━━━━━━━━\u001b[0m\u001b[37m\u001b[0m \u001b[1m2s\u001b[0m 20ms/step - accuracy: 0.9453 - loss: 0.3158 - val_accuracy: 0.9633 - val_loss: 0.2896\n",
            "Epoch 37/200\n",
            "\u001b[1m123/123\u001b[0m \u001b[32m━━━━━━━━━━━━━━━━━━━━\u001b[0m\u001b[37m\u001b[0m \u001b[1m3s\u001b[0m 20ms/step - accuracy: 0.9553 - loss: 0.2805 - val_accuracy: 0.9694 - val_loss: 0.2616\n",
            "Epoch 38/200\n",
            "\u001b[1m123/123\u001b[0m \u001b[32m━━━━━━━━━━━━━━━━━━━━\u001b[0m\u001b[37m\u001b[0m \u001b[1m2s\u001b[0m 17ms/step - accuracy: 0.9526 - loss: 0.2862 - val_accuracy: 0.9501 - val_loss: 0.3059\n",
            "Epoch 39/200\n",
            "\u001b[1m123/123\u001b[0m \u001b[32m━━━━━━━━━━━━━━━━━━━━\u001b[0m\u001b[37m\u001b[0m \u001b[1m2s\u001b[0m 18ms/step - accuracy: 0.9582 - loss: 0.2639 - val_accuracy: 0.9643 - val_loss: 0.2913\n",
            "Epoch 40/200\n",
            "\u001b[1m123/123\u001b[0m \u001b[32m━━━━━━━━━━━━━━━━━━━━\u001b[0m\u001b[37m\u001b[0m \u001b[1m2s\u001b[0m 18ms/step - accuracy: 0.9598 - loss: 0.2468 - val_accuracy: 0.9633 - val_loss: 0.2631\n",
            "Epoch 41/200\n",
            "\u001b[1m123/123\u001b[0m \u001b[32m━━━━━━━━━━━━━━━━━━━━\u001b[0m\u001b[37m\u001b[0m \u001b[1m3s\u001b[0m 20ms/step - accuracy: 0.9567 - loss: 0.2589 - val_accuracy: 0.9633 - val_loss: 0.3108\n",
            "Epoch 42/200\n",
            "\u001b[1m123/123\u001b[0m \u001b[32m━━━━━━━━━━━━━━━━━━━━\u001b[0m\u001b[37m\u001b[0m \u001b[1m3s\u001b[0m 21ms/step - accuracy: 0.9549 - loss: 0.2538 - val_accuracy: 0.9541 - val_loss: 0.3407\n",
            "Epoch 43/200\n",
            "\u001b[1m123/123\u001b[0m \u001b[32m━━━━━━━━━━━━━━━━━━━━\u001b[0m\u001b[37m\u001b[0m \u001b[1m5s\u001b[0m 18ms/step - accuracy: 0.9476 - loss: 0.2996 - val_accuracy: 0.9613 - val_loss: 0.2919\n",
            "Epoch 44/200\n",
            "\u001b[1m123/123\u001b[0m \u001b[32m━━━━━━━━━━━━━━━━━━━━\u001b[0m\u001b[37m\u001b[0m \u001b[1m2s\u001b[0m 17ms/step - accuracy: 0.9527 - loss: 0.2516 - val_accuracy: 0.9623 - val_loss: 0.2717\n",
            "Epoch 45/200\n",
            "\u001b[1m123/123\u001b[0m \u001b[32m━━━━━━━━━━━━━━━━━━━━\u001b[0m\u001b[37m\u001b[0m \u001b[1m3s\u001b[0m 21ms/step - accuracy: 0.9705 - loss: 0.2155 - val_accuracy: 0.9592 - val_loss: 0.2739\n",
            "Epoch 46/200\n",
            "\u001b[1m123/123\u001b[0m \u001b[32m━━━━━━━━━━━━━━━━━━━━\u001b[0m\u001b[37m\u001b[0m \u001b[1m3s\u001b[0m 20ms/step - accuracy: 0.9699 - loss: 0.2069 - val_accuracy: 0.9664 - val_loss: 0.2216\n",
            "Epoch 47/200\n",
            "\u001b[1m123/123\u001b[0m \u001b[32m━━━━━━━━━━━━━━━━━━━━\u001b[0m\u001b[37m\u001b[0m \u001b[1m2s\u001b[0m 18ms/step - accuracy: 0.9679 - loss: 0.2130 - val_accuracy: 0.9613 - val_loss: 0.2718\n",
            "Epoch 48/200\n",
            "\u001b[1m123/123\u001b[0m \u001b[32m━━━━━━━━━━━━━━━━━━━━\u001b[0m\u001b[37m\u001b[0m \u001b[1m2s\u001b[0m 17ms/step - accuracy: 0.9605 - loss: 0.2136 - val_accuracy: 0.9684 - val_loss: 0.2987\n",
            "Epoch 49/200\n",
            "\u001b[1m123/123\u001b[0m \u001b[32m━━━━━━━━━━━━━━━━━━━━\u001b[0m\u001b[37m\u001b[0m \u001b[1m2s\u001b[0m 18ms/step - accuracy: 0.9711 - loss: 0.1901 - val_accuracy: 0.9613 - val_loss: 0.2687\n",
            "Epoch 50/200\n",
            "\u001b[1m123/123\u001b[0m \u001b[32m━━━━━━━━━━━━━━━━━━━━\u001b[0m\u001b[37m\u001b[0m \u001b[1m3s\u001b[0m 23ms/step - accuracy: 0.9646 - loss: 0.2085 - val_accuracy: 0.9582 - val_loss: 0.2507\n",
            "Epoch 51/200\n",
            "\u001b[1m123/123\u001b[0m \u001b[32m━━━━━━━━━━━━━━━━━━━━\u001b[0m\u001b[37m\u001b[0m \u001b[1m5s\u001b[0m 19ms/step - accuracy: 0.9648 - loss: 0.2302 - val_accuracy: 0.9541 - val_loss: 0.3057\n",
            "Epoch 52/200\n",
            "\u001b[1m123/123\u001b[0m \u001b[32m━━━━━━━━━━━━━━━━━━━━\u001b[0m\u001b[37m\u001b[0m \u001b[1m2s\u001b[0m 17ms/step - accuracy: 0.9609 - loss: 0.2090 - val_accuracy: 0.9643 - val_loss: 0.2636\n",
            "Epoch 53/200\n",
            "\u001b[1m123/123\u001b[0m \u001b[32m━━━━━━━━━━━━━━━━━━━━\u001b[0m\u001b[37m\u001b[0m \u001b[1m2s\u001b[0m 17ms/step - accuracy: 0.9668 - loss: 0.2012 - val_accuracy: 0.9460 - val_loss: 0.3189\n",
            "Epoch 54/200\n",
            "\u001b[1m123/123\u001b[0m \u001b[32m━━━━━━━━━━━━━━━━━━━━\u001b[0m\u001b[37m\u001b[0m \u001b[1m3s\u001b[0m 23ms/step - accuracy: 0.9600 - loss: 0.2265 - val_accuracy: 0.9674 - val_loss: 0.2278\n",
            "Epoch 55/200\n",
            "\u001b[1m123/123\u001b[0m \u001b[32m━━━━━━━━━━━━━━━━━━━━\u001b[0m\u001b[37m\u001b[0m \u001b[1m5s\u001b[0m 19ms/step - accuracy: 0.9758 - loss: 0.1825 - val_accuracy: 0.9582 - val_loss: 0.2563\n",
            "Epoch 56/200\n",
            "\u001b[1m123/123\u001b[0m \u001b[32m━━━━━━━━━━━━━━━━━━━━\u001b[0m\u001b[37m\u001b[0m \u001b[1m2s\u001b[0m 17ms/step - accuracy: 0.9687 - loss: 0.1926 - val_accuracy: 0.9643 - val_loss: 0.2255\n",
            "Epoch 57/200\n",
            "\u001b[1m123/123\u001b[0m \u001b[32m━━━━━━━━━━━━━━━━━━━━\u001b[0m\u001b[37m\u001b[0m \u001b[1m2s\u001b[0m 19ms/step - accuracy: 0.9670 - loss: 0.2055 - val_accuracy: 0.9572 - val_loss: 0.2980\n",
            "Epoch 58/200\n",
            "\u001b[1m123/123\u001b[0m \u001b[32m━━━━━━━━━━━━━━━━━━━━\u001b[0m\u001b[37m\u001b[0m \u001b[1m3s\u001b[0m 24ms/step - accuracy: 0.9687 - loss: 0.2102 - val_accuracy: 0.9572 - val_loss: 0.2568\n",
            "Epoch 59/200\n",
            "\u001b[1m123/123\u001b[0m \u001b[32m━━━━━━━━━━━━━━━━━━━━\u001b[0m\u001b[37m\u001b[0m \u001b[1m5s\u001b[0m 19ms/step - accuracy: 0.9616 - loss: 0.2170 - val_accuracy: 0.9704 - val_loss: 0.2429\n",
            "Epoch 60/200\n",
            "\u001b[1m123/123\u001b[0m \u001b[32m━━━━━━━━━━━━━━━━━━━━\u001b[0m\u001b[37m\u001b[0m \u001b[1m2s\u001b[0m 18ms/step - accuracy: 0.9661 - loss: 0.2031 - val_accuracy: 0.9715 - val_loss: 0.1943\n",
            "Epoch 61/200\n",
            "\u001b[1m123/123\u001b[0m \u001b[32m━━━━━━━━━━━━━━━━━━━━\u001b[0m\u001b[37m\u001b[0m \u001b[1m2s\u001b[0m 19ms/step - accuracy: 0.9578 - loss: 0.2560 - val_accuracy: 0.9521 - val_loss: 0.3253\n",
            "Epoch 62/200\n",
            "\u001b[1m123/123\u001b[0m \u001b[32m━━━━━━━━━━━━━━━━━━━━\u001b[0m\u001b[37m\u001b[0m \u001b[1m3s\u001b[0m 22ms/step - accuracy: 0.9668 - loss: 0.1925 - val_accuracy: 0.9633 - val_loss: 0.3118\n",
            "Epoch 63/200\n",
            "\u001b[1m123/123\u001b[0m \u001b[32m━━━━━━━━━━━━━━━━━━━━\u001b[0m\u001b[37m\u001b[0m \u001b[1m2s\u001b[0m 20ms/step - accuracy: 0.9582 - loss: 0.2336 - val_accuracy: 0.9592 - val_loss: 0.2447\n",
            "Epoch 64/200\n",
            "\u001b[1m123/123\u001b[0m \u001b[32m━━━━━━━━━━━━━━━━━━━━\u001b[0m\u001b[37m\u001b[0m \u001b[1m2s\u001b[0m 17ms/step - accuracy: 0.9725 - loss: 0.1791 - val_accuracy: 0.9643 - val_loss: 0.2564\n",
            "Epoch 65/200\n",
            "\u001b[1m123/123\u001b[0m \u001b[32m━━━━━━━━━━━━━━━━━━━━\u001b[0m\u001b[37m\u001b[0m \u001b[1m2s\u001b[0m 18ms/step - accuracy: 0.9696 - loss: 0.1911 - val_accuracy: 0.9684 - val_loss: 0.2201\n",
            "Epoch 66/200\n",
            "\u001b[1m123/123\u001b[0m \u001b[32m━━━━━━━━━━━━━━━━━━━━\u001b[0m\u001b[37m\u001b[0m \u001b[1m3s\u001b[0m 18ms/step - accuracy: 0.9658 - loss: 0.1887 - val_accuracy: 0.9684 - val_loss: 0.2683\n",
            "Epoch 67/200\n",
            "\u001b[1m123/123\u001b[0m \u001b[32m━━━━━━━━━━━━━━━━━━━━\u001b[0m\u001b[37m\u001b[0m \u001b[1m3s\u001b[0m 24ms/step - accuracy: 0.9588 - loss: 0.2219 - val_accuracy: 0.9664 - val_loss: 0.2248\n",
            "Epoch 68/200\n",
            "\u001b[1m123/123\u001b[0m \u001b[32m━━━━━━━━━━━━━━━━━━━━\u001b[0m\u001b[37m\u001b[0m \u001b[1m2s\u001b[0m 18ms/step - accuracy: 0.9644 - loss: 0.2005 - val_accuracy: 0.9704 - val_loss: 0.2045\n",
            "Epoch 69/200\n",
            "\u001b[1m123/123\u001b[0m \u001b[32m━━━━━━━━━━━━━━━━━━━━\u001b[0m\u001b[37m\u001b[0m \u001b[1m3s\u001b[0m 18ms/step - accuracy: 0.9821 - loss: 0.1496 - val_accuracy: 0.9674 - val_loss: 0.2094\n",
            "Epoch 70/200\n",
            "\u001b[1m123/123\u001b[0m \u001b[32m━━━━━━━━━━━━━━━━━━━━\u001b[0m\u001b[37m\u001b[0m \u001b[1m2s\u001b[0m 17ms/step - accuracy: 0.9712 - loss: 0.1651 - val_accuracy: 0.9745 - val_loss: 0.1932\n",
            "Epoch 71/200\n",
            "\u001b[1m123/123\u001b[0m \u001b[32m━━━━━━━━━━━━━━━━━━━━\u001b[0m\u001b[37m\u001b[0m \u001b[1m3s\u001b[0m 17ms/step - accuracy: 0.9688 - loss: 0.1934 - val_accuracy: 0.9674 - val_loss: 0.2253\n",
            "Epoch 72/200\n",
            "\u001b[1m123/123\u001b[0m \u001b[32m━━━━━━━━━━━━━━━━━━━━\u001b[0m\u001b[37m\u001b[0m \u001b[1m3s\u001b[0m 25ms/step - accuracy: 0.9825 - loss: 0.1552 - val_accuracy: 0.9623 - val_loss: 0.2627\n",
            "Epoch 73/200\n",
            "\u001b[1m123/123\u001b[0m \u001b[32m━━━━━━━━━━━━━━━━━━━━\u001b[0m\u001b[37m\u001b[0m \u001b[1m2s\u001b[0m 18ms/step - accuracy: 0.9681 - loss: 0.1852 - val_accuracy: 0.9776 - val_loss: 0.2308\n",
            "Epoch 74/200\n",
            "\u001b[1m123/123\u001b[0m \u001b[32m━━━━━━━━━━━━━━━━━━━━\u001b[0m\u001b[37m\u001b[0m \u001b[1m2s\u001b[0m 18ms/step - accuracy: 0.9706 - loss: 0.1783 - val_accuracy: 0.9664 - val_loss: 0.2546\n",
            "Epoch 75/200\n",
            "\u001b[1m123/123\u001b[0m \u001b[32m━━━━━━━━━━━━━━━━━━━━\u001b[0m\u001b[37m\u001b[0m \u001b[1m2s\u001b[0m 17ms/step - accuracy: 0.9740 - loss: 0.1742 - val_accuracy: 0.9725 - val_loss: 0.1857\n",
            "Epoch 76/200\n",
            "\u001b[1m123/123\u001b[0m \u001b[32m━━━━━━━━━━━━━━━━━━━━\u001b[0m\u001b[37m\u001b[0m \u001b[1m3s\u001b[0m 17ms/step - accuracy: 0.9726 - loss: 0.1745 - val_accuracy: 0.9735 - val_loss: 0.2193\n",
            "Epoch 77/200\n",
            "\u001b[1m123/123\u001b[0m \u001b[32m━━━━━━━━━━━━━━━━━━━━\u001b[0m\u001b[37m\u001b[0m \u001b[1m3s\u001b[0m 23ms/step - accuracy: 0.9716 - loss: 0.1783 - val_accuracy: 0.9664 - val_loss: 0.2205\n",
            "Epoch 78/200\n",
            "\u001b[1m123/123\u001b[0m \u001b[32m━━━━━━━━━━━━━━━━━━━━\u001b[0m\u001b[37m\u001b[0m \u001b[1m4s\u001b[0m 18ms/step - accuracy: 0.9771 - loss: 0.1595 - val_accuracy: 0.9745 - val_loss: 0.2191\n",
            "Epoch 79/200\n",
            "\u001b[1m123/123\u001b[0m \u001b[32m━━━━━━━━━━━━━━━━━━━━\u001b[0m\u001b[37m\u001b[0m \u001b[1m2s\u001b[0m 17ms/step - accuracy: 0.9715 - loss: 0.1863 - val_accuracy: 0.9715 - val_loss: 0.2094\n",
            "Epoch 80/200\n",
            "\u001b[1m123/123\u001b[0m \u001b[32m━━━━━━━━━━━━━━━━━━━━\u001b[0m\u001b[37m\u001b[0m \u001b[1m3s\u001b[0m 20ms/step - accuracy: 0.9792 - loss: 0.1472 - val_accuracy: 0.9633 - val_loss: 0.2706\n",
            "Epoch 81/200\n",
            "\u001b[1m123/123\u001b[0m \u001b[32m━━━━━━━━━━━━━━━━━━━━\u001b[0m\u001b[37m\u001b[0m \u001b[1m3s\u001b[0m 22ms/step - accuracy: 0.9776 - loss: 0.1529 - val_accuracy: 0.9694 - val_loss: 0.2138\n",
            "Epoch 82/200\n",
            "\u001b[1m123/123\u001b[0m \u001b[32m━━━━━━━━━━━━━━━━━━━━\u001b[0m\u001b[37m\u001b[0m \u001b[1m5s\u001b[0m 18ms/step - accuracy: 0.9644 - loss: 0.1966 - val_accuracy: 0.9704 - val_loss: 0.2045\n",
            "Epoch 83/200\n",
            "\u001b[1m123/123\u001b[0m \u001b[32m━━━━━━━━━━━━━━━━━━━━\u001b[0m\u001b[37m\u001b[0m \u001b[1m3s\u001b[0m 18ms/step - accuracy: 0.9858 - loss: 0.1315 - val_accuracy: 0.9643 - val_loss: 0.2172\n",
            "Epoch 84/200\n",
            "\u001b[1m123/123\u001b[0m \u001b[32m━━━━━━━━━━━━━━━━━━━━\u001b[0m\u001b[37m\u001b[0m \u001b[1m3s\u001b[0m 22ms/step - accuracy: 0.9764 - loss: 0.1501 - val_accuracy: 0.9613 - val_loss: 0.2573\n",
            "Epoch 85/200\n",
            "\u001b[1m123/123\u001b[0m \u001b[32m━━━━━━━━━━━━━━━━━━━━\u001b[0m\u001b[37m\u001b[0m \u001b[1m5s\u001b[0m 18ms/step - accuracy: 0.9694 - loss: 0.1797 - val_accuracy: 0.9653 - val_loss: 0.2143\n",
            "Epoch 86/200\n",
            "\u001b[1m123/123\u001b[0m \u001b[32m━━━━━━━━━━━━━━━━━━━━\u001b[0m\u001b[37m\u001b[0m \u001b[1m2s\u001b[0m 17ms/step - accuracy: 0.9687 - loss: 0.1814 - val_accuracy: 0.9633 - val_loss: 0.2541\n",
            "Epoch 87/200\n",
            "\u001b[1m123/123\u001b[0m \u001b[32m━━━━━━━━━━━━━━━━━━━━\u001b[0m\u001b[37m\u001b[0m \u001b[1m2s\u001b[0m 17ms/step - accuracy: 0.9740 - loss: 0.1800 - val_accuracy: 0.9766 - val_loss: 0.2113\n",
            "Epoch 88/200\n",
            "\u001b[1m123/123\u001b[0m \u001b[32m━━━━━━━━━━━━━━━━━━━━\u001b[0m\u001b[37m\u001b[0m \u001b[1m3s\u001b[0m 20ms/step - accuracy: 0.9746 - loss: 0.1755 - val_accuracy: 0.9684 - val_loss: 0.1867\n",
            "Epoch 89/200\n",
            "\u001b[1m123/123\u001b[0m \u001b[32m━━━━━━━━━━━━━━━━━━━━\u001b[0m\u001b[37m\u001b[0m \u001b[1m3s\u001b[0m 21ms/step - accuracy: 0.9811 - loss: 0.1426 - val_accuracy: 0.9653 - val_loss: 0.2322\n",
            "Epoch 90/200\n",
            "\u001b[1m123/123\u001b[0m \u001b[32m━━━━━━━━━━━━━━━━━━━━\u001b[0m\u001b[37m\u001b[0m \u001b[1m5s\u001b[0m 19ms/step - accuracy: 0.9773 - loss: 0.1520 - val_accuracy: 0.9745 - val_loss: 0.1657\n",
            "Epoch 91/200\n",
            "\u001b[1m123/123\u001b[0m \u001b[32m━━━━━━━━━━━━━━━━━━━━\u001b[0m\u001b[37m\u001b[0m \u001b[1m2s\u001b[0m 17ms/step - accuracy: 0.9807 - loss: 0.1358 - val_accuracy: 0.9755 - val_loss: 0.1873\n",
            "Epoch 92/200\n",
            "\u001b[1m123/123\u001b[0m \u001b[32m━━━━━━━━━━━━━━━━━━━━\u001b[0m\u001b[37m\u001b[0m \u001b[1m3s\u001b[0m 22ms/step - accuracy: 0.9856 - loss: 0.1192 - val_accuracy: 0.9847 - val_loss: 0.1843\n",
            "Epoch 93/200\n",
            "\u001b[1m123/123\u001b[0m \u001b[32m━━━━━━━━━━━━━━━━━━━━\u001b[0m\u001b[37m\u001b[0m \u001b[1m2s\u001b[0m 20ms/step - accuracy: 0.9826 - loss: 0.1452 - val_accuracy: 0.9745 - val_loss: 0.2018\n",
            "Epoch 94/200\n",
            "\u001b[1m123/123\u001b[0m \u001b[32m━━━━━━━━━━━━━━━━━━━━\u001b[0m\u001b[37m\u001b[0m \u001b[1m2s\u001b[0m 18ms/step - accuracy: 0.9759 - loss: 0.1581 - val_accuracy: 0.9725 - val_loss: 0.2034\n",
            "Epoch 95/200\n",
            "\u001b[1m123/123\u001b[0m \u001b[32m━━━━━━━━━━━━━━━━━━━━\u001b[0m\u001b[37m\u001b[0m \u001b[1m2s\u001b[0m 17ms/step - accuracy: 0.9674 - loss: 0.1757 - val_accuracy: 0.9664 - val_loss: 0.2106\n",
            "Epoch 96/200\n",
            "\u001b[1m123/123\u001b[0m \u001b[32m━━━━━━━━━━━━━━━━━━━━\u001b[0m\u001b[37m\u001b[0m \u001b[1m2s\u001b[0m 17ms/step - accuracy: 0.9721 - loss: 0.2178 - val_accuracy: 0.9653 - val_loss: 0.2824\n",
            "Epoch 97/200\n",
            "\u001b[1m123/123\u001b[0m \u001b[32m━━━━━━━━━━━━━━━━━━━━\u001b[0m\u001b[37m\u001b[0m \u001b[1m3s\u001b[0m 23ms/step - accuracy: 0.9810 - loss: 0.1460 - val_accuracy: 0.9674 - val_loss: 0.2423\n",
            "Epoch 98/200\n",
            "\u001b[1m123/123\u001b[0m \u001b[32m━━━━━━━━━━━━━━━━━━━━\u001b[0m\u001b[37m\u001b[0m \u001b[1m2s\u001b[0m 20ms/step - accuracy: 0.9853 - loss: 0.1325 - val_accuracy: 0.9633 - val_loss: 0.2286\n",
            "Epoch 99/200\n",
            "\u001b[1m123/123\u001b[0m \u001b[32m━━━━━━━━━━━━━━━━━━━━\u001b[0m\u001b[37m\u001b[0m \u001b[1m2s\u001b[0m 19ms/step - accuracy: 0.9700 - loss: 0.1866 - val_accuracy: 0.9684 - val_loss: 0.2460\n",
            "Epoch 100/200\n",
            "\u001b[1m123/123\u001b[0m \u001b[32m━━━━━━━━━━━━━━━━━━━━\u001b[0m\u001b[37m\u001b[0m \u001b[1m3s\u001b[0m 27ms/step - accuracy: 0.9713 - loss: 0.1653 - val_accuracy: 0.9694 - val_loss: 0.1892\n",
            "Epoch 101/200\n",
            "\u001b[1m123/123\u001b[0m \u001b[32m━━━━━━━━━━━━━━━━━━━━\u001b[0m\u001b[37m\u001b[0m \u001b[1m6s\u001b[0m 48ms/step - accuracy: 0.9786 - loss: 0.1527 - val_accuracy: 0.9664 - val_loss: 0.2276\n",
            "Epoch 102/200\n",
            "\u001b[1m123/123\u001b[0m \u001b[32m━━━━━━━━━━━━━━━━━━━━\u001b[0m\u001b[37m\u001b[0m \u001b[1m5s\u001b[0m 42ms/step - accuracy: 0.9683 - loss: 0.1714 - val_accuracy: 0.9684 - val_loss: 0.1954\n",
            "Epoch 103/200\n",
            "\u001b[1m123/123\u001b[0m \u001b[32m━━━━━━━━━━━━━━━━━━━━\u001b[0m\u001b[37m\u001b[0m \u001b[1m3s\u001b[0m 22ms/step - accuracy: 0.9750 - loss: 0.1746 - val_accuracy: 0.9684 - val_loss: 0.2577\n",
            "Epoch 104/200\n",
            "\u001b[1m123/123\u001b[0m \u001b[32m━━━━━━━━━━━━━━━━━━━━\u001b[0m\u001b[37m\u001b[0m \u001b[1m3s\u001b[0m 23ms/step - accuracy: 0.9736 - loss: 0.1674 - val_accuracy: 0.9664 - val_loss: 0.2328\n",
            "Epoch 105/200\n",
            "\u001b[1m123/123\u001b[0m \u001b[32m━━━━━━━━━━━━━━━━━━━━\u001b[0m\u001b[37m\u001b[0m \u001b[1m2s\u001b[0m 19ms/step - accuracy: 0.9720 - loss: 0.1709 - val_accuracy: 0.9664 - val_loss: 0.2240\n",
            "Epoch 106/200\n",
            "\u001b[1m123/123\u001b[0m \u001b[32m━━━━━━━━━━━━━━━━━━━━\u001b[0m\u001b[37m\u001b[0m \u001b[1m2s\u001b[0m 18ms/step - accuracy: 0.9803 - loss: 0.1485 - val_accuracy: 0.9674 - val_loss: 0.2175\n",
            "Epoch 107/200\n",
            "\u001b[1m123/123\u001b[0m \u001b[32m━━━━━━━━━━━━━━━━━━━━\u001b[0m\u001b[37m\u001b[0m \u001b[1m2s\u001b[0m 17ms/step - accuracy: 0.9783 - loss: 0.1519 - val_accuracy: 0.9755 - val_loss: 0.2055\n",
            "Epoch 108/200\n",
            "\u001b[1m123/123\u001b[0m \u001b[32m━━━━━━━━━━━━━━━━━━━━\u001b[0m\u001b[37m\u001b[0m \u001b[1m2s\u001b[0m 19ms/step - accuracy: 0.9806 - loss: 0.1501 - val_accuracy: 0.9735 - val_loss: 0.1993\n",
            "Epoch 109/200\n",
            "\u001b[1m123/123\u001b[0m \u001b[32m━━━━━━━━━━━━━━━━━━━━\u001b[0m\u001b[37m\u001b[0m \u001b[1m3s\u001b[0m 21ms/step - accuracy: 0.9830 - loss: 0.1457 - val_accuracy: 0.9715 - val_loss: 0.2059\n",
            "Epoch 110/200\n",
            "\u001b[1m123/123\u001b[0m \u001b[32m━━━━━━━━━━━━━━━━━━━━\u001b[0m\u001b[37m\u001b[0m \u001b[1m2s\u001b[0m 19ms/step - accuracy: 0.9799 - loss: 0.1430 - val_accuracy: 0.9776 - val_loss: 0.1799\n",
            "Epoch 111/200\n",
            "\u001b[1m123/123\u001b[0m \u001b[32m━━━━━━━━━━━━━━━━━━━━\u001b[0m\u001b[37m\u001b[0m \u001b[1m2s\u001b[0m 18ms/step - accuracy: 0.9851 - loss: 0.1180 - val_accuracy: 0.9735 - val_loss: 0.1868\n",
            "Epoch 112/200\n",
            "\u001b[1m123/123\u001b[0m \u001b[32m━━━━━━━━━━━━━━━━━━━━\u001b[0m\u001b[37m\u001b[0m \u001b[1m3s\u001b[0m 19ms/step - accuracy: 0.9800 - loss: 0.1400 - val_accuracy: 0.9796 - val_loss: 0.1790\n",
            "Epoch 113/200\n",
            "\u001b[1m123/123\u001b[0m \u001b[32m━━━━━━━━━━━━━━━━━━━━\u001b[0m\u001b[37m\u001b[0m \u001b[1m3s\u001b[0m 19ms/step - accuracy: 0.9790 - loss: 0.1506 - val_accuracy: 0.9704 - val_loss: 0.2073\n",
            "Epoch 114/200\n",
            "\u001b[1m123/123\u001b[0m \u001b[32m━━━━━━━━━━━━━━━━━━━━\u001b[0m\u001b[37m\u001b[0m \u001b[1m3s\u001b[0m 24ms/step - accuracy: 0.9740 - loss: 0.1539 - val_accuracy: 0.9653 - val_loss: 0.2475\n",
            "Epoch 115/200\n",
            "\u001b[1m123/123\u001b[0m \u001b[32m━━━━━━━━━━━━━━━━━━━━\u001b[0m\u001b[37m\u001b[0m \u001b[1m2s\u001b[0m 19ms/step - accuracy: 0.9848 - loss: 0.1218 - val_accuracy: 0.9704 - val_loss: 0.2242\n",
            "Epoch 116/200\n",
            "\u001b[1m123/123\u001b[0m \u001b[32m━━━━━━━━━━━━━━━━━━━━\u001b[0m\u001b[37m\u001b[0m \u001b[1m2s\u001b[0m 18ms/step - accuracy: 0.9822 - loss: 0.1231 - val_accuracy: 0.9776 - val_loss: 0.2378\n",
            "Epoch 117/200\n",
            "\u001b[1m123/123\u001b[0m \u001b[32m━━━━━━━━━━━━━━━━━━━━\u001b[0m\u001b[37m\u001b[0m \u001b[1m2s\u001b[0m 18ms/step - accuracy: 0.9843 - loss: 0.1253 - val_accuracy: 0.9725 - val_loss: 0.2315\n",
            "Epoch 118/200\n",
            "\u001b[1m123/123\u001b[0m \u001b[32m━━━━━━━━━━━━━━━━━━━━\u001b[0m\u001b[37m\u001b[0m \u001b[1m2s\u001b[0m 18ms/step - accuracy: 0.9848 - loss: 0.1291 - val_accuracy: 0.9776 - val_loss: 0.2130\n",
            "Epoch 119/200\n",
            "\u001b[1m123/123\u001b[0m \u001b[32m━━━━━━━━━━━━━━━━━━━━\u001b[0m\u001b[37m\u001b[0m \u001b[1m3s\u001b[0m 24ms/step - accuracy: 0.9771 - loss: 0.1481 - val_accuracy: 0.9684 - val_loss: 0.2407\n",
            "Epoch 120/200\n",
            "\u001b[1m123/123\u001b[0m \u001b[32m━━━━━━━━━━━━━━━━━━━━\u001b[0m\u001b[37m\u001b[0m \u001b[1m4s\u001b[0m 18ms/step - accuracy: 0.9704 - loss: 0.1752 - val_accuracy: 0.9766 - val_loss: 0.2305\n",
            "Epoch 121/200\n",
            "\u001b[1m123/123\u001b[0m \u001b[32m━━━━━━━━━━━━━━━━━━━━\u001b[0m\u001b[37m\u001b[0m \u001b[1m3s\u001b[0m 19ms/step - accuracy: 0.9738 - loss: 0.1660 - val_accuracy: 0.9643 - val_loss: 0.2318\n",
            "Epoch 122/200\n",
            "\u001b[1m123/123\u001b[0m \u001b[32m━━━━━━━━━━━━━━━━━━━━\u001b[0m\u001b[37m\u001b[0m \u001b[1m2s\u001b[0m 17ms/step - accuracy: 0.9796 - loss: 0.1409 - val_accuracy: 0.9623 - val_loss: 0.2165\n",
            "Epoch 123/200\n",
            "\u001b[1m123/123\u001b[0m \u001b[32m━━━━━━━━━━━━━━━━━━━━\u001b[0m\u001b[37m\u001b[0m \u001b[1m3s\u001b[0m 24ms/step - accuracy: 0.9790 - loss: 0.1516 - val_accuracy: 0.9664 - val_loss: 0.2162\n",
            "Epoch 124/200\n",
            "\u001b[1m123/123\u001b[0m \u001b[32m━━━━━━━━━━━━━━━━━━━━\u001b[0m\u001b[37m\u001b[0m \u001b[1m2s\u001b[0m 19ms/step - accuracy: 0.9747 - loss: 0.1584 - val_accuracy: 0.9755 - val_loss: 0.2171\n",
            "Epoch 125/200\n",
            "\u001b[1m123/123\u001b[0m \u001b[32m━━━━━━━━━━━━━━━━━━━━\u001b[0m\u001b[37m\u001b[0m \u001b[1m3s\u001b[0m 26ms/step - accuracy: 0.9856 - loss: 0.1159 - val_accuracy: 0.9725 - val_loss: 0.2159\n",
            "Epoch 126/200\n",
            "\u001b[1m123/123\u001b[0m \u001b[32m━━━━━━━━━━━━━━━━━━━━\u001b[0m\u001b[37m\u001b[0m \u001b[1m2s\u001b[0m 18ms/step - accuracy: 0.9861 - loss: 0.1221 - val_accuracy: 0.9704 - val_loss: 0.2112\n",
            "Epoch 127/200\n",
            "\u001b[1m123/123\u001b[0m \u001b[32m━━━━━━━━━━━━━━━━━━━━\u001b[0m\u001b[37m\u001b[0m \u001b[1m2s\u001b[0m 19ms/step - accuracy: 0.9843 - loss: 0.1348 - val_accuracy: 0.9735 - val_loss: 0.2226\n",
            "Epoch 128/200\n",
            "\u001b[1m123/123\u001b[0m \u001b[32m━━━━━━━━━━━━━━━━━━━━\u001b[0m\u001b[37m\u001b[0m \u001b[1m3s\u001b[0m 24ms/step - accuracy: 0.9690 - loss: 0.1499 - val_accuracy: 0.9664 - val_loss: 0.2216\n",
            "Epoch 129/200\n",
            "\u001b[1m123/123\u001b[0m \u001b[32m━━━━━━━━━━━━━━━━━━━━\u001b[0m\u001b[37m\u001b[0m \u001b[1m4s\u001b[0m 18ms/step - accuracy: 0.9867 - loss: 0.1302 - val_accuracy: 0.9725 - val_loss: 0.1818\n",
            "Epoch 130/200\n",
            "\u001b[1m123/123\u001b[0m \u001b[32m━━━━━━━━━━━━━━━━━━━━\u001b[0m\u001b[37m\u001b[0m \u001b[1m3s\u001b[0m 19ms/step - accuracy: 0.9825 - loss: 0.1373 - val_accuracy: 0.9735 - val_loss: 0.1886\n",
            "Epoch 131/200\n",
            "\u001b[1m123/123\u001b[0m \u001b[32m━━━━━━━━━━━━━━━━━━━━\u001b[0m\u001b[37m\u001b[0m \u001b[1m3s\u001b[0m 20ms/step - accuracy: 0.9815 - loss: 0.1342 - val_accuracy: 0.9806 - val_loss: 0.2240\n",
            "Epoch 132/200\n",
            "\u001b[1m123/123\u001b[0m \u001b[32m━━━━━━━━━━━━━━━━━━━━\u001b[0m\u001b[37m\u001b[0m \u001b[1m3s\u001b[0m 22ms/step - accuracy: 0.9803 - loss: 0.1422 - val_accuracy: 0.9684 - val_loss: 0.2212\n",
            "Epoch 133/200\n",
            "\u001b[1m123/123\u001b[0m \u001b[32m━━━━━━━━━━━━━━━━━━━━\u001b[0m\u001b[37m\u001b[0m \u001b[1m2s\u001b[0m 18ms/step - accuracy: 0.9791 - loss: 0.1437 - val_accuracy: 0.9745 - val_loss: 0.2098\n",
            "Epoch 134/200\n",
            "\u001b[1m123/123\u001b[0m \u001b[32m━━━━━━━━━━━━━━━━━━━━\u001b[0m\u001b[37m\u001b[0m \u001b[1m3s\u001b[0m 18ms/step - accuracy: 0.9750 - loss: 0.1693 - val_accuracy: 0.9755 - val_loss: 0.2112\n",
            "Epoch 135/200\n",
            "\u001b[1m123/123\u001b[0m \u001b[32m━━━━━━━━━━━━━━━━━━━━\u001b[0m\u001b[37m\u001b[0m \u001b[1m3s\u001b[0m 18ms/step - accuracy: 0.9826 - loss: 0.1475 - val_accuracy: 0.9725 - val_loss: 0.2204\n",
            "Epoch 136/200\n",
            "\u001b[1m123/123\u001b[0m \u001b[32m━━━━━━━━━━━━━━━━━━━━\u001b[0m\u001b[37m\u001b[0m \u001b[1m3s\u001b[0m 22ms/step - accuracy: 0.9843 - loss: 0.1476 - val_accuracy: 0.9602 - val_loss: 0.2293\n",
            "Epoch 137/200\n",
            "\u001b[1m123/123\u001b[0m \u001b[32m━━━━━━━━━━━━━━━━━━━━\u001b[0m\u001b[37m\u001b[0m \u001b[1m3s\u001b[0m 21ms/step - accuracy: 0.9853 - loss: 0.1298 - val_accuracy: 0.9694 - val_loss: 0.2402\n",
            "Epoch 138/200\n",
            "\u001b[1m123/123\u001b[0m \u001b[32m━━━━━━━━━━━━━━━━━━━━\u001b[0m\u001b[37m\u001b[0m \u001b[1m2s\u001b[0m 19ms/step - accuracy: 0.9797 - loss: 0.1409 - val_accuracy: 0.9684 - val_loss: 0.2240\n",
            "Epoch 139/200\n",
            "\u001b[1m123/123\u001b[0m \u001b[32m━━━━━━━━━━━━━━━━━━━━\u001b[0m\u001b[37m\u001b[0m \u001b[1m2s\u001b[0m 19ms/step - accuracy: 0.9776 - loss: 0.1465 - val_accuracy: 0.9715 - val_loss: 0.2032\n",
            "Epoch 140/200\n",
            "\u001b[1m123/123\u001b[0m \u001b[32m━━━━━━━━━━━━━━━━━━━━\u001b[0m\u001b[37m\u001b[0m \u001b[1m2s\u001b[0m 18ms/step - accuracy: 0.9834 - loss: 0.1342 - val_accuracy: 0.9715 - val_loss: 0.2149\n",
            "Epoch 141/200\n",
            "\u001b[1m123/123\u001b[0m \u001b[32m━━━━━━━━━━━━━━━━━━━━\u001b[0m\u001b[37m\u001b[0m \u001b[1m3s\u001b[0m 22ms/step - accuracy: 0.9834 - loss: 0.1451 - val_accuracy: 0.9745 - val_loss: 0.2250\n",
            "Epoch 142/200\n",
            "\u001b[1m123/123\u001b[0m \u001b[32m━━━━━━━━━━━━━━━━━━━━\u001b[0m\u001b[37m\u001b[0m \u001b[1m5s\u001b[0m 18ms/step - accuracy: 0.9854 - loss: 0.1406 - val_accuracy: 0.9664 - val_loss: 0.2630\n",
            "Epoch 143/200\n",
            "\u001b[1m123/123\u001b[0m \u001b[32m━━━━━━━━━━━━━━━━━━━━\u001b[0m\u001b[37m\u001b[0m \u001b[1m3s\u001b[0m 19ms/step - accuracy: 0.9800 - loss: 0.1422 - val_accuracy: 0.9755 - val_loss: 0.2105\n",
            "Epoch 144/200\n",
            "\u001b[1m123/123\u001b[0m \u001b[32m━━━━━━━━━━━━━━━━━━━━\u001b[0m\u001b[37m\u001b[0m \u001b[1m2s\u001b[0m 18ms/step - accuracy: 0.9883 - loss: 0.1155 - val_accuracy: 0.9674 - val_loss: 0.2380\n",
            "Epoch 145/200\n",
            "\u001b[1m123/123\u001b[0m \u001b[32m━━━━━━━━━━━━━━━━━━━━\u001b[0m\u001b[37m\u001b[0m \u001b[1m3s\u001b[0m 23ms/step - accuracy: 0.9866 - loss: 0.1187 - val_accuracy: 0.9653 - val_loss: 0.2095\n",
            "Epoch 146/200\n",
            "\u001b[1m123/123\u001b[0m \u001b[32m━━━━━━━━━━━━━━━━━━━━\u001b[0m\u001b[37m\u001b[0m \u001b[1m5s\u001b[0m 19ms/step - accuracy: 0.9842 - loss: 0.1298 - val_accuracy: 0.9735 - val_loss: 0.2247\n",
            "Epoch 147/200\n",
            "\u001b[1m123/123\u001b[0m \u001b[32m━━━━━━━━━━━━━━━━━━━━\u001b[0m\u001b[37m\u001b[0m \u001b[1m2s\u001b[0m 18ms/step - accuracy: 0.9787 - loss: 0.1517 - val_accuracy: 0.9664 - val_loss: 0.2239\n",
            "Epoch 148/200\n",
            "\u001b[1m123/123\u001b[0m \u001b[32m━━━━━━━━━━━━━━━━━━━━\u001b[0m\u001b[37m\u001b[0m \u001b[1m3s\u001b[0m 18ms/step - accuracy: 0.9825 - loss: 0.1252 - val_accuracy: 0.9776 - val_loss: 0.1907\n",
            "Epoch 149/200\n",
            "\u001b[1m123/123\u001b[0m \u001b[32m━━━━━━━━━━━━━━━━━━━━\u001b[0m\u001b[37m\u001b[0m \u001b[1m3s\u001b[0m 23ms/step - accuracy: 0.9857 - loss: 0.1249 - val_accuracy: 0.9776 - val_loss: 0.1862\n",
            "Epoch 150/200\n",
            "\u001b[1m123/123\u001b[0m \u001b[32m━━━━━━━━━━━━━━━━━━━━\u001b[0m\u001b[37m\u001b[0m \u001b[1m2s\u001b[0m 18ms/step - accuracy: 0.9825 - loss: 0.1264 - val_accuracy: 0.9776 - val_loss: 0.2107\n",
            "Epoch 151/200\n",
            "\u001b[1m123/123\u001b[0m \u001b[32m━━━━━━━━━━━━━━━━━━━━\u001b[0m\u001b[37m\u001b[0m \u001b[1m3s\u001b[0m 19ms/step - accuracy: 0.9839 - loss: 0.1136 - val_accuracy: 0.9817 - val_loss: 0.1747\n",
            "Epoch 152/200\n",
            "\u001b[1m123/123\u001b[0m \u001b[32m━━━━━━━━━━━━━━━━━━━━\u001b[0m\u001b[37m\u001b[0m \u001b[1m2s\u001b[0m 19ms/step - accuracy: 0.9860 - loss: 0.1061 - val_accuracy: 0.9735 - val_loss: 0.1881\n",
            "Epoch 153/200\n",
            "\u001b[1m123/123\u001b[0m \u001b[32m━━━━━━━━━━━━━━━━━━━━\u001b[0m\u001b[37m\u001b[0m \u001b[1m2s\u001b[0m 19ms/step - accuracy: 0.9917 - loss: 0.1004 - val_accuracy: 0.9735 - val_loss: 0.1617\n",
            "Epoch 154/200\n",
            "\u001b[1m123/123\u001b[0m \u001b[32m━━━━━━━━━━━━━━━━━━━━\u001b[0m\u001b[37m\u001b[0m \u001b[1m3s\u001b[0m 24ms/step - accuracy: 0.9870 - loss: 0.1107 - val_accuracy: 0.9796 - val_loss: 0.1696\n",
            "Epoch 155/200\n",
            "\u001b[1m123/123\u001b[0m \u001b[32m━━━━━━━━━━━━━━━━━━━━\u001b[0m\u001b[37m\u001b[0m \u001b[1m4s\u001b[0m 19ms/step - accuracy: 0.9881 - loss: 0.0955 - val_accuracy: 0.9755 - val_loss: 0.1550\n",
            "Epoch 156/200\n",
            "\u001b[1m123/123\u001b[0m \u001b[32m━━━━━━━━━━━━━━━━━━━━\u001b[0m\u001b[37m\u001b[0m \u001b[1m2s\u001b[0m 18ms/step - accuracy: 0.9833 - loss: 0.1141 - val_accuracy: 0.9715 - val_loss: 0.1897\n",
            "Epoch 157/200\n",
            "\u001b[1m123/123\u001b[0m \u001b[32m━━━━━━━━━━━━━━━━━━━━\u001b[0m\u001b[37m\u001b[0m \u001b[1m3s\u001b[0m 18ms/step - accuracy: 0.9851 - loss: 0.1149 - val_accuracy: 0.9704 - val_loss: 0.2615\n",
            "Epoch 158/200\n",
            "\u001b[1m123/123\u001b[0m \u001b[32m━━━━━━━━━━━━━━━━━━━━\u001b[0m\u001b[37m\u001b[0m \u001b[1m3s\u001b[0m 23ms/step - accuracy: 0.9814 - loss: 0.1315 - val_accuracy: 0.9643 - val_loss: 0.2657\n",
            "Epoch 159/200\n",
            "\u001b[1m123/123\u001b[0m \u001b[32m━━━━━━━━━━━━━━━━━━━━\u001b[0m\u001b[37m\u001b[0m \u001b[1m4s\u001b[0m 18ms/step - accuracy: 0.9821 - loss: 0.1333 - val_accuracy: 0.9664 - val_loss: 0.2370\n",
            "Epoch 160/200\n",
            "\u001b[1m123/123\u001b[0m \u001b[32m━━━━━━━━━━━━━━━━━━━━\u001b[0m\u001b[37m\u001b[0m \u001b[1m2s\u001b[0m 19ms/step - accuracy: 0.9762 - loss: 0.1437 - val_accuracy: 0.9623 - val_loss: 0.2433\n",
            "Epoch 161/200\n",
            "\u001b[1m123/123\u001b[0m \u001b[32m━━━━━━━━━━━━━━━━━━━━\u001b[0m\u001b[37m\u001b[0m \u001b[1m3s\u001b[0m 19ms/step - accuracy: 0.9756 - loss: 0.1534 - val_accuracy: 0.9613 - val_loss: 0.2957\n",
            "Epoch 162/200\n",
            "\u001b[1m123/123\u001b[0m \u001b[32m━━━━━━━━━━━━━━━━━━━━\u001b[0m\u001b[37m\u001b[0m \u001b[1m3s\u001b[0m 24ms/step - accuracy: 0.9762 - loss: 0.1599 - val_accuracy: 0.9755 - val_loss: 0.2319\n",
            "Epoch 163/200\n",
            "\u001b[1m123/123\u001b[0m \u001b[32m━━━━━━━━━━━━━━━━━━━━\u001b[0m\u001b[37m\u001b[0m \u001b[1m5s\u001b[0m 19ms/step - accuracy: 0.9848 - loss: 0.1218 - val_accuracy: 0.9725 - val_loss: 0.2188\n",
            "Epoch 164/200\n",
            "\u001b[1m123/123\u001b[0m \u001b[32m━━━━━━━━━━━━━━━━━━━━\u001b[0m\u001b[37m\u001b[0m \u001b[1m2s\u001b[0m 18ms/step - accuracy: 0.9714 - loss: 0.1628 - val_accuracy: 0.9704 - val_loss: 0.2822\n",
            "Epoch 165/200\n",
            "\u001b[1m123/123\u001b[0m \u001b[32m━━━━━━━━━━━━━━━━━━━━\u001b[0m\u001b[37m\u001b[0m \u001b[1m2s\u001b[0m 19ms/step - accuracy: 0.9807 - loss: 0.1375 - val_accuracy: 0.9715 - val_loss: 0.1970\n",
            "Epoch 166/200\n",
            "\u001b[1m123/123\u001b[0m \u001b[32m━━━━━━━━━━━━━━━━━━━━\u001b[0m\u001b[37m\u001b[0m \u001b[1m3s\u001b[0m 23ms/step - accuracy: 0.9844 - loss: 0.1257 - val_accuracy: 0.9694 - val_loss: 0.2153\n",
            "Epoch 167/200\n",
            "\u001b[1m123/123\u001b[0m \u001b[32m━━━━━━━━━━━━━━━━━━━━\u001b[0m\u001b[37m\u001b[0m \u001b[1m5s\u001b[0m 18ms/step - accuracy: 0.9837 - loss: 0.1190 - val_accuracy: 0.9715 - val_loss: 0.1968\n",
            "Epoch 168/200\n",
            "\u001b[1m123/123\u001b[0m \u001b[32m━━━━━━━━━━━━━━━━━━━━\u001b[0m\u001b[37m\u001b[0m \u001b[1m2s\u001b[0m 19ms/step - accuracy: 0.9822 - loss: 0.1411 - val_accuracy: 0.9745 - val_loss: 0.1862\n",
            "Epoch 169/200\n",
            "\u001b[1m123/123\u001b[0m \u001b[32m━━━━━━━━━━━━━━━━━━━━\u001b[0m\u001b[37m\u001b[0m \u001b[1m2s\u001b[0m 19ms/step - accuracy: 0.9873 - loss: 0.0983 - val_accuracy: 0.9735 - val_loss: 0.1754\n",
            "Epoch 170/200\n",
            "\u001b[1m123/123\u001b[0m \u001b[32m━━━━━━━━━━━━━━━━━━━━\u001b[0m\u001b[37m\u001b[0m \u001b[1m3s\u001b[0m 23ms/step - accuracy: 0.9863 - loss: 0.1085 - val_accuracy: 0.9776 - val_loss: 0.1965\n",
            "Epoch 171/200\n",
            "\u001b[1m123/123\u001b[0m \u001b[32m━━━━━━━━━━━━━━━━━━━━\u001b[0m\u001b[37m\u001b[0m \u001b[1m4s\u001b[0m 18ms/step - accuracy: 0.9845 - loss: 0.1165 - val_accuracy: 0.9684 - val_loss: 0.2144\n",
            "Epoch 172/200\n",
            "\u001b[1m123/123\u001b[0m \u001b[32m━━━━━━━━━━━━━━━━━━━━\u001b[0m\u001b[37m\u001b[0m \u001b[1m2s\u001b[0m 18ms/step - accuracy: 0.9836 - loss: 0.1309 - val_accuracy: 0.9766 - val_loss: 0.1922\n",
            "Epoch 173/200\n",
            "\u001b[1m123/123\u001b[0m \u001b[32m━━━━━━━━━━━━━━━━━━━━\u001b[0m\u001b[37m\u001b[0m \u001b[1m3s\u001b[0m 21ms/step - accuracy: 0.9838 - loss: 0.1201 - val_accuracy: 0.9725 - val_loss: 0.2370\n",
            "Epoch 174/200\n",
            "\u001b[1m123/123\u001b[0m \u001b[32m━━━━━━━━━━━━━━━━━━━━\u001b[0m\u001b[37m\u001b[0m \u001b[1m5s\u001b[0m 18ms/step - accuracy: 0.9783 - loss: 0.1470 - val_accuracy: 0.9735 - val_loss: 0.1877\n",
            "Epoch 175/200\n",
            "\u001b[1m123/123\u001b[0m \u001b[32m━━━━━━━━━━━━━━━━━━━━\u001b[0m\u001b[37m\u001b[0m \u001b[1m2s\u001b[0m 18ms/step - accuracy: 0.9856 - loss: 0.1149 - val_accuracy: 0.9674 - val_loss: 0.2052\n",
            "Epoch 176/200\n",
            "\u001b[1m123/123\u001b[0m \u001b[32m━━━━━━━━━━━━━━━━━━━━\u001b[0m\u001b[37m\u001b[0m \u001b[1m2s\u001b[0m 18ms/step - accuracy: 0.9885 - loss: 0.0977 - val_accuracy: 0.9817 - val_loss: 0.1549\n",
            "Epoch 177/200\n",
            "\u001b[1m123/123\u001b[0m \u001b[32m━━━━━━━━━━━━━━━━━━━━\u001b[0m\u001b[37m\u001b[0m \u001b[1m3s\u001b[0m 22ms/step - accuracy: 0.9890 - loss: 0.1080 - val_accuracy: 0.9735 - val_loss: 0.2055\n",
            "Epoch 178/200\n",
            "\u001b[1m123/123\u001b[0m \u001b[32m━━━━━━━━━━━━━━━━━━━━\u001b[0m\u001b[37m\u001b[0m \u001b[1m5s\u001b[0m 18ms/step - accuracy: 0.9863 - loss: 0.1106 - val_accuracy: 0.9725 - val_loss: 0.1927\n",
            "Epoch 179/200\n",
            "\u001b[1m123/123\u001b[0m \u001b[32m━━━━━━━━━━━━━━━━━━━━\u001b[0m\u001b[37m\u001b[0m \u001b[1m2s\u001b[0m 18ms/step - accuracy: 0.9826 - loss: 0.1175 - val_accuracy: 0.9653 - val_loss: 0.2603\n",
            "Epoch 180/200\n",
            "\u001b[1m123/123\u001b[0m \u001b[32m━━━━━━━━━━━━━━━━━━━━\u001b[0m\u001b[37m\u001b[0m \u001b[1m2s\u001b[0m 18ms/step - accuracy: 0.9824 - loss: 0.1402 - val_accuracy: 0.9755 - val_loss: 0.2195\n",
            "Epoch 181/200\n",
            "\u001b[1m123/123\u001b[0m \u001b[32m━━━━━━━━━━━━━━━━━━━━\u001b[0m\u001b[37m\u001b[0m \u001b[1m3s\u001b[0m 21ms/step - accuracy: 0.9819 - loss: 0.1381 - val_accuracy: 0.9755 - val_loss: 0.1870\n",
            "Epoch 182/200\n",
            "\u001b[1m123/123\u001b[0m \u001b[32m━━━━━━━━━━━━━━━━━━━━\u001b[0m\u001b[37m\u001b[0m \u001b[1m3s\u001b[0m 22ms/step - accuracy: 0.9879 - loss: 0.1155 - val_accuracy: 0.9735 - val_loss: 0.1923\n",
            "Epoch 183/200\n",
            "\u001b[1m123/123\u001b[0m \u001b[32m━━━━━━━━━━━━━━━━━━━━\u001b[0m\u001b[37m\u001b[0m \u001b[1m5s\u001b[0m 20ms/step - accuracy: 0.9833 - loss: 0.1193 - val_accuracy: 0.9755 - val_loss: 0.1916\n",
            "Epoch 184/200\n",
            "\u001b[1m123/123\u001b[0m \u001b[32m━━━━━━━━━━━━━━━━━━━━\u001b[0m\u001b[37m\u001b[0m \u001b[1m2s\u001b[0m 18ms/step - accuracy: 0.9863 - loss: 0.1174 - val_accuracy: 0.9715 - val_loss: 0.1925\n",
            "Epoch 185/200\n",
            "\u001b[1m123/123\u001b[0m \u001b[32m━━━━━━━━━━━━━━━━━━━━\u001b[0m\u001b[37m\u001b[0m \u001b[1m3s\u001b[0m 24ms/step - accuracy: 0.9859 - loss: 0.1150 - val_accuracy: 0.9776 - val_loss: 0.2039\n",
            "Epoch 186/200\n",
            "\u001b[1m123/123\u001b[0m \u001b[32m━━━━━━━━━━━━━━━━━━━━\u001b[0m\u001b[37m\u001b[0m \u001b[1m2s\u001b[0m 19ms/step - accuracy: 0.9835 - loss: 0.1137 - val_accuracy: 0.9735 - val_loss: 0.2107\n",
            "Epoch 187/200\n",
            "\u001b[1m123/123\u001b[0m \u001b[32m━━━━━━━━━━━━━━━━━━━━\u001b[0m\u001b[37m\u001b[0m \u001b[1m3s\u001b[0m 19ms/step - accuracy: 0.9905 - loss: 0.1133 - val_accuracy: 0.9643 - val_loss: 0.2234\n",
            "Epoch 188/200\n",
            "\u001b[1m123/123\u001b[0m \u001b[32m━━━━━━━━━━━━━━━━━━━━\u001b[0m\u001b[37m\u001b[0m \u001b[1m2s\u001b[0m 19ms/step - accuracy: 0.9845 - loss: 0.1157 - val_accuracy: 0.9735 - val_loss: 0.2128\n",
            "Epoch 189/200\n",
            "\u001b[1m123/123\u001b[0m \u001b[32m━━━━━━━━━━━━━━━━━━━━\u001b[0m\u001b[37m\u001b[0m \u001b[1m2s\u001b[0m 19ms/step - accuracy: 0.9816 - loss: 0.1286 - val_accuracy: 0.9725 - val_loss: 0.2086\n",
            "Epoch 190/200\n",
            "\u001b[1m123/123\u001b[0m \u001b[32m━━━━━━━━━━━━━━━━━━━━\u001b[0m\u001b[37m\u001b[0m \u001b[1m3s\u001b[0m 24ms/step - accuracy: 0.9863 - loss: 0.1186 - val_accuracy: 0.9715 - val_loss: 0.2156\n",
            "Epoch 191/200\n",
            "\u001b[1m123/123\u001b[0m \u001b[32m━━━━━━━━━━━━━━━━━━━━\u001b[0m\u001b[37m\u001b[0m \u001b[1m2s\u001b[0m 18ms/step - accuracy: 0.9823 - loss: 0.1261 - val_accuracy: 0.9766 - val_loss: 0.1700\n",
            "Epoch 192/200\n",
            "\u001b[1m123/123\u001b[0m \u001b[32m━━━━━━━━━━━━━━━━━━━━\u001b[0m\u001b[37m\u001b[0m \u001b[1m2s\u001b[0m 18ms/step - accuracy: 0.9842 - loss: 0.1177 - val_accuracy: 0.9796 - val_loss: 0.1637\n",
            "Epoch 193/200\n",
            "\u001b[1m123/123\u001b[0m \u001b[32m━━━━━━━━━━━━━━━━━━━━\u001b[0m\u001b[37m\u001b[0m \u001b[1m2s\u001b[0m 18ms/step - accuracy: 0.9862 - loss: 0.1093 - val_accuracy: 0.9704 - val_loss: 0.2159\n",
            "Epoch 194/200\n",
            "\u001b[1m123/123\u001b[0m \u001b[32m━━━━━━━━━━━━━━━━━━━━\u001b[0m\u001b[37m\u001b[0m \u001b[1m3s\u001b[0m 18ms/step - accuracy: 0.9906 - loss: 0.0954 - val_accuracy: 0.9766 - val_loss: 0.2066\n",
            "Epoch 195/200\n",
            "\u001b[1m123/123\u001b[0m \u001b[32m━━━━━━━━━━━━━━━━━━━━\u001b[0m\u001b[37m\u001b[0m \u001b[1m3s\u001b[0m 25ms/step - accuracy: 0.9828 - loss: 0.1234 - val_accuracy: 0.9776 - val_loss: 0.2106\n",
            "Epoch 196/200\n",
            "\u001b[1m123/123\u001b[0m \u001b[32m━━━━━━━━━━━━━━━━━━━━\u001b[0m\u001b[37m\u001b[0m \u001b[1m4s\u001b[0m 19ms/step - accuracy: 0.9848 - loss: 0.1105 - val_accuracy: 0.9776 - val_loss: 0.1619\n",
            "Epoch 197/200\n",
            "\u001b[1m123/123\u001b[0m \u001b[32m━━━━━━━━━━━━━━━━━━━━\u001b[0m\u001b[37m\u001b[0m \u001b[1m2s\u001b[0m 19ms/step - accuracy: 0.9880 - loss: 0.1194 - val_accuracy: 0.9755 - val_loss: 0.2105\n",
            "Epoch 198/200\n",
            "\u001b[1m123/123\u001b[0m \u001b[32m━━━━━━━━━━━━━━━━━━━━\u001b[0m\u001b[37m\u001b[0m \u001b[1m2s\u001b[0m 19ms/step - accuracy: 0.9886 - loss: 0.1042 - val_accuracy: 0.9776 - val_loss: 0.1922\n",
            "Epoch 199/200\n",
            "\u001b[1m123/123\u001b[0m \u001b[32m━━━━━━━━━━━━━━━━━━━━\u001b[0m\u001b[37m\u001b[0m \u001b[1m3s\u001b[0m 26ms/step - accuracy: 0.9895 - loss: 0.0933 - val_accuracy: 0.9725 - val_loss: 0.1938\n",
            "Epoch 200/200\n",
            "\u001b[1m123/123\u001b[0m \u001b[32m━━━━━━━━━━━━━━━━━━━━\u001b[0m\u001b[37m\u001b[0m \u001b[1m4s\u001b[0m 20ms/step - accuracy: 0.9834 - loss: 0.1121 - val_accuracy: 0.9827 - val_loss: 0.1882\n"
          ]
        }
      ],
      "source": [
        "from tensorflow.keras.models import Sequential\n",
        "from tensorflow.keras.layers import Conv1D, MaxPooling1D, LSTM, Bidirectional, Dense, Dropout, BatchNormalization\n",
        "from tensorflow.keras.regularizers import l2\n",
        "from tensorflow.keras.callbacks import ModelCheckpoint\n",
        "\n",
        "checkpoint_cb = ModelCheckpoint(\n",
        "    filepath='checkpoints/epoch_{epoch:02d}.weights.h5',\n",
        "    save_weights_only=True,\n",
        "    save_freq='epoch'\n",
        ")\n",
        "model = Sequential([\n",
        "\n",
        "\n",
        "    Conv1D(64, 3, padding='same', activation='relu', input_shape=(X.shape[1], X.shape[2])),\n",
        "    BatchNormalization(),\n",
        "    MaxPooling1D(2),\n",
        "    Dropout(0.3),\n",
        "\n",
        "    Conv1D(128, 3, padding='same', activation='relu'),\n",
        "    BatchNormalization(),\n",
        "    MaxPooling1D(2),\n",
        "    Dropout(0.3),\n",
        "\n",
        "    Bidirectional(LSTM(128, return_sequences=False)),\n",
        "    BatchNormalization(),\n",
        "\n",
        "    Dense(256, activation='relu', kernel_regularizer=l2(0.001)),\n",
        "    BatchNormalization(),\n",
        "    Dropout(0.3),\n",
        "\n",
        "    Dense(128, activation='relu', kernel_regularizer=l2(0.001)),\n",
        "    BatchNormalization(),\n",
        "    Dropout(0.3),\n",
        "\n",
        "    Dense(128, activation='relu', kernel_regularizer=l2(0.001)),\n",
        "    BatchNormalization(),\n",
        "    Dropout(0.3),\n",
        "\n",
        "    Dense(y.shape[1], activation='softmax')\n",
        "])\n",
        "\n",
        "model.compile(optimizer='adam', loss='categorical_crossentropy', metrics=['accuracy'])\n",
        "\n",
        "history=model.fit(X_train, y_train, validation_data=(X_val, y_val), epochs=200, batch_size=32,callbacks=[checkpoint_cb],class_weight=class_weights)"
      ]
    },
    {
      "cell_type": "markdown",
      "source": [
        "**Evaluation**"
      ],
      "metadata": {
        "id": "Ghw3ZBw81YWy"
      }
    },
    {
      "cell_type": "code",
      "execution_count": 15,
      "metadata": {
        "id": "YEc9LWfhws7J",
        "colab": {
          "base_uri": "https://localhost:8080/"
        },
        "outputId": "a38dc564-979d-40d0-ffd8-c5bb82a48942"
      },
      "outputs": [
        {
          "output_type": "stream",
          "name": "stdout",
          "text": [
            "Best average (acc + val_acc)/2 at epoch 92,accuracy=0.9844506978988647, validation accuracy=0.9847095012664795, average value = 0.9846\n"
          ]
        },
        {
          "output_type": "stream",
          "name": "stderr",
          "text": [
            "WARNING:absl:You are saving your model as an HDF5 file via `model.save()` or `keras.saving.save_model(model)`. This file format is considered legacy. We recommend using instead the native Keras format, e.g. `model.save('my_model.keras')` or `keras.saving.save_model(model, 'my_model.keras')`. \n"
          ]
        }
      ],
      "source": [
        "#selecting max of average of train accuracy and validation accuracy to choose best model with less overfitting\n",
        "train_acc = np.array(history.history['accuracy'])\n",
        "val_acc = np.array(history.history['val_accuracy'])\n",
        "loss=np.array(history.history['loss'])\n",
        "val_loss=np.array(history.history['val_loss'])\n",
        "avg_loss=(loss+val_loss)/2\n",
        "avg_acc = (train_acc + val_acc) / 2\n",
        "best_epoch = np.argmax(avg_acc) + 1  # +1 because epochs start from 1 in filenames\n",
        "\n",
        "print(f\"Best average (acc + val_acc)/2 at epoch {best_epoch},accuracy={train_acc[best_epoch-1]}, validation accuracy={val_acc[best_epoch-1]}, average value = {avg_acc[best_epoch-1]:.4f}\")\n",
        "history.model.load_weights(f\"checkpoints/epoch_{best_epoch:02d}.weights.h5\")\n",
        "model.save(\"content/model.h5\")\n",
        "\n"
      ]
    },
    {
      "cell_type": "code",
      "execution_count": 16,
      "metadata": {
        "id": "V5VZ9FcDxJL7",
        "colab": {
          "base_uri": "https://localhost:8080/",
          "height": 750
        },
        "outputId": "4c624394-a00f-45ea-8078-711434314deb"
      },
      "outputs": [
        {
          "output_type": "stream",
          "name": "stdout",
          "text": [
            "\u001b[1m31/31\u001b[0m \u001b[32m━━━━━━━━━━━━━━━━━━━━\u001b[0m\u001b[37m\u001b[0m \u001b[1m1s\u001b[0m 14ms/step\n",
            "              precision    recall  f1-score   support\n",
            "\n",
            "       angry       1.00      1.00      1.00       150\n",
            "        calm       1.00      0.99      0.99       151\n",
            "     disgust       1.00      1.00      1.00        77\n",
            "     fearful       0.99      0.99      0.99       150\n",
            "       happy       0.99      0.95      0.97       150\n",
            "     neutral       0.95      1.00      0.97        75\n",
            "         sad       0.99      0.97      0.98       151\n",
            "   surprised       0.94      1.00      0.97        77\n",
            "\n",
            "    accuracy                           0.98       981\n",
            "   macro avg       0.98      0.99      0.98       981\n",
            "weighted avg       0.99      0.98      0.98       981\n",
            "\n"
          ]
        },
        {
          "output_type": "display_data",
          "data": {
            "text/plain": [
              "<Figure size 640x480 with 2 Axes>"
            ],
            "image/png": "[encoded data removed]"
          },
          "metadata": {}
        }
      ],
      "source": [
        "y_pred = model.predict(X_val)\n",
        "y_pred_labels = np.argmax(y_pred, axis=1)\n",
        "y_true = np.argmax(y_val, axis=1)\n",
        "target_names = le.classes_\n",
        "\n",
        "\n",
        "# Classification report\n",
        "report =classification_report(y_true, y_pred_labels, target_names=target_names)\n",
        "print(report)\n",
        "with open(\"content/classification_report.txt\", \"w\") as f:\n",
        "    f.write(report)\n",
        "# Confusion matrix\n",
        "cm = confusion_matrix(y_true, y_pred_labels)\n",
        "sns.heatmap(cm, annot=True, fmt='d', xticklabels=target_names, yticklabels=target_names)\n",
        "plt.xlabel('Predicted')\n",
        "plt.ylabel('True')\n",
        "plt.title('Confusion Matrix')\n",
        "plt.savefig(\"content/confusion_matrix.png\", dpi=300)\n",
        "plt.show()"
      ]
    },
    {
      "cell_type": "code",
      "execution_count": 17,
      "metadata": {
        "id": "sYqauSf5xhoq",
        "colab": {
          "base_uri": "https://localhost:8080/",
          "height": 449
        },
        "outputId": "6fcb355a-ebe7-4c80-92ff-ccbdc67e294e"
      },
      "outputs": [
        {
          "output_type": "display_data",
          "data": {
            "text/plain": [
              "<Figure size 640x480 with 1 Axes>"
            ],
            "image/png": "[encoded data removed]"
          },
          "metadata": {}
        }
      ],
      "source": [
        "acc=history.history['accuracy']\n",
        "val_acc=history.history['val_accuracy']\n",
        "epochs=range(len(acc))\n",
        "plt.plot(epochs,acc,label='train_accuracy')\n",
        "plt.plot(epochs,val_acc,label='val_accuracy')\n",
        "plt.plot(epochs,avg_acc,label='average')\n",
        "plt.xlabel('epochs')\n",
        "plt.ylabel('accuracy')\n",
        "plt.legend()\n",
        "plt.show()"
      ]
    },
    {
      "cell_type": "code",
      "execution_count": 18,
      "metadata": {
        "id": "AJLjLi0xxszQ",
        "colab": {
          "base_uri": "https://localhost:8080/",
          "height": 449
        },
        "outputId": "6b973ec0-edc2-469c-8b65-c895d219b4a5"
      },
      "outputs": [
        {
          "output_type": "display_data",
          "data": {
            "text/plain": [
              "<Figure size 640x480 with 1 Axes>"
            ],
            "image/png": "[encoded data removed]"
          },
          "metadata": {}
        }
      ],
      "source": [
        "loss=history.history['loss']\n",
        "val_loss=history.history['val_loss']\n",
        "plt.plot(epochs,loss,label='train_loss')\n",
        "plt.plot(epochs,val_loss,label='val_loss')\n",
        "plt.plot(epochs,avg_loss,label='average')\n",
        "plt.xlabel('epochs')\n",
        "plt.ylabel('loss')\n",
        "plt.legend()\n",
        "plt.show()"
      ]
    }
  ],
  "metadata": {
    "colab": {
      "provenance": [],
      "gpuType": "T4",
      "include_colab_link": true
    },
    "kernelspec": {
      "display_name": "Python 3",
      "name": "python3"
    },
    "language_info": {
      "name": "python"
    },
    "accelerator": "GPU"
  },
  "nbformat": 4,
  "nbformat_minor": 0
}