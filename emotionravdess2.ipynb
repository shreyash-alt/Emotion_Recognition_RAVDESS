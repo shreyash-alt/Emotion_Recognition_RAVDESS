{
 "cells": [
  {
   "cell_type": "code",
   "execution_count": 1,
   "id": "5886fe32",
   "metadata": {
    "_cell_guid": "b1076dfc-b9ad-4769-8c92-a6c4dae69d19",
    "_uuid": "8f2839f25d086af736a60e9eeb907d3b93b6e0e5",
    "execution": {
     "iopub.execute_input": "2025-06-22T15:46:25.823758Z",
     "iopub.status.busy": "2025-06-22T15:46:25.823550Z",
     "iopub.status.idle": "2025-06-22T15:46:40.978712Z",
     "shell.execute_reply": "2025-06-22T15:46:40.978102Z"
    },
    "papermill": {
     "duration": 15.160126,
     "end_time": "2025-06-22T15:46:40.980070",
     "exception": false,
     "start_time": "2025-06-22T15:46:25.819944",
     "status": "completed"
    },
    "tags": []
   },
   "outputs": [
    {
     "name": "stderr",
     "output_type": "stream",
     "text": [
      "2025-06-22 15:46:29.690013: E external/local_xla/xla/stream_executor/cuda/cuda_fft.cc:477] Unable to register cuFFT factory: Attempting to register factory for plugin cuFFT when one has already been registered\n",
      "WARNING: All log messages before absl::InitializeLog() is called are written to STDERR\n",
      "E0000 00:00:1750607189.860807      19 cuda_dnn.cc:8310] Unable to register cuDNN factory: Attempting to register factory for plugin cuDNN when one has already been registered\n",
      "E0000 00:00:1750607189.910041      19 cuda_blas.cc:1418] Unable to register cuBLAS factory: Attempting to register factory for plugin cuBLAS when one has already been registered\n"
     ]
    }
   ],
   "source": [
    "import os\n",
    "import numpy as np\n",
    "import pandas as pd\n",
    "import librosa\n",
    "from sklearn.model_selection import train_test_split\n",
    "from sklearn.preprocessing import OneHotEncoder\n",
    "from sklearn.preprocessing import StandardScaler\n",
    "from sklearn.utils.class_weight import compute_class_weight\n",
    "from sklearn.preprocessing import LabelEncoder\n",
    "from tensorflow.keras.utils import to_categorical\n",
    "import tensorflow as tf\n",
    "from sklearn.metrics import classification_report, confusion_matrix\n",
    "import seaborn as sns\n",
    "import matplotlib.pyplot as plt\n",
    "import joblib\n"
   ]
  },
  {
   "cell_type": "code",
   "execution_count": 2,
   "id": "c9408b5d",
   "metadata": {
    "execution": {
     "iopub.execute_input": "2025-06-22T15:46:40.986505Z",
     "iopub.status.busy": "2025-06-22T15:46:40.985843Z",
     "iopub.status.idle": "2025-06-22T15:46:40.992831Z",
     "shell.execute_reply": "2025-06-22T15:46:40.992282Z"
    },
    "papermill": {
     "duration": 0.010993,
     "end_time": "2025-06-22T15:46:40.993901",
     "exception": false,
     "start_time": "2025-06-22T15:46:40.982908",
     "status": "completed"
    },
    "tags": []
   },
   "outputs": [],
   "source": [
    "def extract_emotion_features(filename, fixed_length=130):\n",
    "    y, sr = librosa.load(filename, duration=4, offset=0)\n",
    "    # MFCC + Delta\n",
    "    mfcc = librosa.feature.mfcc(y=y, sr=sr, n_mfcc=13)\n",
    "    mfcc = librosa.util.fix_length(mfcc, size=fixed_length, axis=1)\n",
    "\n",
    "    delta = librosa.feature.delta(mfcc)\n",
    "    delta = librosa.util.fix_length(delta, size=fixed_length, axis=1)\n",
    "\n",
    "    delta2 = librosa.feature.delta(mfcc, order=2)\n",
    "    delta2 = librosa.util.fix_length(delta2, size=fixed_length, axis=1)\n",
    "\n",
    "    # Chroma\n",
    "    chroma = librosa.feature.chroma_stft(y=y, sr=sr)\n",
    "    chroma = librosa.util.fix_length(chroma, size=fixed_length, axis=1)\n",
    "\n",
    "    # Spectral contrast\n",
    "    contrast = librosa.feature.spectral_contrast(y=y, sr=sr)\n",
    "    contrast = librosa.util.fix_length(contrast, size=fixed_length, axis=1)\n",
    "\n",
    "    # Zero-Crossing Rate\n",
    "    zcr = librosa.feature.zero_crossing_rate(y)\n",
    "    zcr = librosa.util.fix_length(zcr, size=fixed_length, axis=1)\n",
    "\n",
    "    # Spectral Bandwidth\n",
    "    bandwidth = librosa.feature.spectral_bandwidth(y=y, sr=sr)\n",
    "    bandwidth = librosa.util.fix_length(bandwidth, size=fixed_length, axis=1)\n",
    "\n",
    "    # Pitch using librosa's piptrack\n",
    "    pitches, magnitudes = librosa.piptrack(y=y, sr=sr)\n",
    "    pitch_track = np.mean(pitches, axis=0)\n",
    "    pitch_track = librosa.util.fix_length(pitch_track, size=fixed_length)\n",
    "    pitch_feature = np.expand_dims(pitch_track, axis=0)\n",
    "\n",
    "\n",
    "    # RMS energy\n",
    "    rms = librosa.feature.rms(y=y)\n",
    "    rms = librosa.util.fix_length(rms, size=fixed_length, axis=1)\n",
    "\n",
    "    # Concatenate all features\n",
    "    combined = np.concatenate((mfcc, delta,delta2, chroma, contrast, zcr, bandwidth, pitch_feature,rms), axis=0)\n",
    "\n",
    "    return combined.T  # Shape: (time_steps, features)"
   ]
  },
  {
   "cell_type": "code",
   "execution_count": 3,
   "id": "1ec1169e",
   "metadata": {
    "execution": {
     "iopub.execute_input": "2025-06-22T15:46:40.998996Z",
     "iopub.status.busy": "2025-06-22T15:46:40.998809Z",
     "iopub.status.idle": "2025-06-22T15:46:48.369782Z",
     "shell.execute_reply": "2025-06-22T15:46:48.369067Z"
    },
    "papermill": {
     "duration": 7.374748,
     "end_time": "2025-06-22T15:46:48.370868",
     "exception": false,
     "start_time": "2025-06-22T15:46:40.996120",
     "status": "completed"
    },
    "tags": []
   },
   "outputs": [
    {
     "name": "stdout",
     "output_type": "stream",
     "text": [
      "4904\n"
     ]
    }
   ],
   "source": [
    "def extract_label_from_filename(filename):\n",
    "    modality=int(filename.split('-')[1])\n",
    "    emotion_code = int(filename.split('-')[2])\n",
    "    emotion_map = {\n",
    "        1: 'neutral', 2: 'calm', 3: 'happy', 4: 'sad',\n",
    "        5: 'angry', 6: 'fearful', 7: 'disgust', 8: 'surprised'\n",
    "    }\n",
    "    emotion=emotion_map.get(emotion_code)\n",
    "    #return f\"{modality}_{emotion}\"\n",
    "    return emotion\n",
    "\n",
    "# Load file paths and labels\n",
    "file_paths = []\n",
    "labels = []\n",
    "\n",
    "for dirname, _, filenames in os.walk('/kaggle/input'):\n",
    "    for filename in filenames:\n",
    "        if filename.endswith('.wav'):\n",
    "            label = extract_label_from_filename(filename)\n",
    "            if label:\n",
    "                path = os.path.join(dirname, filename)\n",
    "                file_paths.append(path)\n",
    "                labels.append(label)\n",
    "\n",
    "df = pd.DataFrame({'audio': file_paths, 'label': labels})\n",
    "print(len(file_paths))"
   ]
  },
  {
   "cell_type": "code",
   "execution_count": 4,
   "id": "59b5abf0",
   "metadata": {
    "execution": {
     "iopub.execute_input": "2025-06-22T15:46:48.376846Z",
     "iopub.status.busy": "2025-06-22T15:46:48.376286Z",
     "iopub.status.idle": "2025-06-22T15:52:28.744437Z",
     "shell.execute_reply": "2025-06-22T15:52:28.743688Z"
    },
    "papermill": {
     "duration": 340.374519,
     "end_time": "2025-06-22T15:52:28.747961",
     "exception": false,
     "start_time": "2025-06-22T15:46:48.373442",
     "status": "completed"
    },
    "tags": []
   },
   "outputs": [
    {
     "name": "stdout",
     "output_type": "stream",
     "text": [
      "(4904, 130, 62)\n"
     ]
    }
   ],
   "source": [
    "X_features = [extract_emotion_features(f) for f in df['audio']]\n",
    "X = np.array(X_features)\n",
    "print(X.shape)"
   ]
  },
  {
   "cell_type": "code",
   "execution_count": 5,
   "id": "b7218887",
   "metadata": {
    "execution": {
     "iopub.execute_input": "2025-06-22T15:52:28.753871Z",
     "iopub.status.busy": "2025-06-22T15:52:28.753298Z",
     "iopub.status.idle": "2025-06-22T15:52:29.370435Z",
     "shell.execute_reply": "2025-06-22T15:52:29.369574Z"
    },
    "papermill": {
     "duration": 0.621448,
     "end_time": "2025-06-22T15:52:29.371776",
     "exception": false,
     "start_time": "2025-06-22T15:52:28.750328",
     "status": "completed"
    },
    "tags": []
   },
   "outputs": [
    {
     "name": "stdout",
     "output_type": "stream",
     "text": [
      "(4904, 130, 62)\n"
     ]
    }
   ],
   "source": [
    "def normalize_features(X):\n",
    "    # Flatten to 2D\n",
    "    num_samples, time_steps, num_features = X.shape\n",
    "    X_flat = X.reshape(-1, num_features)\n",
    "\n",
    "    scaler = StandardScaler()\n",
    "    X_scaled = scaler.fit_transform(X_flat)\n",
    "    joblib.dump(scaler, 'scaler.pkl')\n",
    "\n",
    "    return X_scaled.reshape(num_samples, time_steps, num_features)\n",
    "\n",
    "X = normalize_features(X)\n",
    "print(X.shape)"
   ]
  },
  {
   "cell_type": "code",
   "execution_count": 6,
   "id": "ab6630b8",
   "metadata": {
    "execution": {
     "iopub.execute_input": "2025-06-22T15:52:29.378742Z",
     "iopub.status.busy": "2025-06-22T15:52:29.378512Z",
     "iopub.status.idle": "2025-06-22T15:52:29.386141Z",
     "shell.execute_reply": "2025-06-22T15:52:29.385600Z"
    },
    "papermill": {
     "duration": 0.012254,
     "end_time": "2025-06-22T15:52:29.387162",
     "exception": false,
     "start_time": "2025-06-22T15:52:29.374908",
     "status": "completed"
    },
    "tags": []
   },
   "outputs": [
    {
     "name": "stdout",
     "output_type": "stream",
     "text": [
      "{0: 0.8151595744680851, 1: 0.8151595744680851, 2: 1.5963541666666667, 3: 0.8151595744680851, 4: 0.8151595744680851, 5: 1.6303191489361701, 6: 0.8151595744680851, 7: 1.5963541666666667}\n",
      "['angry' 'calm' 'disgust' 'fearful' 'happy' 'neutral' 'sad' 'surprised']\n"
     ]
    }
   ],
   "source": [
    "\n",
    "\n",
    "# Encode labels to integers\n",
    "le = LabelEncoder()\n",
    "y= le.fit_transform(df['label'])  # Integer labels for class_weight\n",
    "\n",
    "\n",
    "\n",
    "# Compute class weights\n",
    "class_weights = compute_class_weight(class_weight='balanced', classes=np.unique(y), y=y)\n",
    "class_weights = dict(enumerate(class_weights))\n",
    "print(class_weights)\n",
    "# One-hot encode for model training\n",
    "y = to_categorical(y)\n",
    "print(le.classes_)"
   ]
  },
  {
   "cell_type": "code",
   "execution_count": 7,
   "id": "e84956cb",
   "metadata": {
    "execution": {
     "iopub.execute_input": "2025-06-22T15:52:29.392831Z",
     "iopub.status.busy": "2025-06-22T15:52:29.392636Z",
     "iopub.status.idle": "2025-06-22T15:52:29.531159Z",
     "shell.execute_reply": "2025-06-22T15:52:29.530590Z"
    },
    "papermill": {
     "duration": 0.143074,
     "end_time": "2025-06-22T15:52:29.532682",
     "exception": false,
     "start_time": "2025-06-22T15:52:29.389608",
     "status": "completed"
    },
    "tags": []
   },
   "outputs": [],
   "source": [
    "X_train, X_val, y_train, y_val = train_test_split(X, y, test_size=0.2, stratify=y, random_state=42)\n"
   ]
  },
  {
   "cell_type": "code",
   "execution_count": 8,
   "id": "c3d34f4d",
   "metadata": {
    "execution": {
     "iopub.execute_input": "2025-06-22T15:52:29.539325Z",
     "iopub.status.busy": "2025-06-22T15:52:29.538765Z",
     "iopub.status.idle": "2025-06-22T15:59:32.246874Z",
     "shell.execute_reply": "2025-06-22T15:59:32.246096Z"
    },
    "papermill": {
     "duration": 422.712563,
     "end_time": "2025-06-22T15:59:32.248081",
     "exception": false,
     "start_time": "2025-06-22T15:52:29.535518",
     "status": "completed"
    },
    "tags": []
   },
   "outputs": [
    {
     "name": "stderr",
     "output_type": "stream",
     "text": [
      "/usr/local/lib/python3.11/dist-packages/keras/src/layers/convolutional/base_conv.py:107: UserWarning: Do not pass an `input_shape`/`input_dim` argument to a layer. When using Sequential models, prefer using an `Input(shape)` object as the first layer in the model instead.\n",
      "  super().__init__(activity_regularizer=activity_regularizer, **kwargs)\n",
      "I0000 00:00:1750607550.634865      19 gpu_device.cc:2022] Created device /job:localhost/replica:0/task:0/device:GPU:0 with 15513 MB memory:  -> device: 0, name: Tesla P100-PCIE-16GB, pci bus id: 0000:00:04.0, compute capability: 6.0\n"
     ]
    },
    {
     "name": "stdout",
     "output_type": "stream",
     "text": [
      "Epoch 1/200\n"
     ]
    },
    {
     "name": "stderr",
     "output_type": "stream",
     "text": [
      "I0000 00:00:1750607560.383670      69 cuda_dnn.cc:529] Loaded cuDNN version 90300\n"
     ]
    },
    {
     "name": "stdout",
     "output_type": "stream",
     "text": [
      "\u001b[1m123/123\u001b[0m \u001b[32m━━━━━━━━━━━━━━━━━━━━\u001b[0m\u001b[37m\u001b[0m \u001b[1m14s\u001b[0m 26ms/step - accuracy: 0.1763 - loss: 3.2605 - val_accuracy: 0.3099 - val_loss: 2.3217\n",
      "Epoch 2/200\n",
      "\u001b[1m123/123\u001b[0m \u001b[32m━━━━━━━━━━━━━━━━━━━━\u001b[0m\u001b[37m\u001b[0m \u001b[1m2s\u001b[0m 16ms/step - accuracy: 0.3269 - loss: 2.4421 - val_accuracy: 0.4883 - val_loss: 1.9221\n",
      "Epoch 3/200\n",
      "\u001b[1m123/123\u001b[0m \u001b[32m━━━━━━━━━━━━━━━━━━━━\u001b[0m\u001b[37m\u001b[0m \u001b[1m2s\u001b[0m 16ms/step - accuracy: 0.4029 - loss: 2.1496 - val_accuracy: 0.5923 - val_loss: 1.6675\n",
      "Epoch 4/200\n",
      "\u001b[1m123/123\u001b[0m \u001b[32m━━━━━━━━━━━━━━━━━━━━\u001b[0m\u001b[37m\u001b[0m \u001b[1m2s\u001b[0m 16ms/step - accuracy: 0.5150 - loss: 1.8765 - val_accuracy: 0.6463 - val_loss: 1.5283\n",
      "Epoch 5/200\n",
      "\u001b[1m123/123\u001b[0m \u001b[32m━━━━━━━━━━━━━━━━━━━━\u001b[0m\u001b[37m\u001b[0m \u001b[1m2s\u001b[0m 16ms/step - accuracy: 0.5889 - loss: 1.6535 - val_accuracy: 0.6820 - val_loss: 1.3838\n",
      "Epoch 6/200\n",
      "\u001b[1m123/123\u001b[0m \u001b[32m━━━━━━━━━━━━━━━━━━━━\u001b[0m\u001b[37m\u001b[0m \u001b[1m2s\u001b[0m 16ms/step - accuracy: 0.6697 - loss: 1.4247 - val_accuracy: 0.7635 - val_loss: 1.1570\n",
      "Epoch 7/200\n",
      "\u001b[1m123/123\u001b[0m \u001b[32m━━━━━━━━━━━━━━━━━━━━\u001b[0m\u001b[37m\u001b[0m \u001b[1m2s\u001b[0m 16ms/step - accuracy: 0.7076 - loss: 1.3359 - val_accuracy: 0.8002 - val_loss: 1.0769\n",
      "Epoch 8/200\n",
      "\u001b[1m123/123\u001b[0m \u001b[32m━━━━━━━━━━━━━━━━━━━━\u001b[0m\u001b[37m\u001b[0m \u001b[1m2s\u001b[0m 16ms/step - accuracy: 0.7409 - loss: 1.2240 - val_accuracy: 0.8267 - val_loss: 0.9980\n",
      "Epoch 9/200\n",
      "\u001b[1m123/123\u001b[0m \u001b[32m━━━━━━━━━━━━━━━━━━━━\u001b[0m\u001b[37m\u001b[0m \u001b[1m2s\u001b[0m 16ms/step - accuracy: 0.7903 - loss: 1.0972 - val_accuracy: 0.8257 - val_loss: 0.9416\n",
      "Epoch 10/200\n",
      "\u001b[1m123/123\u001b[0m \u001b[32m━━━━━━━━━━━━━━━━━━━━\u001b[0m\u001b[37m\u001b[0m \u001b[1m2s\u001b[0m 17ms/step - accuracy: 0.7981 - loss: 1.0333 - val_accuracy: 0.8665 - val_loss: 0.8336\n",
      "Epoch 11/200\n",
      "\u001b[1m123/123\u001b[0m \u001b[32m━━━━━━━━━━━━━━━━━━━━\u001b[0m\u001b[37m\u001b[0m \u001b[1m2s\u001b[0m 17ms/step - accuracy: 0.8381 - loss: 0.9195 - val_accuracy: 0.8991 - val_loss: 0.7498\n",
      "Epoch 12/200\n",
      "\u001b[1m123/123\u001b[0m \u001b[32m━━━━━━━━━━━━━━━━━━━━\u001b[0m\u001b[37m\u001b[0m \u001b[1m2s\u001b[0m 16ms/step - accuracy: 0.8285 - loss: 0.9055 - val_accuracy: 0.8828 - val_loss: 0.7787\n",
      "Epoch 13/200\n",
      "\u001b[1m123/123\u001b[0m \u001b[32m━━━━━━━━━━━━━━━━━━━━\u001b[0m\u001b[37m\u001b[0m \u001b[1m2s\u001b[0m 16ms/step - accuracy: 0.8502 - loss: 0.8330 - val_accuracy: 0.8807 - val_loss: 0.7687\n",
      "Epoch 14/200\n",
      "\u001b[1m123/123\u001b[0m \u001b[32m━━━━━━━━━━━━━━━━━━━━\u001b[0m\u001b[37m\u001b[0m \u001b[1m2s\u001b[0m 16ms/step - accuracy: 0.8692 - loss: 0.7812 - val_accuracy: 0.8970 - val_loss: 0.6958\n",
      "Epoch 15/200\n",
      "\u001b[1m123/123\u001b[0m \u001b[32m━━━━━━━━━━━━━━━━━━━━\u001b[0m\u001b[37m\u001b[0m \u001b[1m2s\u001b[0m 17ms/step - accuracy: 0.8777 - loss: 0.7328 - val_accuracy: 0.9164 - val_loss: 0.6221\n",
      "Epoch 16/200\n",
      "\u001b[1m123/123\u001b[0m \u001b[32m━━━━━━━━━━━━━━━━━━━━\u001b[0m\u001b[37m\u001b[0m \u001b[1m2s\u001b[0m 16ms/step - accuracy: 0.8804 - loss: 0.7099 - val_accuracy: 0.9113 - val_loss: 0.6123\n",
      "Epoch 17/200\n",
      "\u001b[1m123/123\u001b[0m \u001b[32m━━━━━━━━━━━━━━━━━━━━\u001b[0m\u001b[37m\u001b[0m \u001b[1m2s\u001b[0m 16ms/step - accuracy: 0.9069 - loss: 0.6249 - val_accuracy: 0.9225 - val_loss: 0.6094\n",
      "Epoch 18/200\n",
      "\u001b[1m123/123\u001b[0m \u001b[32m━━━━━━━━━━━━━━━━━━━━\u001b[0m\u001b[37m\u001b[0m \u001b[1m2s\u001b[0m 16ms/step - accuracy: 0.8946 - loss: 0.6377 - val_accuracy: 0.9327 - val_loss: 0.5614\n",
      "Epoch 19/200\n",
      "\u001b[1m123/123\u001b[0m \u001b[32m━━━━━━━━━━━━━━━━━━━━\u001b[0m\u001b[37m\u001b[0m \u001b[1m2s\u001b[0m 16ms/step - accuracy: 0.9022 - loss: 0.6002 - val_accuracy: 0.9093 - val_loss: 0.6221\n",
      "Epoch 20/200\n",
      "\u001b[1m123/123\u001b[0m \u001b[32m━━━━━━━━━━━━━━━━━━━━\u001b[0m\u001b[37m\u001b[0m \u001b[1m2s\u001b[0m 16ms/step - accuracy: 0.9230 - loss: 0.5424 - val_accuracy: 0.9460 - val_loss: 0.4932\n",
      "Epoch 21/200\n",
      "\u001b[1m123/123\u001b[0m \u001b[32m━━━━━━━━━━━━━━━━━━━━\u001b[0m\u001b[37m\u001b[0m \u001b[1m2s\u001b[0m 16ms/step - accuracy: 0.9270 - loss: 0.4981 - val_accuracy: 0.9144 - val_loss: 0.6004\n",
      "Epoch 22/200\n",
      "\u001b[1m123/123\u001b[0m \u001b[32m━━━━━━━━━━━━━━━━━━━━\u001b[0m\u001b[37m\u001b[0m \u001b[1m2s\u001b[0m 16ms/step - accuracy: 0.9273 - loss: 0.5024 - val_accuracy: 0.9286 - val_loss: 0.5067\n",
      "Epoch 23/200\n",
      "\u001b[1m123/123\u001b[0m \u001b[32m━━━━━━━━━━━━━━━━━━━━\u001b[0m\u001b[37m\u001b[0m \u001b[1m2s\u001b[0m 16ms/step - accuracy: 0.9363 - loss: 0.4655 - val_accuracy: 0.9378 - val_loss: 0.4862\n",
      "Epoch 24/200\n",
      "\u001b[1m123/123\u001b[0m \u001b[32m━━━━━━━━━━━━━━━━━━━━\u001b[0m\u001b[37m\u001b[0m \u001b[1m2s\u001b[0m 16ms/step - accuracy: 0.9376 - loss: 0.4471 - val_accuracy: 0.9378 - val_loss: 0.4810\n",
      "Epoch 25/200\n",
      "\u001b[1m123/123\u001b[0m \u001b[32m━━━━━━━━━━━━━━━━━━━━\u001b[0m\u001b[37m\u001b[0m \u001b[1m2s\u001b[0m 16ms/step - accuracy: 0.9357 - loss: 0.4435 - val_accuracy: 0.9429 - val_loss: 0.4836\n",
      "Epoch 26/200\n",
      "\u001b[1m123/123\u001b[0m \u001b[32m━━━━━━━━━━━━━━━━━━━━\u001b[0m\u001b[37m\u001b[0m \u001b[1m2s\u001b[0m 17ms/step - accuracy: 0.9420 - loss: 0.4059 - val_accuracy: 0.9307 - val_loss: 0.4434\n",
      "Epoch 27/200\n",
      "\u001b[1m123/123\u001b[0m \u001b[32m━━━━━━━━━━━━━━━━━━━━\u001b[0m\u001b[37m\u001b[0m \u001b[1m2s\u001b[0m 17ms/step - accuracy: 0.9393 - loss: 0.3957 - val_accuracy: 0.9429 - val_loss: 0.4571\n",
      "Epoch 28/200\n",
      "\u001b[1m123/123\u001b[0m \u001b[32m━━━━━━━━━━━━━━━━━━━━\u001b[0m\u001b[37m\u001b[0m \u001b[1m2s\u001b[0m 16ms/step - accuracy: 0.9444 - loss: 0.3806 - val_accuracy: 0.9419 - val_loss: 0.4479\n",
      "Epoch 29/200\n",
      "\u001b[1m123/123\u001b[0m \u001b[32m━━━━━━━━━━━━━━━━━━━━\u001b[0m\u001b[37m\u001b[0m \u001b[1m2s\u001b[0m 16ms/step - accuracy: 0.9441 - loss: 0.3845 - val_accuracy: 0.9154 - val_loss: 0.5019\n",
      "Epoch 30/200\n",
      "\u001b[1m123/123\u001b[0m \u001b[32m━━━━━━━━━━━━━━━━━━━━\u001b[0m\u001b[37m\u001b[0m \u001b[1m2s\u001b[0m 16ms/step - accuracy: 0.9460 - loss: 0.3617 - val_accuracy: 0.9388 - val_loss: 0.4419\n",
      "Epoch 31/200\n",
      "\u001b[1m123/123\u001b[0m \u001b[32m━━━━━━━━━━━━━━━━━━━━\u001b[0m\u001b[37m\u001b[0m \u001b[1m2s\u001b[0m 16ms/step - accuracy: 0.9516 - loss: 0.3351 - val_accuracy: 0.9348 - val_loss: 0.4578\n",
      "Epoch 32/200\n",
      "\u001b[1m123/123\u001b[0m \u001b[32m━━━━━━━━━━━━━━━━━━━━\u001b[0m\u001b[37m\u001b[0m \u001b[1m2s\u001b[0m 17ms/step - accuracy: 0.9380 - loss: 0.3650 - val_accuracy: 0.9460 - val_loss: 0.3907\n",
      "Epoch 33/200\n",
      "\u001b[1m123/123\u001b[0m \u001b[32m━━━━━━━━━━━━━━━━━━━━\u001b[0m\u001b[37m\u001b[0m \u001b[1m2s\u001b[0m 16ms/step - accuracy: 0.9584 - loss: 0.3129 - val_accuracy: 0.9460 - val_loss: 0.3721\n",
      "Epoch 34/200\n",
      "\u001b[1m123/123\u001b[0m \u001b[32m━━━━━━━━━━━━━━━━━━━━\u001b[0m\u001b[37m\u001b[0m \u001b[1m2s\u001b[0m 16ms/step - accuracy: 0.9507 - loss: 0.3127 - val_accuracy: 0.9531 - val_loss: 0.3503\n",
      "Epoch 35/200\n",
      "\u001b[1m123/123\u001b[0m \u001b[32m━━━━━━━━━━━━━━━━━━━━\u001b[0m\u001b[37m\u001b[0m \u001b[1m2s\u001b[0m 16ms/step - accuracy: 0.9489 - loss: 0.3133 - val_accuracy: 0.9317 - val_loss: 0.4325\n",
      "Epoch 36/200\n",
      "\u001b[1m123/123\u001b[0m \u001b[32m━━━━━━━━━━━━━━━━━━━━\u001b[0m\u001b[37m\u001b[0m \u001b[1m2s\u001b[0m 16ms/step - accuracy: 0.9659 - loss: 0.2718 - val_accuracy: 0.9582 - val_loss: 0.3642\n",
      "Epoch 37/200\n",
      "\u001b[1m123/123\u001b[0m \u001b[32m━━━━━━━━━━━━━━━━━━━━\u001b[0m\u001b[37m\u001b[0m \u001b[1m2s\u001b[0m 16ms/step - accuracy: 0.9554 - loss: 0.3018 - val_accuracy: 0.9460 - val_loss: 0.3590\n",
      "Epoch 38/200\n",
      "\u001b[1m123/123\u001b[0m \u001b[32m━━━━━━━━━━━━━━━━━━━━\u001b[0m\u001b[37m\u001b[0m \u001b[1m2s\u001b[0m 16ms/step - accuracy: 0.9653 - loss: 0.2544 - val_accuracy: 0.9368 - val_loss: 0.4128\n",
      "Epoch 39/200\n",
      "\u001b[1m123/123\u001b[0m \u001b[32m━━━━━━━━━━━━━━━━━━━━\u001b[0m\u001b[37m\u001b[0m \u001b[1m2s\u001b[0m 16ms/step - accuracy: 0.9551 - loss: 0.2619 - val_accuracy: 0.9409 - val_loss: 0.3654\n",
      "Epoch 40/200\n",
      "\u001b[1m123/123\u001b[0m \u001b[32m━━━━━━━━━━━━━━━━━━━━\u001b[0m\u001b[37m\u001b[0m \u001b[1m2s\u001b[0m 17ms/step - accuracy: 0.9500 - loss: 0.2814 - val_accuracy: 0.9450 - val_loss: 0.3906\n",
      "Epoch 41/200\n",
      "\u001b[1m123/123\u001b[0m \u001b[32m━━━━━━━━━━━━━━━━━━━━\u001b[0m\u001b[37m\u001b[0m \u001b[1m2s\u001b[0m 16ms/step - accuracy: 0.9573 - loss: 0.2674 - val_accuracy: 0.9623 - val_loss: 0.3176\n",
      "Epoch 42/200\n",
      "\u001b[1m123/123\u001b[0m \u001b[32m━━━━━━━━━━━━━━━━━━━━\u001b[0m\u001b[37m\u001b[0m \u001b[1m2s\u001b[0m 18ms/step - accuracy: 0.9579 - loss: 0.2834 - val_accuracy: 0.9521 - val_loss: 0.3322\n",
      "Epoch 43/200\n",
      "\u001b[1m123/123\u001b[0m \u001b[32m━━━━━━━━━━━━━━━━━━━━\u001b[0m\u001b[37m\u001b[0m \u001b[1m2s\u001b[0m 16ms/step - accuracy: 0.9609 - loss: 0.2609 - val_accuracy: 0.9419 - val_loss: 0.3689\n",
      "Epoch 44/200\n",
      "\u001b[1m123/123\u001b[0m \u001b[32m━━━━━━━━━━━━━━━━━━━━\u001b[0m\u001b[37m\u001b[0m \u001b[1m2s\u001b[0m 16ms/step - accuracy: 0.9636 - loss: 0.2515 - val_accuracy: 0.9388 - val_loss: 0.3861\n",
      "Epoch 45/200\n",
      "\u001b[1m123/123\u001b[0m \u001b[32m━━━━━━━━━━━━━━━━━━━━\u001b[0m\u001b[37m\u001b[0m \u001b[1m2s\u001b[0m 16ms/step - accuracy: 0.9541 - loss: 0.2624 - val_accuracy: 0.9378 - val_loss: 0.4148\n",
      "Epoch 46/200\n",
      "\u001b[1m123/123\u001b[0m \u001b[32m━━━━━━━━━━━━━━━━━━━━\u001b[0m\u001b[37m\u001b[0m \u001b[1m2s\u001b[0m 16ms/step - accuracy: 0.9561 - loss: 0.2590 - val_accuracy: 0.9399 - val_loss: 0.4103\n",
      "Epoch 47/200\n",
      "\u001b[1m123/123\u001b[0m \u001b[32m━━━━━━━━━━━━━━━━━━━━\u001b[0m\u001b[37m\u001b[0m \u001b[1m2s\u001b[0m 17ms/step - accuracy: 0.9480 - loss: 0.2800 - val_accuracy: 0.9348 - val_loss: 0.3869\n",
      "Epoch 48/200\n",
      "\u001b[1m123/123\u001b[0m \u001b[32m━━━━━━━━━━━━━━━━━━━━\u001b[0m\u001b[37m\u001b[0m \u001b[1m2s\u001b[0m 17ms/step - accuracy: 0.9633 - loss: 0.2353 - val_accuracy: 0.9399 - val_loss: 0.3658\n",
      "Epoch 49/200\n",
      "\u001b[1m123/123\u001b[0m \u001b[32m━━━━━━━━━━━━━━━━━━━━\u001b[0m\u001b[37m\u001b[0m \u001b[1m2s\u001b[0m 16ms/step - accuracy: 0.9651 - loss: 0.2197 - val_accuracy: 0.9582 - val_loss: 0.3099\n",
      "Epoch 50/200\n",
      "\u001b[1m123/123\u001b[0m \u001b[32m━━━━━━━━━━━━━━━━━━━━\u001b[0m\u001b[37m\u001b[0m \u001b[1m2s\u001b[0m 16ms/step - accuracy: 0.9749 - loss: 0.2010 - val_accuracy: 0.9480 - val_loss: 0.3280\n",
      "Epoch 51/200\n",
      "\u001b[1m123/123\u001b[0m \u001b[32m━━━━━━━━━━━━━━━━━━━━\u001b[0m\u001b[37m\u001b[0m \u001b[1m2s\u001b[0m 16ms/step - accuracy: 0.9502 - loss: 0.2473 - val_accuracy: 0.9480 - val_loss: 0.3414\n",
      "Epoch 52/200\n",
      "\u001b[1m123/123\u001b[0m \u001b[32m━━━━━━━━━━━━━━━━━━━━\u001b[0m\u001b[37m\u001b[0m \u001b[1m2s\u001b[0m 17ms/step - accuracy: 0.9714 - loss: 0.2014 - val_accuracy: 0.9582 - val_loss: 0.2920\n",
      "Epoch 53/200\n",
      "\u001b[1m123/123\u001b[0m \u001b[32m━━━━━━━━━━━━━━━━━━━━\u001b[0m\u001b[37m\u001b[0m \u001b[1m2s\u001b[0m 16ms/step - accuracy: 0.9617 - loss: 0.2391 - val_accuracy: 0.9531 - val_loss: 0.3216\n",
      "Epoch 54/200\n",
      "\u001b[1m123/123\u001b[0m \u001b[32m━━━━━━━━━━━━━━━━━━━━\u001b[0m\u001b[37m\u001b[0m \u001b[1m2s\u001b[0m 16ms/step - accuracy: 0.9659 - loss: 0.2058 - val_accuracy: 0.9613 - val_loss: 0.2677\n",
      "Epoch 55/200\n",
      "\u001b[1m123/123\u001b[0m \u001b[32m━━━━━━━━━━━━━━━━━━━━\u001b[0m\u001b[37m\u001b[0m \u001b[1m2s\u001b[0m 16ms/step - accuracy: 0.9674 - loss: 0.2078 - val_accuracy: 0.9531 - val_loss: 0.3089\n",
      "Epoch 56/200\n",
      "\u001b[1m123/123\u001b[0m \u001b[32m━━━━━━━━━━━━━━━━━━━━\u001b[0m\u001b[37m\u001b[0m \u001b[1m2s\u001b[0m 16ms/step - accuracy: 0.9686 - loss: 0.2028 - val_accuracy: 0.9531 - val_loss: 0.3601\n",
      "Epoch 57/200\n",
      "\u001b[1m123/123\u001b[0m \u001b[32m━━━━━━━━━━━━━━━━━━━━\u001b[0m\u001b[37m\u001b[0m \u001b[1m2s\u001b[0m 17ms/step - accuracy: 0.9684 - loss: 0.1962 - val_accuracy: 0.9592 - val_loss: 0.2664\n",
      "Epoch 58/200\n",
      "\u001b[1m123/123\u001b[0m \u001b[32m━━━━━━━━━━━━━━━━━━━━\u001b[0m\u001b[37m\u001b[0m \u001b[1m2s\u001b[0m 17ms/step - accuracy: 0.9681 - loss: 0.2164 - val_accuracy: 0.9592 - val_loss: 0.2765\n",
      "Epoch 59/200\n",
      "\u001b[1m123/123\u001b[0m \u001b[32m━━━━━━━━━━━━━━━━━━━━\u001b[0m\u001b[37m\u001b[0m \u001b[1m2s\u001b[0m 16ms/step - accuracy: 0.9656 - loss: 0.2057 - val_accuracy: 0.9511 - val_loss: 0.3147\n",
      "Epoch 60/200\n",
      "\u001b[1m123/123\u001b[0m \u001b[32m━━━━━━━━━━━━━━━━━━━━\u001b[0m\u001b[37m\u001b[0m \u001b[1m2s\u001b[0m 16ms/step - accuracy: 0.9629 - loss: 0.2279 - val_accuracy: 0.9582 - val_loss: 0.2985\n",
      "Epoch 61/200\n",
      "\u001b[1m123/123\u001b[0m \u001b[32m━━━━━━━━━━━━━━━━━━━━\u001b[0m\u001b[37m\u001b[0m \u001b[1m2s\u001b[0m 16ms/step - accuracy: 0.9703 - loss: 0.2038 - val_accuracy: 0.9460 - val_loss: 0.3413\n",
      "Epoch 62/200\n",
      "\u001b[1m123/123\u001b[0m \u001b[32m━━━━━━━━━━━━━━━━━━━━\u001b[0m\u001b[37m\u001b[0m \u001b[1m2s\u001b[0m 16ms/step - accuracy: 0.9690 - loss: 0.1890 - val_accuracy: 0.9429 - val_loss: 0.3703\n",
      "Epoch 63/200\n",
      "\u001b[1m123/123\u001b[0m \u001b[32m━━━━━━━━━━━━━━━━━━━━\u001b[0m\u001b[37m\u001b[0m \u001b[1m2s\u001b[0m 16ms/step - accuracy: 0.9726 - loss: 0.1845 - val_accuracy: 0.9521 - val_loss: 0.3208\n",
      "Epoch 64/200\n",
      "\u001b[1m123/123\u001b[0m \u001b[32m━━━━━━━━━━━━━━━━━━━━\u001b[0m\u001b[37m\u001b[0m \u001b[1m2s\u001b[0m 16ms/step - accuracy: 0.9701 - loss: 0.1945 - val_accuracy: 0.9562 - val_loss: 0.3260\n",
      "Epoch 65/200\n",
      "\u001b[1m123/123\u001b[0m \u001b[32m━━━━━━━━━━━━━━━━━━━━\u001b[0m\u001b[37m\u001b[0m \u001b[1m2s\u001b[0m 16ms/step - accuracy: 0.9695 - loss: 0.1915 - val_accuracy: 0.9623 - val_loss: 0.3270\n",
      "Epoch 66/200\n",
      "\u001b[1m123/123\u001b[0m \u001b[32m━━━━━━━━━━━━━━━━━━━━\u001b[0m\u001b[37m\u001b[0m \u001b[1m2s\u001b[0m 16ms/step - accuracy: 0.9771 - loss: 0.1734 - val_accuracy: 0.9470 - val_loss: 0.3591\n",
      "Epoch 67/200\n",
      "\u001b[1m123/123\u001b[0m \u001b[32m━━━━━━━━━━━━━━━━━━━━\u001b[0m\u001b[37m\u001b[0m \u001b[1m2s\u001b[0m 16ms/step - accuracy: 0.9716 - loss: 0.1930 - val_accuracy: 0.9490 - val_loss: 0.3652\n",
      "Epoch 68/200\n",
      "\u001b[1m123/123\u001b[0m \u001b[32m━━━━━━━━━━━━━━━━━━━━\u001b[0m\u001b[37m\u001b[0m \u001b[1m2s\u001b[0m 16ms/step - accuracy: 0.9752 - loss: 0.1842 - val_accuracy: 0.9501 - val_loss: 0.3163\n",
      "Epoch 69/200\n",
      "\u001b[1m123/123\u001b[0m \u001b[32m━━━━━━━━━━━━━━━━━━━━\u001b[0m\u001b[37m\u001b[0m \u001b[1m2s\u001b[0m 16ms/step - accuracy: 0.9820 - loss: 0.1597 - val_accuracy: 0.9562 - val_loss: 0.3417\n",
      "Epoch 70/200\n",
      "\u001b[1m123/123\u001b[0m \u001b[32m━━━━━━━━━━━━━━━━━━━━\u001b[0m\u001b[37m\u001b[0m \u001b[1m2s\u001b[0m 16ms/step - accuracy: 0.9759 - loss: 0.1677 - val_accuracy: 0.9551 - val_loss: 0.3290\n",
      "Epoch 71/200\n",
      "\u001b[1m123/123\u001b[0m \u001b[32m━━━━━━━━━━━━━━━━━━━━\u001b[0m\u001b[37m\u001b[0m \u001b[1m2s\u001b[0m 16ms/step - accuracy: 0.9756 - loss: 0.1759 - val_accuracy: 0.9439 - val_loss: 0.3610\n",
      "Epoch 72/200\n",
      "\u001b[1m123/123\u001b[0m \u001b[32m━━━━━━━━━━━━━━━━━━━━\u001b[0m\u001b[37m\u001b[0m \u001b[1m2s\u001b[0m 16ms/step - accuracy: 0.9679 - loss: 0.1934 - val_accuracy: 0.9460 - val_loss: 0.3686\n",
      "Epoch 73/200\n",
      "\u001b[1m123/123\u001b[0m \u001b[32m━━━━━━━━━━━━━━━━━━━━\u001b[0m\u001b[37m\u001b[0m \u001b[1m2s\u001b[0m 18ms/step - accuracy: 0.9695 - loss: 0.2207 - val_accuracy: 0.9551 - val_loss: 0.2931\n",
      "Epoch 74/200\n",
      "\u001b[1m123/123\u001b[0m \u001b[32m━━━━━━━━━━━━━━━━━━━━\u001b[0m\u001b[37m\u001b[0m \u001b[1m2s\u001b[0m 16ms/step - accuracy: 0.9748 - loss: 0.1857 - val_accuracy: 0.9450 - val_loss: 0.3588\n",
      "Epoch 75/200\n",
      "\u001b[1m123/123\u001b[0m \u001b[32m━━━━━━━━━━━━━━━━━━━━\u001b[0m\u001b[37m\u001b[0m \u001b[1m2s\u001b[0m 16ms/step - accuracy: 0.9803 - loss: 0.1545 - val_accuracy: 0.9623 - val_loss: 0.2676\n",
      "Epoch 76/200\n",
      "\u001b[1m123/123\u001b[0m \u001b[32m━━━━━━━━━━━━━━━━━━━━\u001b[0m\u001b[37m\u001b[0m \u001b[1m2s\u001b[0m 16ms/step - accuracy: 0.9754 - loss: 0.1850 - val_accuracy: 0.9429 - val_loss: 0.3860\n",
      "Epoch 77/200\n",
      "\u001b[1m123/123\u001b[0m \u001b[32m━━━━━━━━━━━━━━━━━━━━\u001b[0m\u001b[37m\u001b[0m \u001b[1m2s\u001b[0m 16ms/step - accuracy: 0.9667 - loss: 0.2159 - val_accuracy: 0.9562 - val_loss: 0.3258\n",
      "Epoch 78/200\n",
      "\u001b[1m123/123\u001b[0m \u001b[32m━━━━━━━━━━━━━━━━━━━━\u001b[0m\u001b[37m\u001b[0m \u001b[1m2s\u001b[0m 16ms/step - accuracy: 0.9770 - loss: 0.1650 - val_accuracy: 0.9378 - val_loss: 0.3838\n",
      "Epoch 79/200\n",
      "\u001b[1m123/123\u001b[0m \u001b[32m━━━━━━━━━━━━━━━━━━━━\u001b[0m\u001b[37m\u001b[0m \u001b[1m2s\u001b[0m 16ms/step - accuracy: 0.9703 - loss: 0.1993 - val_accuracy: 0.9511 - val_loss: 0.3078\n",
      "Epoch 80/200\n",
      "\u001b[1m123/123\u001b[0m \u001b[32m━━━━━━━━━━━━━━━━━━━━\u001b[0m\u001b[37m\u001b[0m \u001b[1m2s\u001b[0m 16ms/step - accuracy: 0.9765 - loss: 0.1712 - val_accuracy: 0.9490 - val_loss: 0.3425\n",
      "Epoch 81/200\n",
      "\u001b[1m123/123\u001b[0m \u001b[32m━━━━━━━━━━━━━━━━━━━━\u001b[0m\u001b[37m\u001b[0m \u001b[1m2s\u001b[0m 16ms/step - accuracy: 0.9807 - loss: 0.1511 - val_accuracy: 0.9511 - val_loss: 0.3251\n",
      "Epoch 82/200\n",
      "\u001b[1m123/123\u001b[0m \u001b[32m━━━━━━━━━━━━━━━━━━━━\u001b[0m\u001b[37m\u001b[0m \u001b[1m2s\u001b[0m 16ms/step - accuracy: 0.9672 - loss: 0.1844 - val_accuracy: 0.9450 - val_loss: 0.3638\n",
      "Epoch 83/200\n",
      "\u001b[1m123/123\u001b[0m \u001b[32m━━━━━━━━━━━━━━━━━━━━\u001b[0m\u001b[37m\u001b[0m \u001b[1m2s\u001b[0m 16ms/step - accuracy: 0.9727 - loss: 0.1831 - val_accuracy: 0.9490 - val_loss: 0.3300\n",
      "Epoch 84/200\n",
      "\u001b[1m123/123\u001b[0m \u001b[32m━━━━━━━━━━━━━━━━━━━━\u001b[0m\u001b[37m\u001b[0m \u001b[1m2s\u001b[0m 16ms/step - accuracy: 0.9771 - loss: 0.1509 - val_accuracy: 0.9572 - val_loss: 0.2737\n",
      "Epoch 85/200\n",
      "\u001b[1m123/123\u001b[0m \u001b[32m━━━━━━━━━━━━━━━━━━━━\u001b[0m\u001b[37m\u001b[0m \u001b[1m2s\u001b[0m 16ms/step - accuracy: 0.9691 - loss: 0.1823 - val_accuracy: 0.9429 - val_loss: 0.3195\n",
      "Epoch 86/200\n",
      "\u001b[1m123/123\u001b[0m \u001b[32m━━━━━━━━━━━━━━━━━━━━\u001b[0m\u001b[37m\u001b[0m \u001b[1m2s\u001b[0m 16ms/step - accuracy: 0.9695 - loss: 0.1847 - val_accuracy: 0.9562 - val_loss: 0.3465\n",
      "Epoch 87/200\n",
      "\u001b[1m123/123\u001b[0m \u001b[32m━━━━━━━━━━━━━━━━━━━━\u001b[0m\u001b[37m\u001b[0m \u001b[1m2s\u001b[0m 16ms/step - accuracy: 0.9632 - loss: 0.2201 - val_accuracy: 0.9541 - val_loss: 0.3238\n",
      "Epoch 88/200\n",
      "\u001b[1m123/123\u001b[0m \u001b[32m━━━━━━━━━━━━━━━━━━━━\u001b[0m\u001b[37m\u001b[0m \u001b[1m2s\u001b[0m 17ms/step - accuracy: 0.9759 - loss: 0.1663 - val_accuracy: 0.9572 - val_loss: 0.3026\n",
      "Epoch 89/200\n",
      "\u001b[1m123/123\u001b[0m \u001b[32m━━━━━━━━━━━━━━━━━━━━\u001b[0m\u001b[37m\u001b[0m \u001b[1m2s\u001b[0m 17ms/step - accuracy: 0.9780 - loss: 0.1627 - val_accuracy: 0.9602 - val_loss: 0.3085\n",
      "Epoch 90/200\n",
      "\u001b[1m123/123\u001b[0m \u001b[32m━━━━━━━━━━━━━━━━━━━━\u001b[0m\u001b[37m\u001b[0m \u001b[1m2s\u001b[0m 16ms/step - accuracy: 0.9801 - loss: 0.1506 - val_accuracy: 0.9562 - val_loss: 0.3006\n",
      "Epoch 91/200\n",
      "\u001b[1m123/123\u001b[0m \u001b[32m━━━━━━━━━━━━━━━━━━━━\u001b[0m\u001b[37m\u001b[0m \u001b[1m2s\u001b[0m 17ms/step - accuracy: 0.9789 - loss: 0.1583 - val_accuracy: 0.9643 - val_loss: 0.2569\n",
      "Epoch 92/200\n",
      "\u001b[1m123/123\u001b[0m \u001b[32m━━━━━━━━━━━━━━━━━━━━\u001b[0m\u001b[37m\u001b[0m \u001b[1m2s\u001b[0m 16ms/step - accuracy: 0.9749 - loss: 0.1755 - val_accuracy: 0.9572 - val_loss: 0.3194\n",
      "Epoch 93/200\n",
      "\u001b[1m123/123\u001b[0m \u001b[32m━━━━━━━━━━━━━━━━━━━━\u001b[0m\u001b[37m\u001b[0m \u001b[1m2s\u001b[0m 16ms/step - accuracy: 0.9736 - loss: 0.1771 - val_accuracy: 0.9511 - val_loss: 0.3157\n",
      "Epoch 94/200\n",
      "\u001b[1m123/123\u001b[0m \u001b[32m━━━━━━━━━━━━━━━━━━━━\u001b[0m\u001b[37m\u001b[0m \u001b[1m2s\u001b[0m 16ms/step - accuracy: 0.9843 - loss: 0.1454 - val_accuracy: 0.9562 - val_loss: 0.3264\n",
      "Epoch 95/200\n",
      "\u001b[1m123/123\u001b[0m \u001b[32m━━━━━━━━━━━━━━━━━━━━\u001b[0m\u001b[37m\u001b[0m \u001b[1m2s\u001b[0m 16ms/step - accuracy: 0.9872 - loss: 0.1292 - val_accuracy: 0.9602 - val_loss: 0.3364\n",
      "Epoch 96/200\n",
      "\u001b[1m123/123\u001b[0m \u001b[32m━━━━━━━━━━━━━━━━━━━━\u001b[0m\u001b[37m\u001b[0m \u001b[1m2s\u001b[0m 16ms/step - accuracy: 0.9723 - loss: 0.1703 - val_accuracy: 0.9674 - val_loss: 0.2865\n",
      "Epoch 97/200\n",
      "\u001b[1m123/123\u001b[0m \u001b[32m━━━━━━━━━━━━━━━━━━━━\u001b[0m\u001b[37m\u001b[0m \u001b[1m2s\u001b[0m 16ms/step - accuracy: 0.9772 - loss: 0.1634 - val_accuracy: 0.9623 - val_loss: 0.2555\n",
      "Epoch 98/200\n",
      "\u001b[1m123/123\u001b[0m \u001b[32m━━━━━━━━━━━━━━━━━━━━\u001b[0m\u001b[37m\u001b[0m \u001b[1m2s\u001b[0m 16ms/step - accuracy: 0.9807 - loss: 0.1522 - val_accuracy: 0.9653 - val_loss: 0.2610\n",
      "Epoch 99/200\n",
      "\u001b[1m123/123\u001b[0m \u001b[32m━━━━━━━━━━━━━━━━━━━━\u001b[0m\u001b[37m\u001b[0m \u001b[1m2s\u001b[0m 16ms/step - accuracy: 0.9777 - loss: 0.1512 - val_accuracy: 0.9551 - val_loss: 0.3115\n",
      "Epoch 100/200\n",
      "\u001b[1m123/123\u001b[0m \u001b[32m━━━━━━━━━━━━━━━━━━━━\u001b[0m\u001b[37m\u001b[0m \u001b[1m2s\u001b[0m 16ms/step - accuracy: 0.9811 - loss: 0.1529 - val_accuracy: 0.9501 - val_loss: 0.2800\n",
      "Epoch 101/200\n",
      "\u001b[1m123/123\u001b[0m \u001b[32m━━━━━━━━━━━━━━━━━━━━\u001b[0m\u001b[37m\u001b[0m \u001b[1m2s\u001b[0m 17ms/step - accuracy: 0.9724 - loss: 0.1745 - val_accuracy: 0.9531 - val_loss: 0.3264\n",
      "Epoch 102/200\n",
      "\u001b[1m123/123\u001b[0m \u001b[32m━━━━━━━━━━━━━━━━━━━━\u001b[0m\u001b[37m\u001b[0m \u001b[1m2s\u001b[0m 17ms/step - accuracy: 0.9788 - loss: 0.1530 - val_accuracy: 0.9490 - val_loss: 0.3267\n",
      "Epoch 103/200\n",
      "\u001b[1m123/123\u001b[0m \u001b[32m━━━━━━━━━━━━━━━━━━━━\u001b[0m\u001b[37m\u001b[0m \u001b[1m2s\u001b[0m 17ms/step - accuracy: 0.9704 - loss: 0.1977 - val_accuracy: 0.9501 - val_loss: 0.3381\n",
      "Epoch 104/200\n",
      "\u001b[1m123/123\u001b[0m \u001b[32m━━━━━━━━━━━━━━━━━━━━\u001b[0m\u001b[37m\u001b[0m \u001b[1m2s\u001b[0m 18ms/step - accuracy: 0.9762 - loss: 0.1568 - val_accuracy: 0.9653 - val_loss: 0.2913\n",
      "Epoch 105/200\n",
      "\u001b[1m123/123\u001b[0m \u001b[32m━━━━━━━━━━━━━━━━━━━━\u001b[0m\u001b[37m\u001b[0m \u001b[1m2s\u001b[0m 17ms/step - accuracy: 0.9812 - loss: 0.1456 - val_accuracy: 0.9551 - val_loss: 0.2956\n",
      "Epoch 106/200\n",
      "\u001b[1m123/123\u001b[0m \u001b[32m━━━━━━━━━━━━━━━━━━━━\u001b[0m\u001b[37m\u001b[0m \u001b[1m2s\u001b[0m 17ms/step - accuracy: 0.9827 - loss: 0.1477 - val_accuracy: 0.9511 - val_loss: 0.2828\n",
      "Epoch 107/200\n",
      "\u001b[1m123/123\u001b[0m \u001b[32m━━━━━━━━━━━━━━━━━━━━\u001b[0m\u001b[37m\u001b[0m \u001b[1m2s\u001b[0m 16ms/step - accuracy: 0.9808 - loss: 0.1420 - val_accuracy: 0.9643 - val_loss: 0.3083\n",
      "Epoch 108/200\n",
      "\u001b[1m123/123\u001b[0m \u001b[32m━━━━━━━━━━━━━━━━━━━━\u001b[0m\u001b[37m\u001b[0m \u001b[1m2s\u001b[0m 16ms/step - accuracy: 0.9805 - loss: 0.1475 - val_accuracy: 0.9541 - val_loss: 0.3270\n",
      "Epoch 109/200\n",
      "\u001b[1m123/123\u001b[0m \u001b[32m━━━━━━━━━━━━━━━━━━━━\u001b[0m\u001b[37m\u001b[0m \u001b[1m2s\u001b[0m 16ms/step - accuracy: 0.9766 - loss: 0.1674 - val_accuracy: 0.9501 - val_loss: 0.3241\n",
      "Epoch 110/200\n",
      "\u001b[1m123/123\u001b[0m \u001b[32m━━━━━━━━━━━━━━━━━━━━\u001b[0m\u001b[37m\u001b[0m \u001b[1m2s\u001b[0m 16ms/step - accuracy: 0.9792 - loss: 0.1484 - val_accuracy: 0.9674 - val_loss: 0.2711\n",
      "Epoch 111/200\n",
      "\u001b[1m123/123\u001b[0m \u001b[32m━━━━━━━━━━━━━━━━━━━━\u001b[0m\u001b[37m\u001b[0m \u001b[1m2s\u001b[0m 16ms/step - accuracy: 0.9793 - loss: 0.1390 - val_accuracy: 0.9592 - val_loss: 0.2912\n",
      "Epoch 112/200\n",
      "\u001b[1m123/123\u001b[0m \u001b[32m━━━━━━━━━━━━━━━━━━━━\u001b[0m\u001b[37m\u001b[0m \u001b[1m2s\u001b[0m 16ms/step - accuracy: 0.9761 - loss: 0.1464 - val_accuracy: 0.9551 - val_loss: 0.3064\n",
      "Epoch 113/200\n",
      "\u001b[1m123/123\u001b[0m \u001b[32m━━━━━━━━━━━━━━━━━━━━\u001b[0m\u001b[37m\u001b[0m \u001b[1m2s\u001b[0m 16ms/step - accuracy: 0.9729 - loss: 0.1832 - val_accuracy: 0.9501 - val_loss: 0.3263\n",
      "Epoch 114/200\n",
      "\u001b[1m123/123\u001b[0m \u001b[32m━━━━━━━━━━━━━━━━━━━━\u001b[0m\u001b[37m\u001b[0m \u001b[1m2s\u001b[0m 16ms/step - accuracy: 0.9805 - loss: 0.1422 - val_accuracy: 0.9541 - val_loss: 0.2773\n",
      "Epoch 115/200\n",
      "\u001b[1m123/123\u001b[0m \u001b[32m━━━━━━━━━━━━━━━━━━━━\u001b[0m\u001b[37m\u001b[0m \u001b[1m2s\u001b[0m 16ms/step - accuracy: 0.9809 - loss: 0.1410 - val_accuracy: 0.9460 - val_loss: 0.3036\n",
      "Epoch 116/200\n",
      "\u001b[1m123/123\u001b[0m \u001b[32m━━━━━━━━━━━━━━━━━━━━\u001b[0m\u001b[37m\u001b[0m \u001b[1m2s\u001b[0m 16ms/step - accuracy: 0.9810 - loss: 0.1556 - val_accuracy: 0.9664 - val_loss: 0.2660\n",
      "Epoch 117/200\n",
      "\u001b[1m123/123\u001b[0m \u001b[32m━━━━━━━━━━━━━━━━━━━━\u001b[0m\u001b[37m\u001b[0m \u001b[1m2s\u001b[0m 16ms/step - accuracy: 0.9838 - loss: 0.1448 - val_accuracy: 0.9511 - val_loss: 0.3133\n",
      "Epoch 118/200\n",
      "\u001b[1m123/123\u001b[0m \u001b[32m━━━━━━━━━━━━━━━━━━━━\u001b[0m\u001b[37m\u001b[0m \u001b[1m2s\u001b[0m 16ms/step - accuracy: 0.9824 - loss: 0.1319 - val_accuracy: 0.9460 - val_loss: 0.3266\n",
      "Epoch 119/200\n",
      "\u001b[1m123/123\u001b[0m \u001b[32m━━━━━━━━━━━━━━━━━━━━\u001b[0m\u001b[37m\u001b[0m \u001b[1m2s\u001b[0m 17ms/step - accuracy: 0.9759 - loss: 0.1623 - val_accuracy: 0.9572 - val_loss: 0.2896\n",
      "Epoch 120/200\n",
      "\u001b[1m123/123\u001b[0m \u001b[32m━━━━━━━━━━━━━━━━━━━━\u001b[0m\u001b[37m\u001b[0m \u001b[1m2s\u001b[0m 17ms/step - accuracy: 0.9819 - loss: 0.1302 - val_accuracy: 0.9439 - val_loss: 0.3685\n",
      "Epoch 121/200\n",
      "\u001b[1m123/123\u001b[0m \u001b[32m━━━━━━━━━━━━━━━━━━━━\u001b[0m\u001b[37m\u001b[0m \u001b[1m2s\u001b[0m 16ms/step - accuracy: 0.9782 - loss: 0.1451 - val_accuracy: 0.9490 - val_loss: 0.3769\n",
      "Epoch 122/200\n",
      "\u001b[1m123/123\u001b[0m \u001b[32m━━━━━━━━━━━━━━━━━━━━\u001b[0m\u001b[37m\u001b[0m \u001b[1m2s\u001b[0m 16ms/step - accuracy: 0.9817 - loss: 0.1332 - val_accuracy: 0.9541 - val_loss: 0.3074\n",
      "Epoch 123/200\n",
      "\u001b[1m123/123\u001b[0m \u001b[32m━━━━━━━━━━━━━━━━━━━━\u001b[0m\u001b[37m\u001b[0m \u001b[1m2s\u001b[0m 16ms/step - accuracy: 0.9829 - loss: 0.1468 - val_accuracy: 0.9480 - val_loss: 0.3188\n",
      "Epoch 124/200\n",
      "\u001b[1m123/123\u001b[0m \u001b[32m━━━━━━━━━━━━━━━━━━━━\u001b[0m\u001b[37m\u001b[0m \u001b[1m2s\u001b[0m 16ms/step - accuracy: 0.9850 - loss: 0.1259 - val_accuracy: 0.9602 - val_loss: 0.3458\n",
      "Epoch 125/200\n",
      "\u001b[1m123/123\u001b[0m \u001b[32m━━━━━━━━━━━━━━━━━━━━\u001b[0m\u001b[37m\u001b[0m \u001b[1m2s\u001b[0m 16ms/step - accuracy: 0.9835 - loss: 0.1308 - val_accuracy: 0.9562 - val_loss: 0.3322\n",
      "Epoch 126/200\n",
      "\u001b[1m123/123\u001b[0m \u001b[32m━━━━━━━━━━━━━━━━━━━━\u001b[0m\u001b[37m\u001b[0m \u001b[1m2s\u001b[0m 16ms/step - accuracy: 0.9822 - loss: 0.1276 - val_accuracy: 0.9531 - val_loss: 0.3026\n",
      "Epoch 127/200\n",
      "\u001b[1m123/123\u001b[0m \u001b[32m━━━━━━━━━━━━━━━━━━━━\u001b[0m\u001b[37m\u001b[0m \u001b[1m2s\u001b[0m 17ms/step - accuracy: 0.9831 - loss: 0.1351 - val_accuracy: 0.9541 - val_loss: 0.3237\n",
      "Epoch 128/200\n",
      "\u001b[1m123/123\u001b[0m \u001b[32m━━━━━━━━━━━━━━━━━━━━\u001b[0m\u001b[37m\u001b[0m \u001b[1m2s\u001b[0m 16ms/step - accuracy: 0.9812 - loss: 0.1407 - val_accuracy: 0.9562 - val_loss: 0.2863\n",
      "Epoch 129/200\n",
      "\u001b[1m123/123\u001b[0m \u001b[32m━━━━━━━━━━━━━━━━━━━━\u001b[0m\u001b[37m\u001b[0m \u001b[1m2s\u001b[0m 16ms/step - accuracy: 0.9838 - loss: 0.1206 - val_accuracy: 0.9592 - val_loss: 0.3132\n",
      "Epoch 130/200\n",
      "\u001b[1m123/123\u001b[0m \u001b[32m━━━━━━━━━━━━━━━━━━━━\u001b[0m\u001b[37m\u001b[0m \u001b[1m2s\u001b[0m 17ms/step - accuracy: 0.9841 - loss: 0.1274 - val_accuracy: 0.9490 - val_loss: 0.3453\n",
      "Epoch 131/200\n",
      "\u001b[1m123/123\u001b[0m \u001b[32m━━━━━━━━━━━━━━━━━━━━\u001b[0m\u001b[37m\u001b[0m \u001b[1m2s\u001b[0m 16ms/step - accuracy: 0.9905 - loss: 0.1174 - val_accuracy: 0.9551 - val_loss: 0.2852\n",
      "Epoch 132/200\n",
      "\u001b[1m123/123\u001b[0m \u001b[32m━━━━━━━━━━━━━━━━━━━━\u001b[0m\u001b[37m\u001b[0m \u001b[1m2s\u001b[0m 16ms/step - accuracy: 0.9831 - loss: 0.1217 - val_accuracy: 0.9613 - val_loss: 0.2821\n",
      "Epoch 133/200\n",
      "\u001b[1m123/123\u001b[0m \u001b[32m━━━━━━━━━━━━━━━━━━━━\u001b[0m\u001b[37m\u001b[0m \u001b[1m2s\u001b[0m 16ms/step - accuracy: 0.9835 - loss: 0.1360 - val_accuracy: 0.9551 - val_loss: 0.3003\n",
      "Epoch 134/200\n",
      "\u001b[1m123/123\u001b[0m \u001b[32m━━━━━━━━━━━━━━━━━━━━\u001b[0m\u001b[37m\u001b[0m \u001b[1m2s\u001b[0m 16ms/step - accuracy: 0.9808 - loss: 0.1345 - val_accuracy: 0.9613 - val_loss: 0.2690\n",
      "Epoch 135/200\n",
      "\u001b[1m123/123\u001b[0m \u001b[32m━━━━━━━━━━━━━━━━━━━━\u001b[0m\u001b[37m\u001b[0m \u001b[1m2s\u001b[0m 17ms/step - accuracy: 0.9876 - loss: 0.1173 - val_accuracy: 0.9633 - val_loss: 0.2691\n",
      "Epoch 136/200\n",
      "\u001b[1m123/123\u001b[0m \u001b[32m━━━━━━━━━━━━━━━━━━━━\u001b[0m\u001b[37m\u001b[0m \u001b[1m2s\u001b[0m 16ms/step - accuracy: 0.9818 - loss: 0.1321 - val_accuracy: 0.9562 - val_loss: 0.3017\n",
      "Epoch 137/200\n",
      "\u001b[1m123/123\u001b[0m \u001b[32m━━━━━━━━━━━━━━━━━━━━\u001b[0m\u001b[37m\u001b[0m \u001b[1m2s\u001b[0m 16ms/step - accuracy: 0.9763 - loss: 0.1743 - val_accuracy: 0.9551 - val_loss: 0.3320\n",
      "Epoch 138/200\n",
      "\u001b[1m123/123\u001b[0m \u001b[32m━━━━━━━━━━━━━━━━━━━━\u001b[0m\u001b[37m\u001b[0m \u001b[1m2s\u001b[0m 16ms/step - accuracy: 0.9893 - loss: 0.1189 - val_accuracy: 0.9602 - val_loss: 0.2647\n",
      "Epoch 139/200\n",
      "\u001b[1m123/123\u001b[0m \u001b[32m━━━━━━━━━━━━━━━━━━━━\u001b[0m\u001b[37m\u001b[0m \u001b[1m2s\u001b[0m 16ms/step - accuracy: 0.9844 - loss: 0.1284 - val_accuracy: 0.9592 - val_loss: 0.3277\n",
      "Epoch 140/200\n",
      "\u001b[1m123/123\u001b[0m \u001b[32m━━━━━━━━━━━━━━━━━━━━\u001b[0m\u001b[37m\u001b[0m \u001b[1m2s\u001b[0m 16ms/step - accuracy: 0.9804 - loss: 0.1538 - val_accuracy: 0.9562 - val_loss: 0.2677\n",
      "Epoch 141/200\n",
      "\u001b[1m123/123\u001b[0m \u001b[32m━━━━━━━━━━━━━━━━━━━━\u001b[0m\u001b[37m\u001b[0m \u001b[1m2s\u001b[0m 16ms/step - accuracy: 0.9781 - loss: 0.1458 - val_accuracy: 0.9551 - val_loss: 0.3297\n",
      "Epoch 142/200\n",
      "\u001b[1m123/123\u001b[0m \u001b[32m━━━━━━━━━━━━━━━━━━━━\u001b[0m\u001b[37m\u001b[0m \u001b[1m2s\u001b[0m 17ms/step - accuracy: 0.9882 - loss: 0.1181 - val_accuracy: 0.9490 - val_loss: 0.3804\n",
      "Epoch 143/200\n",
      "\u001b[1m123/123\u001b[0m \u001b[32m━━━━━━━━━━━━━━━━━━━━\u001b[0m\u001b[37m\u001b[0m \u001b[1m2s\u001b[0m 16ms/step - accuracy: 0.9858 - loss: 0.1320 - val_accuracy: 0.9551 - val_loss: 0.2947\n",
      "Epoch 144/200\n",
      "\u001b[1m123/123\u001b[0m \u001b[32m━━━━━━━━━━━━━━━━━━━━\u001b[0m\u001b[37m\u001b[0m \u001b[1m2s\u001b[0m 16ms/step - accuracy: 0.9819 - loss: 0.1423 - val_accuracy: 0.9511 - val_loss: 0.3244\n",
      "Epoch 145/200\n",
      "\u001b[1m123/123\u001b[0m \u001b[32m━━━━━━━━━━━━━━━━━━━━\u001b[0m\u001b[37m\u001b[0m \u001b[1m2s\u001b[0m 17ms/step - accuracy: 0.9848 - loss: 0.1206 - val_accuracy: 0.9470 - val_loss: 0.3127\n",
      "Epoch 146/200\n",
      "\u001b[1m123/123\u001b[0m \u001b[32m━━━━━━━━━━━━━━━━━━━━\u001b[0m\u001b[37m\u001b[0m \u001b[1m2s\u001b[0m 16ms/step - accuracy: 0.9804 - loss: 0.1362 - val_accuracy: 0.9470 - val_loss: 0.2921\n",
      "Epoch 147/200\n",
      "\u001b[1m123/123\u001b[0m \u001b[32m━━━━━━━━━━━━━━━━━━━━\u001b[0m\u001b[37m\u001b[0m \u001b[1m2s\u001b[0m 16ms/step - accuracy: 0.9812 - loss: 0.1356 - val_accuracy: 0.9521 - val_loss: 0.3069\n",
      "Epoch 148/200\n",
      "\u001b[1m123/123\u001b[0m \u001b[32m━━━━━━━━━━━━━━━━━━━━\u001b[0m\u001b[37m\u001b[0m \u001b[1m2s\u001b[0m 16ms/step - accuracy: 0.9814 - loss: 0.1420 - val_accuracy: 0.9582 - val_loss: 0.2916\n",
      "Epoch 149/200\n",
      "\u001b[1m123/123\u001b[0m \u001b[32m━━━━━━━━━━━━━━━━━━━━\u001b[0m\u001b[37m\u001b[0m \u001b[1m2s\u001b[0m 17ms/step - accuracy: 0.9812 - loss: 0.1298 - val_accuracy: 0.9521 - val_loss: 0.2845\n",
      "Epoch 150/200\n",
      "\u001b[1m123/123\u001b[0m \u001b[32m━━━━━━━━━━━━━━━━━━━━\u001b[0m\u001b[37m\u001b[0m \u001b[1m2s\u001b[0m 17ms/step - accuracy: 0.9815 - loss: 0.1502 - val_accuracy: 0.9572 - val_loss: 0.3045\n",
      "Epoch 151/200\n",
      "\u001b[1m123/123\u001b[0m \u001b[32m━━━━━━━━━━━━━━━━━━━━\u001b[0m\u001b[37m\u001b[0m \u001b[1m2s\u001b[0m 18ms/step - accuracy: 0.9838 - loss: 0.1243 - val_accuracy: 0.9501 - val_loss: 0.3277\n",
      "Epoch 152/200\n",
      "\u001b[1m123/123\u001b[0m \u001b[32m━━━━━━━━━━━━━━━━━━━━\u001b[0m\u001b[37m\u001b[0m \u001b[1m2s\u001b[0m 16ms/step - accuracy: 0.9884 - loss: 0.1104 - val_accuracy: 0.9511 - val_loss: 0.2947\n",
      "Epoch 153/200\n",
      "\u001b[1m123/123\u001b[0m \u001b[32m━━━━━━━━━━━━━━━━━━━━\u001b[0m\u001b[37m\u001b[0m \u001b[1m2s\u001b[0m 16ms/step - accuracy: 0.9741 - loss: 0.1772 - val_accuracy: 0.9653 - val_loss: 0.2540\n",
      "Epoch 154/200\n",
      "\u001b[1m123/123\u001b[0m \u001b[32m━━━━━━━━━━━━━━━━━━━━\u001b[0m\u001b[37m\u001b[0m \u001b[1m2s\u001b[0m 16ms/step - accuracy: 0.9878 - loss: 0.1129 - val_accuracy: 0.9643 - val_loss: 0.3045\n",
      "Epoch 155/200\n",
      "\u001b[1m123/123\u001b[0m \u001b[32m━━━━━━━━━━━━━━━━━━━━\u001b[0m\u001b[37m\u001b[0m \u001b[1m2s\u001b[0m 17ms/step - accuracy: 0.9873 - loss: 0.1215 - val_accuracy: 0.9531 - val_loss: 0.2811\n",
      "Epoch 156/200\n",
      "\u001b[1m123/123\u001b[0m \u001b[32m━━━━━━━━━━━━━━━━━━━━\u001b[0m\u001b[37m\u001b[0m \u001b[1m2s\u001b[0m 16ms/step - accuracy: 0.9902 - loss: 0.1059 - val_accuracy: 0.9572 - val_loss: 0.2950\n",
      "Epoch 157/200\n",
      "\u001b[1m123/123\u001b[0m \u001b[32m━━━━━━━━━━━━━━━━━━━━\u001b[0m\u001b[37m\u001b[0m \u001b[1m2s\u001b[0m 17ms/step - accuracy: 0.9750 - loss: 0.1428 - val_accuracy: 0.9653 - val_loss: 0.2779\n",
      "Epoch 158/200\n",
      "\u001b[1m123/123\u001b[0m \u001b[32m━━━━━━━━━━━━━━━━━━━━\u001b[0m\u001b[37m\u001b[0m \u001b[1m2s\u001b[0m 16ms/step - accuracy: 0.9857 - loss: 0.1132 - val_accuracy: 0.9633 - val_loss: 0.2912\n",
      "Epoch 159/200\n",
      "\u001b[1m123/123\u001b[0m \u001b[32m━━━━━━━━━━━━━━━━━━━━\u001b[0m\u001b[37m\u001b[0m \u001b[1m2s\u001b[0m 17ms/step - accuracy: 0.9825 - loss: 0.1252 - val_accuracy: 0.9653 - val_loss: 0.2647\n",
      "Epoch 160/200\n",
      "\u001b[1m123/123\u001b[0m \u001b[32m━━━━━━━━━━━━━━━━━━━━\u001b[0m\u001b[37m\u001b[0m \u001b[1m2s\u001b[0m 16ms/step - accuracy: 0.9892 - loss: 0.1102 - val_accuracy: 0.9480 - val_loss: 0.4279\n",
      "Epoch 161/200\n",
      "\u001b[1m123/123\u001b[0m \u001b[32m━━━━━━━━━━━━━━━━━━━━\u001b[0m\u001b[37m\u001b[0m \u001b[1m2s\u001b[0m 17ms/step - accuracy: 0.9808 - loss: 0.1476 - val_accuracy: 0.9551 - val_loss: 0.2902\n",
      "Epoch 162/200\n",
      "\u001b[1m123/123\u001b[0m \u001b[32m━━━━━━━━━━━━━━━━━━━━\u001b[0m\u001b[37m\u001b[0m \u001b[1m2s\u001b[0m 16ms/step - accuracy: 0.9856 - loss: 0.1263 - val_accuracy: 0.9551 - val_loss: 0.3641\n",
      "Epoch 163/200\n",
      "\u001b[1m123/123\u001b[0m \u001b[32m━━━━━━━━━━━━━━━━━━━━\u001b[0m\u001b[37m\u001b[0m \u001b[1m2s\u001b[0m 16ms/step - accuracy: 0.9904 - loss: 0.1008 - val_accuracy: 0.9541 - val_loss: 0.2927\n",
      "Epoch 164/200\n",
      "\u001b[1m123/123\u001b[0m \u001b[32m━━━━━━━━━━━━━━━━━━━━\u001b[0m\u001b[37m\u001b[0m \u001b[1m2s\u001b[0m 17ms/step - accuracy: 0.9745 - loss: 0.1660 - val_accuracy: 0.9429 - val_loss: 0.3253\n",
      "Epoch 165/200\n",
      "\u001b[1m123/123\u001b[0m \u001b[32m━━━━━━━━━━━━━━━━━━━━\u001b[0m\u001b[37m\u001b[0m \u001b[1m2s\u001b[0m 16ms/step - accuracy: 0.9812 - loss: 0.1358 - val_accuracy: 0.9501 - val_loss: 0.3947\n",
      "Epoch 166/200\n",
      "\u001b[1m123/123\u001b[0m \u001b[32m━━━━━━━━━━━━━━━━━━━━\u001b[0m\u001b[37m\u001b[0m \u001b[1m2s\u001b[0m 17ms/step - accuracy: 0.9823 - loss: 0.1325 - val_accuracy: 0.9623 - val_loss: 0.2672\n",
      "Epoch 167/200\n",
      "\u001b[1m123/123\u001b[0m \u001b[32m━━━━━━━━━━━━━━━━━━━━\u001b[0m\u001b[37m\u001b[0m \u001b[1m2s\u001b[0m 17ms/step - accuracy: 0.9865 - loss: 0.1204 - val_accuracy: 0.9674 - val_loss: 0.2700\n",
      "Epoch 168/200\n",
      "\u001b[1m123/123\u001b[0m \u001b[32m━━━━━━━━━━━━━━━━━━━━\u001b[0m\u001b[37m\u001b[0m \u001b[1m2s\u001b[0m 16ms/step - accuracy: 0.9870 - loss: 0.1150 - val_accuracy: 0.9653 - val_loss: 0.2762\n",
      "Epoch 169/200\n",
      "\u001b[1m123/123\u001b[0m \u001b[32m━━━━━━━━━━━━━━━━━━━━\u001b[0m\u001b[37m\u001b[0m \u001b[1m2s\u001b[0m 17ms/step - accuracy: 0.9804 - loss: 0.1301 - val_accuracy: 0.9664 - val_loss: 0.2963\n",
      "Epoch 170/200\n",
      "\u001b[1m123/123\u001b[0m \u001b[32m━━━━━━━━━━━━━━━━━━━━\u001b[0m\u001b[37m\u001b[0m \u001b[1m2s\u001b[0m 16ms/step - accuracy: 0.9793 - loss: 0.1277 - val_accuracy: 0.9633 - val_loss: 0.2937\n",
      "Epoch 171/200\n",
      "\u001b[1m123/123\u001b[0m \u001b[32m━━━━━━━━━━━━━━━━━━━━\u001b[0m\u001b[37m\u001b[0m \u001b[1m2s\u001b[0m 17ms/step - accuracy: 0.9831 - loss: 0.1317 - val_accuracy: 0.9602 - val_loss: 0.3077\n",
      "Epoch 172/200\n",
      "\u001b[1m123/123\u001b[0m \u001b[32m━━━━━━━━━━━━━━━━━━━━\u001b[0m\u001b[37m\u001b[0m \u001b[1m2s\u001b[0m 16ms/step - accuracy: 0.9856 - loss: 0.1188 - val_accuracy: 0.9562 - val_loss: 0.3377\n",
      "Epoch 173/200\n",
      "\u001b[1m123/123\u001b[0m \u001b[32m━━━━━━━━━━━━━━━━━━━━\u001b[0m\u001b[37m\u001b[0m \u001b[1m2s\u001b[0m 16ms/step - accuracy: 0.9836 - loss: 0.1263 - val_accuracy: 0.9643 - val_loss: 0.2662\n",
      "Epoch 174/200\n",
      "\u001b[1m123/123\u001b[0m \u001b[32m━━━━━━━━━━━━━━━━━━━━\u001b[0m\u001b[37m\u001b[0m \u001b[1m2s\u001b[0m 16ms/step - accuracy: 0.9891 - loss: 0.1141 - val_accuracy: 0.9562 - val_loss: 0.2877\n",
      "Epoch 175/200\n",
      "\u001b[1m123/123\u001b[0m \u001b[32m━━━━━━━━━━━━━━━━━━━━\u001b[0m\u001b[37m\u001b[0m \u001b[1m2s\u001b[0m 16ms/step - accuracy: 0.9860 - loss: 0.1112 - val_accuracy: 0.9541 - val_loss: 0.3129\n",
      "Epoch 176/200\n",
      "\u001b[1m123/123\u001b[0m \u001b[32m━━━━━━━━━━━━━━━━━━━━\u001b[0m\u001b[37m\u001b[0m \u001b[1m2s\u001b[0m 16ms/step - accuracy: 0.9921 - loss: 0.0968 - val_accuracy: 0.9674 - val_loss: 0.2801\n",
      "Epoch 177/200\n",
      "\u001b[1m123/123\u001b[0m \u001b[32m━━━━━━━━━━━━━━━━━━━━\u001b[0m\u001b[37m\u001b[0m \u001b[1m2s\u001b[0m 16ms/step - accuracy: 0.9884 - loss: 0.1251 - val_accuracy: 0.9643 - val_loss: 0.2844\n",
      "Epoch 178/200\n",
      "\u001b[1m123/123\u001b[0m \u001b[32m━━━━━━━━━━━━━━━━━━━━\u001b[0m\u001b[37m\u001b[0m \u001b[1m2s\u001b[0m 16ms/step - accuracy: 0.9869 - loss: 0.1111 - val_accuracy: 0.9582 - val_loss: 0.3319\n",
      "Epoch 179/200\n",
      "\u001b[1m123/123\u001b[0m \u001b[32m━━━━━━━━━━━━━━━━━━━━\u001b[0m\u001b[37m\u001b[0m \u001b[1m2s\u001b[0m 17ms/step - accuracy: 0.9859 - loss: 0.1025 - val_accuracy: 0.9551 - val_loss: 0.3285\n",
      "Epoch 180/200\n",
      "\u001b[1m123/123\u001b[0m \u001b[32m━━━━━━━━━━━━━━━━━━━━\u001b[0m\u001b[37m\u001b[0m \u001b[1m2s\u001b[0m 17ms/step - accuracy: 0.9841 - loss: 0.1232 - val_accuracy: 0.9551 - val_loss: 0.3371\n",
      "Epoch 181/200\n",
      "\u001b[1m123/123\u001b[0m \u001b[32m━━━━━━━━━━━━━━━━━━━━\u001b[0m\u001b[37m\u001b[0m \u001b[1m2s\u001b[0m 16ms/step - accuracy: 0.9903 - loss: 0.1046 - val_accuracy: 0.9531 - val_loss: 0.3180\n",
      "Epoch 182/200\n",
      "\u001b[1m123/123\u001b[0m \u001b[32m━━━━━━━━━━━━━━━━━━━━\u001b[0m\u001b[37m\u001b[0m \u001b[1m2s\u001b[0m 18ms/step - accuracy: 0.9836 - loss: 0.1140 - val_accuracy: 0.9531 - val_loss: 0.3458\n",
      "Epoch 183/200\n",
      "\u001b[1m123/123\u001b[0m \u001b[32m━━━━━━━━━━━━━━━━━━━━\u001b[0m\u001b[37m\u001b[0m \u001b[1m2s\u001b[0m 16ms/step - accuracy: 0.9841 - loss: 0.1175 - val_accuracy: 0.9572 - val_loss: 0.3144\n",
      "Epoch 184/200\n",
      "\u001b[1m123/123\u001b[0m \u001b[32m━━━━━━━━━━━━━━━━━━━━\u001b[0m\u001b[37m\u001b[0m \u001b[1m2s\u001b[0m 17ms/step - accuracy: 0.9857 - loss: 0.1141 - val_accuracy: 0.9551 - val_loss: 0.3156\n",
      "Epoch 185/200\n",
      "\u001b[1m123/123\u001b[0m \u001b[32m━━━━━━━━━━━━━━━━━━━━\u001b[0m\u001b[37m\u001b[0m \u001b[1m2s\u001b[0m 16ms/step - accuracy: 0.9894 - loss: 0.1053 - val_accuracy: 0.9653 - val_loss: 0.3056\n",
      "Epoch 186/200\n",
      "\u001b[1m123/123\u001b[0m \u001b[32m━━━━━━━━━━━━━━━━━━━━\u001b[0m\u001b[37m\u001b[0m \u001b[1m2s\u001b[0m 17ms/step - accuracy: 0.9878 - loss: 0.1132 - val_accuracy: 0.9562 - val_loss: 0.3245\n",
      "Epoch 187/200\n",
      "\u001b[1m123/123\u001b[0m \u001b[32m━━━━━━━━━━━━━━━━━━━━\u001b[0m\u001b[37m\u001b[0m \u001b[1m2s\u001b[0m 16ms/step - accuracy: 0.9922 - loss: 0.0894 - val_accuracy: 0.9551 - val_loss: 0.2748\n",
      "Epoch 188/200\n",
      "\u001b[1m123/123\u001b[0m \u001b[32m━━━━━━━━━━━━━━━━━━━━\u001b[0m\u001b[37m\u001b[0m \u001b[1m2s\u001b[0m 16ms/step - accuracy: 0.9882 - loss: 0.0995 - val_accuracy: 0.9623 - val_loss: 0.2701\n",
      "Epoch 189/200\n",
      "\u001b[1m123/123\u001b[0m \u001b[32m━━━━━━━━━━━━━━━━━━━━\u001b[0m\u001b[37m\u001b[0m \u001b[1m2s\u001b[0m 17ms/step - accuracy: 0.9876 - loss: 0.1111 - val_accuracy: 0.9674 - val_loss: 0.2507\n",
      "Epoch 190/200\n",
      "\u001b[1m123/123\u001b[0m \u001b[32m━━━━━━━━━━━━━━━━━━━━\u001b[0m\u001b[37m\u001b[0m \u001b[1m2s\u001b[0m 16ms/step - accuracy: 0.9911 - loss: 0.0957 - val_accuracy: 0.9613 - val_loss: 0.2945\n",
      "Epoch 191/200\n",
      "\u001b[1m123/123\u001b[0m \u001b[32m━━━━━━━━━━━━━━━━━━━━\u001b[0m\u001b[37m\u001b[0m \u001b[1m2s\u001b[0m 16ms/step - accuracy: 0.9858 - loss: 0.1066 - val_accuracy: 0.9541 - val_loss: 0.3324\n",
      "Epoch 192/200\n",
      "\u001b[1m123/123\u001b[0m \u001b[32m━━━━━━━━━━━━━━━━━━━━\u001b[0m\u001b[37m\u001b[0m \u001b[1m2s\u001b[0m 16ms/step - accuracy: 0.9765 - loss: 0.1545 - val_accuracy: 0.9623 - val_loss: 0.3263\n",
      "Epoch 193/200\n",
      "\u001b[1m123/123\u001b[0m \u001b[32m━━━━━━━━━━━━━━━━━━━━\u001b[0m\u001b[37m\u001b[0m \u001b[1m2s\u001b[0m 16ms/step - accuracy: 0.9836 - loss: 0.1314 - val_accuracy: 0.9551 - val_loss: 0.3299\n",
      "Epoch 194/200\n",
      "\u001b[1m123/123\u001b[0m \u001b[32m━━━━━━━━━━━━━━━━━━━━\u001b[0m\u001b[37m\u001b[0m \u001b[1m2s\u001b[0m 17ms/step - accuracy: 0.9877 - loss: 0.1169 - val_accuracy: 0.9511 - val_loss: 0.3440\n",
      "Epoch 195/200\n",
      "\u001b[1m123/123\u001b[0m \u001b[32m━━━━━━━━━━━━━━━━━━━━\u001b[0m\u001b[37m\u001b[0m \u001b[1m2s\u001b[0m 16ms/step - accuracy: 0.9807 - loss: 0.1442 - val_accuracy: 0.9613 - val_loss: 0.2632\n",
      "Epoch 196/200\n",
      "\u001b[1m123/123\u001b[0m \u001b[32m━━━━━━━━━━━━━━━━━━━━\u001b[0m\u001b[37m\u001b[0m \u001b[1m2s\u001b[0m 16ms/step - accuracy: 0.9874 - loss: 0.1069 - val_accuracy: 0.9613 - val_loss: 0.2669\n",
      "Epoch 197/200\n",
      "\u001b[1m123/123\u001b[0m \u001b[32m━━━━━━━━━━━━━━━━━━━━\u001b[0m\u001b[37m\u001b[0m \u001b[1m2s\u001b[0m 17ms/step - accuracy: 0.9873 - loss: 0.1148 - val_accuracy: 0.9592 - val_loss: 0.2772\n",
      "Epoch 198/200\n",
      "\u001b[1m123/123\u001b[0m \u001b[32m━━━━━━━━━━━━━━━━━━━━\u001b[0m\u001b[37m\u001b[0m \u001b[1m2s\u001b[0m 17ms/step - accuracy: 0.9851 - loss: 0.1152 - val_accuracy: 0.9602 - val_loss: 0.2857\n",
      "Epoch 199/200\n",
      "\u001b[1m123/123\u001b[0m \u001b[32m━━━━━━━━━━━━━━━━━━━━\u001b[0m\u001b[37m\u001b[0m \u001b[1m2s\u001b[0m 17ms/step - accuracy: 0.9870 - loss: 0.1167 - val_accuracy: 0.9551 - val_loss: 0.3076\n",
      "Epoch 200/200\n",
      "\u001b[1m123/123\u001b[0m \u001b[32m━━━━━━━━━━━━━━━━━━━━\u001b[0m\u001b[37m\u001b[0m \u001b[1m2s\u001b[0m 16ms/step - accuracy: 0.9892 - loss: 0.0959 - val_accuracy: 0.9613 - val_loss: 0.3285\n"
     ]
    }
   ],
   "source": [
    "from tensorflow.keras.models import Sequential\n",
    "from tensorflow.keras.layers import Conv1D, MaxPooling1D, LSTM, Bidirectional, Dense, Dropout, BatchNormalization\n",
    "from tensorflow.keras.regularizers import l2\n",
    "from tensorflow.keras.callbacks import ModelCheckpoint\n",
    "\n",
    "checkpoint_cb = ModelCheckpoint(\n",
    "    filepath='checkpoints/epoch_{epoch:02d}.weights.h5',\n",
    "    save_weights_only=True,\n",
    "    save_freq='epoch'\n",
    ")\n",
    "model = Sequential([\n",
    "    \n",
    "    \n",
    "    Conv1D(64, 3, padding='same', activation='relu', input_shape=(X.shape[1], X.shape[2])),\n",
    "    BatchNormalization(),\n",
    "    MaxPooling1D(2),\n",
    "    Dropout(0.3),\n",
    "\n",
    "    Conv1D(128, 3, padding='same', activation='relu'),\n",
    "    BatchNormalization(),\n",
    "    MaxPooling1D(2),\n",
    "    Dropout(0.3),\n",
    "\n",
    "    Bidirectional(LSTM(128, return_sequences=False)),\n",
    "    BatchNormalization(),\n",
    "\n",
    "    Dense(256, activation='relu', kernel_regularizer=l2(0.001)),\n",
    "    BatchNormalization(),\n",
    "    Dropout(0.3),\n",
    "\n",
    "    Dense(128, activation='relu', kernel_regularizer=l2(0.001)),\n",
    "    BatchNormalization(),\n",
    "    Dropout(0.3),\n",
    "\n",
    "    Dense(128, activation='relu', kernel_regularizer=l2(0.001)),\n",
    "    BatchNormalization(),\n",
    "    Dropout(0.3),\n",
    "    \n",
    "    Dense(y.shape[1], activation='softmax')\n",
    "])\n",
    "\n",
    "model.compile(optimizer='adam', loss='categorical_crossentropy', metrics=['accuracy'])\n",
    "\n",
    "history=model.fit(X_train, y_train, validation_data=(X_val, y_val), epochs=200, batch_size=32,callbacks=[checkpoint_cb])#,class_weight=class_weights)removed due to no improvement"
   ]
  },
  {
   "cell_type": "code",
   "execution_count": 9,
   "id": "5c29ec48",
   "metadata": {
    "execution": {
     "iopub.execute_input": "2025-06-22T15:59:32.790380Z",
     "iopub.status.busy": "2025-06-22T15:59:32.790075Z",
     "iopub.status.idle": "2025-06-22T15:59:33.005194Z",
     "shell.execute_reply": "2025-06-22T15:59:33.004664Z"
    },
    "papermill": {
     "duration": 0.486387,
     "end_time": "2025-06-22T15:59:33.006326",
     "exception": false,
     "start_time": "2025-06-22T15:59:32.519939",
     "status": "completed"
    },
    "tags": []
   },
   "outputs": [
    {
     "name": "stdout",
     "output_type": "stream",
     "text": [
      "Best average (acc + val_acc)/2 at epoch 176,accuracy=0.9898037314414978, validation accuracy=0.9673802256584167, average value = 0.9786\n"
     ]
    }
   ],
   "source": [
    "train_acc = np.array(history.history['accuracy'])\n",
    "val_acc = np.array(history.history['val_accuracy'])\n",
    "loss=np.array(history.history['loss'])\n",
    "val_loss=np.array(history.history['val_loss'])\n",
    "avg_loss=(loss+val_loss)/2\n",
    "avg_acc = (train_acc + val_acc) / 2\n",
    "best_epoch = np.argmax(avg_acc) + 1  # +1 because epochs start from 1 in filenames\n",
    "\n",
    "print(f\"Best average (acc + val_acc)/2 at epoch {best_epoch},accuracy={train_acc[best_epoch-1]}, validation accuracy={val_acc[best_epoch-1]}, average value = {avg_acc[best_epoch-1]:.4f}\")\n",
    "history.model.load_weights(f\"checkpoints/epoch_{best_epoch:02d}.weights.h5\")\n",
    "model.save(\"kaggle/working/model.h5\")"
   ]
  },
  {
   "cell_type": "code",
   "execution_count": 10,
   "id": "16eba57c",
   "metadata": {
    "execution": {
     "iopub.execute_input": "2025-06-22T15:59:33.591002Z",
     "iopub.status.busy": "2025-06-22T15:59:33.590484Z",
     "iopub.status.idle": "2025-06-22T15:59:35.247791Z",
     "shell.execute_reply": "2025-06-22T15:59:35.247133Z"
    },
    "papermill": {
     "duration": 1.973813,
     "end_time": "2025-06-22T15:59:35.249125",
     "exception": false,
     "start_time": "2025-06-22T15:59:33.275312",
     "status": "completed"
    },
    "tags": []
   },
   "outputs": [
    {
     "name": "stdout",
     "output_type": "stream",
     "text": [
      "\u001b[1m31/31\u001b[0m \u001b[32m━━━━━━━━━━━━━━━━━━━━\u001b[0m\u001b[37m\u001b[0m \u001b[1m1s\u001b[0m 18ms/step\n",
      "              precision    recall  f1-score   support\n",
      "\n",
      "       angry       0.96      1.00      0.98       150\n",
      "        calm       0.97      0.99      0.98       151\n",
      "     disgust       1.00      0.97      0.99        77\n",
      "     fearful       0.94      0.97      0.95       150\n",
      "       happy       0.97      0.92      0.95       150\n",
      "     neutral       0.97      1.00      0.99        75\n",
      "         sad       1.00      0.93      0.97       151\n",
      "   surprised       0.93      0.97      0.95        77\n",
      "\n",
      "    accuracy                           0.97       981\n",
      "   macro avg       0.97      0.97      0.97       981\n",
      "weighted avg       0.97      0.97      0.97       981\n",
      "\n"
     ]
    },
    {
     "data": {
      "image/png": "[encoded data removed]",
      "text/plain": [
       "<Figure size 640x480 with 2 Axes>"
      ]
     },
     "metadata": {},
     "output_type": "display_data"
    }
   ],
   "source": [
    "y_pred = model.predict(X_val)\n",
    "y_pred_labels = np.argmax(y_pred, axis=1)\n",
    "y_true = np.argmax(y_val, axis=1)\n",
    "target_names = le.classes_\n",
    "\n",
    "\n",
    "# Classification report\n",
    "report =classification_report(y_true, y_pred_labels, target_names=target_names)\n",
    "print(report)\n",
    "with open(\"kaggle/working/classification_report.txt\", \"w\") as f:\n",
    "    f.write(report)\n",
    "# Confusion matrix\n",
    "cm = confusion_matrix(y_true, y_pred_labels)\n",
    "sns.heatmap(cm, annot=True, fmt='d', xticklabels=target_names, yticklabels=target_names)\n",
    "plt.xlabel('Predicted')\n",
    "plt.ylabel('True')\n",
    "plt.title('Confusion Matrix')\n",
    "plt.savefig(\"kaggle/working/confusion_matrix.png\", dpi=300) \n",
    "plt.show()\n",
    "\n"
   ]
  },
  {
   "cell_type": "code",
   "execution_count": 11,
   "id": "711b6e19",
   "metadata": {
    "execution": {
     "iopub.execute_input": "2025-06-22T15:59:35.797195Z",
     "iopub.status.busy": "2025-06-22T15:59:35.796360Z",
     "iopub.status.idle": "2025-06-22T15:59:35.951263Z",
     "shell.execute_reply": "2025-06-22T15:59:35.950503Z"
    },
    "papermill": {
     "duration": 0.426354,
     "end_time": "2025-06-22T15:59:35.952591",
     "exception": false,
     "start_time": "2025-06-22T15:59:35.526237",
     "status": "completed"
    },
    "tags": []
   },
   "outputs": [
    {
     "data": {
      "image/png": "[encoded data removed]",
      "text/plain": [
       "<Figure size 640x480 with 1 Axes>"
      ]
     },
     "metadata": {},
     "output_type": "display_data"
    }
   ],
   "source": [
    "\n",
    "\n",
    "acc=history.history['accuracy']\n",
    "val_acc=history.history['val_accuracy']\n",
    "epochs=range(len(acc))\n",
    "plt.plot(epochs,acc,label='train_accuracy')\n",
    "plt.plot(epochs,val_acc,label='val_accuracy')\n",
    "plt.plot(epochs,avg_acc,label='average')\n",
    "plt.xlabel('epochs')\n",
    "plt.ylabel('accuracy')\n",
    "plt.legend()\n",
    "plt.show()\n",
    "\n"
   ]
  },
  {
   "cell_type": "code",
   "execution_count": 12,
   "id": "57ffa906",
   "metadata": {
    "execution": {
     "iopub.execute_input": "2025-06-22T15:59:36.539035Z",
     "iopub.status.busy": "2025-06-22T15:59:36.538751Z",
     "iopub.status.idle": "2025-06-22T15:59:36.687987Z",
     "shell.execute_reply": "2025-06-22T15:59:36.687295Z"
    },
    "papermill": {
     "duration": 0.465678,
     "end_time": "2025-06-22T15:59:36.689035",
     "exception": false,
     "start_time": "2025-06-22T15:59:36.223357",
     "status": "completed"
    },
    "tags": []
   },
   "outputs": [
    {
     "data": {
      "image/png": "[encoded data removed]",
      "text/plain": [
       "<Figure size 640x480 with 1 Axes>"
      ]
     },
     "metadata": {},
     "output_type": "display_data"
    }
   ],
   "source": [
    "\n",
    "\n",
    "loss=history.history['loss']\n",
    "val_loss=history.history['val_loss']\n",
    "plt.plot(epochs,loss,label='train_loss')\n",
    "plt.plot(epochs,val_loss,label='val_loss')\n",
    "plt.plot(epochs,avg_loss,label='average')\n",
    "plt.xlabel('epochs')\n",
    "plt.ylabel('loss')\n",
    "plt.legend()\n",
    "plt.show()\n",
    "\n"
   ]
  }
 ],
 "metadata": {
  "kaggle": {
   "accelerator": "gpu",
   "dataSources": [
    {
     "datasetId": 107620,
     "sourceId": 256618,
     "sourceType": "datasetVersion"
    },
    {
     "datasetId": 107666,
     "sourceId": 256774,
     "sourceType": "datasetVersion"
    }
   ],
   "dockerImageVersionId": 31040,
   "isGpuEnabled": true,
   "isInternetEnabled": true,
   "language": "python",
   "sourceType": "notebook"
  },
  "kernelspec": {
   "display_name": "Python 3",
   "language": "python",
   "name": "python3"
  },
  "language_info": {
   "codemirror_mode": {
    "name": "ipython",
    "version": 3
   },
   "file_extension": ".py",
   "mimetype": "text/x-python",
   "name": "python",
   "nbconvert_exporter": "python",
   "pygments_lexer": "ipython3",
   "version": "3.11.11"
  },
  "papermill": {
   "default_parameters": {},
   "duration": 798.611044,
   "end_time": "2025-06-22T15:59:40.421781",
   "environment_variables": {},
   "exception": null,
   "input_path": "__notebook__.ipynb",
   "output_path": "__notebook__.ipynb",
   "parameters": {},
   "start_time": "2025-06-22T15:46:21.810737",
   "version": "2.6.0"
  }
 },
 "nbformat": 4,
 "nbformat_minor": 5
}
