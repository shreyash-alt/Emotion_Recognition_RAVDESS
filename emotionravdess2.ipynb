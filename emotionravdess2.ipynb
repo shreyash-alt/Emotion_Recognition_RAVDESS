{
 "cells": [
  {
   "cell_type": "code",
   "execution_count": 1,
   "id": "1a4098e1",
   "metadata": {
    "_cell_guid": "b1076dfc-b9ad-4769-8c92-a6c4dae69d19",
    "_uuid": "8f2839f25d086af736a60e9eeb907d3b93b6e0e5",
    "execution": {
     "iopub.execute_input": "2025-06-23T06:57:03.906056Z",
     "iopub.status.busy": "2025-06-23T06:57:03.905769Z",
     "iopub.status.idle": "2025-06-23T06:57:22.424471Z",
     "shell.execute_reply": "2025-06-23T06:57:22.423654Z"
    },
    "papermill": {
     "duration": 18.52423,
     "end_time": "2025-06-23T06:57:22.425975",
     "exception": false,
     "start_time": "2025-06-23T06:57:03.901745",
     "status": "completed"
    },
    "tags": []
   },
   "outputs": [
    {
     "name": "stderr",
     "output_type": "stream",
     "text": [
      "2025-06-23 06:57:09.407362: E external/local_xla/xla/stream_executor/cuda/cuda_fft.cc:477] Unable to register cuFFT factory: Attempting to register factory for plugin cuFFT when one has already been registered\n",
      "WARNING: All log messages before absl::InitializeLog() is called are written to STDERR\n",
      "E0000 00:00:1750661829.681020      19 cuda_dnn.cc:8310] Unable to register cuDNN factory: Attempting to register factory for plugin cuDNN when one has already been registered\n",
      "E0000 00:00:1750661829.764351      19 cuda_blas.cc:1418] Unable to register cuBLAS factory: Attempting to register factory for plugin cuBLAS when one has already been registered\n"
     ]
    }
   ],
   "source": [
    "import os\n",
    "import numpy as np\n",
    "import pandas as pd\n",
    "import librosa\n",
    "from sklearn.model_selection import train_test_split\n",
    "from sklearn.preprocessing import OneHotEncoder\n",
    "from sklearn.preprocessing import StandardScaler\n",
    "from sklearn.utils.class_weight import compute_class_weight\n",
    "from sklearn.preprocessing import LabelEncoder\n",
    "from tensorflow.keras.utils import to_categorical\n",
    "import tensorflow as tf\n",
    "from sklearn.metrics import classification_report, confusion_matrix\n",
    "import seaborn as sns\n",
    "import matplotlib.pyplot as plt\n",
    "import joblib\n"
   ]
  },
  {
   "cell_type": "code",
   "execution_count": 2,
   "id": "29772945",
   "metadata": {
    "execution": {
     "iopub.execute_input": "2025-06-23T06:57:22.432441Z",
     "iopub.status.busy": "2025-06-23T06:57:22.432056Z",
     "iopub.status.idle": "2025-06-23T06:57:22.439199Z",
     "shell.execute_reply": "2025-06-23T06:57:22.438507Z"
    },
    "papermill": {
     "duration": 0.011316,
     "end_time": "2025-06-23T06:57:22.440310",
     "exception": false,
     "start_time": "2025-06-23T06:57:22.428994",
     "status": "completed"
    },
    "tags": []
   },
   "outputs": [],
   "source": [
    "def extract_emotion_features(filename, fixed_length=130):\n",
    "    y, sr = librosa.load(filename, duration=4, offset=0)\n",
    "    # MFCC + Delta\n",
    "    mfcc = librosa.feature.mfcc(y=y, sr=sr, n_mfcc=13)\n",
    "    mfcc = librosa.util.fix_length(mfcc, size=fixed_length, axis=1)\n",
    "\n",
    "    delta = librosa.feature.delta(mfcc)\n",
    "    delta = librosa.util.fix_length(delta, size=fixed_length, axis=1)\n",
    "\n",
    "    delta2 = librosa.feature.delta(mfcc, order=2)\n",
    "    delta2 = librosa.util.fix_length(delta2, size=fixed_length, axis=1)\n",
    "\n",
    "    # Chroma\n",
    "    chroma = librosa.feature.chroma_stft(y=y, sr=sr)\n",
    "    chroma = librosa.util.fix_length(chroma, size=fixed_length, axis=1)\n",
    "\n",
    "    # Spectral contrast\n",
    "    contrast = librosa.feature.spectral_contrast(y=y, sr=sr)\n",
    "    contrast = librosa.util.fix_length(contrast, size=fixed_length, axis=1)\n",
    "\n",
    "    # Zero-Crossing Rate\n",
    "    zcr = librosa.feature.zero_crossing_rate(y)\n",
    "    zcr = librosa.util.fix_length(zcr, size=fixed_length, axis=1)\n",
    "\n",
    "    # Spectral Bandwidth\n",
    "    bandwidth = librosa.feature.spectral_bandwidth(y=y, sr=sr)\n",
    "    bandwidth = librosa.util.fix_length(bandwidth, size=fixed_length, axis=1)\n",
    "\n",
    "    # Pitch using librosa's piptrack\n",
    "    pitches, magnitudes = librosa.piptrack(y=y, sr=sr)\n",
    "    pitch_track = np.mean(pitches, axis=0)\n",
    "    pitch_track = librosa.util.fix_length(pitch_track, size=fixed_length)\n",
    "    pitch_feature = np.expand_dims(pitch_track, axis=0)\n",
    "\n",
    "\n",
    "    # RMS energy\n",
    "    rms = librosa.feature.rms(y=y)\n",
    "    rms = librosa.util.fix_length(rms, size=fixed_length, axis=1)\n",
    "\n",
    "    # Concatenate all features\n",
    "    combined = np.concatenate((mfcc, delta,delta2, chroma, contrast, zcr, bandwidth, pitch_feature,rms), axis=0)\n",
    "\n",
    "    return combined.T  # Shape: (time_steps, features)"
   ]
  },
  {
   "cell_type": "code",
   "execution_count": 3,
   "id": "382cc903",
   "metadata": {
    "execution": {
     "iopub.execute_input": "2025-06-23T06:57:22.445920Z",
     "iopub.status.busy": "2025-06-23T06:57:22.445675Z",
     "iopub.status.idle": "2025-06-23T06:57:34.387904Z",
     "shell.execute_reply": "2025-06-23T06:57:34.387042Z"
    },
    "papermill": {
     "duration": 11.946561,
     "end_time": "2025-06-23T06:57:34.389238",
     "exception": false,
     "start_time": "2025-06-23T06:57:22.442677",
     "status": "completed"
    },
    "tags": []
   },
   "outputs": [
    {
     "name": "stdout",
     "output_type": "stream",
     "text": [
      "4904\n"
     ]
    }
   ],
   "source": [
    "def extract_label_from_filename(filename):\n",
    "    modality=int(filename.split('-')[1])\n",
    "    emotion_code = int(filename.split('-')[2])\n",
    "    emotion_map = {\n",
    "        1: 'neutral', 2: 'calm', 3: 'happy', 4: 'sad',\n",
    "        5: 'angry', 6: 'fearful', 7: 'disgust', 8: 'surprised'\n",
    "    }\n",
    "    emotion=emotion_map.get(emotion_code)\n",
    "    #return f\"{modality}_{emotion}\"\n",
    "    return emotion\n",
    "\n",
    "# Load file paths and labels\n",
    "file_paths = []\n",
    "labels = []\n",
    "\n",
    "for dirname, _, filenames in os.walk('/kaggle/input'):\n",
    "    for filename in filenames:\n",
    "        if filename.endswith('.wav'):\n",
    "            label = extract_label_from_filename(filename)\n",
    "            if label:\n",
    "                path = os.path.join(dirname, filename)\n",
    "                file_paths.append(path)\n",
    "                labels.append(label)\n",
    "\n",
    "df = pd.DataFrame({'audio': file_paths, 'label': labels})\n",
    "print(len(file_paths))"
   ]
  },
  {
   "cell_type": "code",
   "execution_count": 4,
   "id": "ad3f4795",
   "metadata": {
    "execution": {
     "iopub.execute_input": "2025-06-23T06:57:34.395733Z",
     "iopub.status.busy": "2025-06-23T06:57:34.395232Z",
     "iopub.status.idle": "2025-06-23T07:03:44.761054Z",
     "shell.execute_reply": "2025-06-23T07:03:44.760246Z"
    },
    "papermill": {
     "duration": 370.372223,
     "end_time": "2025-06-23T07:03:44.764167",
     "exception": false,
     "start_time": "2025-06-23T06:57:34.391944",
     "status": "completed"
    },
    "tags": []
   },
   "outputs": [
    {
     "name": "stdout",
     "output_type": "stream",
     "text": [
      "(4904, 130, 62)\n"
     ]
    }
   ],
   "source": [
    "X_features = [extract_emotion_features(f) for f in df['audio']]\n",
    "X = np.array(X_features)\n",
    "print(X.shape)"
   ]
  },
  {
   "cell_type": "code",
   "execution_count": 5,
   "id": "7177cfef",
   "metadata": {
    "execution": {
     "iopub.execute_input": "2025-06-23T07:03:44.770408Z",
     "iopub.status.busy": "2025-06-23T07:03:44.769845Z",
     "iopub.status.idle": "2025-06-23T07:03:44.778998Z",
     "shell.execute_reply": "2025-06-23T07:03:44.778444Z"
    },
    "papermill": {
     "duration": 0.01329,
     "end_time": "2025-06-23T07:03:44.780055",
     "exception": false,
     "start_time": "2025-06-23T07:03:44.766765",
     "status": "completed"
    },
    "tags": []
   },
   "outputs": [
    {
     "name": "stdout",
     "output_type": "stream",
     "text": [
      "{0: 0.8151595744680851, 1: 0.8151595744680851, 2: 1.5963541666666667, 3: 0.8151595744680851, 4: 0.8151595744680851, 5: 1.6303191489361701, 6: 0.8151595744680851, 7: 1.5963541666666667}\n",
      "['angry' 'calm' 'disgust' 'fearful' 'happy' 'neutral' 'sad' 'surprised']\n"
     ]
    }
   ],
   "source": [
    "\n",
    "\n",
    "# Encode labels to integers\n",
    "le = LabelEncoder()\n",
    "y= le.fit_transform(df['label'])  # Integer labels for class_weight\n",
    "\n",
    "\n",
    "\n",
    "# Compute class weights\n",
    "class_weights = compute_class_weight(class_weight='balanced', classes=np.unique(y), y=y)\n",
    "class_weights = dict(enumerate(class_weights))\n",
    "print(class_weights)\n",
    "# One-hot encode for model training\n",
    "y = to_categorical(y)\n",
    "print(le.classes_)"
   ]
  },
  {
   "cell_type": "code",
   "execution_count": 6,
   "id": "1806e030",
   "metadata": {
    "execution": {
     "iopub.execute_input": "2025-06-23T07:03:44.785664Z",
     "iopub.status.busy": "2025-06-23T07:03:44.785461Z",
     "iopub.status.idle": "2025-06-23T07:03:44.922791Z",
     "shell.execute_reply": "2025-06-23T07:03:44.922182Z"
    },
    "papermill": {
     "duration": 0.141785,
     "end_time": "2025-06-23T07:03:44.924332",
     "exception": false,
     "start_time": "2025-06-23T07:03:44.782547",
     "status": "completed"
    },
    "tags": []
   },
   "outputs": [],
   "source": [
    "X_train, X_val, y_train, y_val = train_test_split(X, y, test_size=0.2, stratify=y, random_state=42)\n"
   ]
  },
  {
   "cell_type": "code",
   "execution_count": 7,
   "id": "8e23916a",
   "metadata": {
    "execution": {
     "iopub.execute_input": "2025-06-23T07:03:44.931101Z",
     "iopub.status.busy": "2025-06-23T07:03:44.930681Z",
     "iopub.status.idle": "2025-06-23T07:03:44.935450Z",
     "shell.execute_reply": "2025-06-23T07:03:44.934882Z"
    },
    "papermill": {
     "duration": 0.009316,
     "end_time": "2025-06-23T07:03:44.936553",
     "exception": false,
     "start_time": "2025-06-23T07:03:44.927237",
     "status": "completed"
    },
    "tags": []
   },
   "outputs": [],
   "source": [
    "from sklearn.preprocessing import StandardScaler\n",
    "import joblib\n",
    "\n",
    "def normalize_train_val(X_train, X_val):\n",
    "    # Flatten to 2D for scaler\n",
    "    num_train, t, f = X_train.shape\n",
    "    num_val = X_val.shape[0]\n",
    "\n",
    "    X_train_flat = X_train.reshape(-1, f)\n",
    "    X_val_flat = X_val.reshape(-1, f)\n",
    "\n",
    "    # Fit scaler only on training data\n",
    "    scaler = StandardScaler()\n",
    "    X_train_scaled = scaler.fit_transform(X_train_flat)\n",
    "    X_val_scaled = scaler.transform(X_val_flat)\n",
    "\n",
    "    # Save the scaler\n",
    "    joblib.dump(scaler, 'scaler.pkl')\n",
    "\n",
    "    # Reshape back to original 3D shapes\n",
    "    X_train_scaled = X_train_scaled.reshape(num_train, t, f)\n",
    "    X_val_scaled = X_val_scaled.reshape(num_val, t, f)\n",
    "\n",
    "    return X_train_scaled, X_val_scaled\n"
   ]
  },
  {
   "cell_type": "code",
   "execution_count": 8,
   "id": "8943f8a9",
   "metadata": {
    "execution": {
     "iopub.execute_input": "2025-06-23T07:03:44.942142Z",
     "iopub.status.busy": "2025-06-23T07:03:44.941929Z",
     "iopub.status.idle": "2025-06-23T07:03:45.489867Z",
     "shell.execute_reply": "2025-06-23T07:03:45.488978Z"
    },
    "papermill": {
     "duration": 0.55213,
     "end_time": "2025-06-23T07:03:45.491183",
     "exception": false,
     "start_time": "2025-06-23T07:03:44.939053",
     "status": "completed"
    },
    "tags": []
   },
   "outputs": [
    {
     "name": "stdout",
     "output_type": "stream",
     "text": [
      "(3923, 130, 62) (981, 130, 62)\n"
     ]
    }
   ],
   "source": [
    "X_train, X_val = normalize_train_val(X_train, X_val)\n",
    "print(X_train.shape, X_val.shape)\n"
   ]
  },
  {
   "cell_type": "code",
   "execution_count": 9,
   "id": "d99032eb",
   "metadata": {
    "execution": {
     "iopub.execute_input": "2025-06-23T07:03:45.497423Z",
     "iopub.status.busy": "2025-06-23T07:03:45.497201Z",
     "iopub.status.idle": "2025-06-23T07:11:08.756474Z",
     "shell.execute_reply": "2025-06-23T07:11:08.755865Z"
    },
    "papermill": {
     "duration": 443.263785,
     "end_time": "2025-06-23T07:11:08.757726",
     "exception": false,
     "start_time": "2025-06-23T07:03:45.493941",
     "status": "completed"
    },
    "tags": []
   },
   "outputs": [
    {
     "name": "stderr",
     "output_type": "stream",
     "text": [
      "/usr/local/lib/python3.11/dist-packages/keras/src/layers/convolutional/base_conv.py:107: UserWarning: Do not pass an `input_shape`/`input_dim` argument to a layer. When using Sequential models, prefer using an `Input(shape)` object as the first layer in the model instead.\n",
      "  super().__init__(activity_regularizer=activity_regularizer, **kwargs)\n",
      "I0000 00:00:1750662226.772045      19 gpu_device.cc:2022] Created device /job:localhost/replica:0/task:0/device:GPU:0 with 15513 MB memory:  -> device: 0, name: Tesla P100-PCIE-16GB, pci bus id: 0000:00:04.0, compute capability: 6.0\n"
     ]
    },
    {
     "name": "stdout",
     "output_type": "stream",
     "text": [
      "Epoch 1/200\n"
     ]
    },
    {
     "name": "stderr",
     "output_type": "stream",
     "text": [
      "I0000 00:00:1750662237.267954      69 cuda_dnn.cc:529] Loaded cuDNN version 90300\n"
     ]
    },
    {
     "name": "stdout",
     "output_type": "stream",
     "text": [
      "\u001b[1m123/123\u001b[0m \u001b[32m━━━━━━━━━━━━━━━━━━━━\u001b[0m\u001b[37m\u001b[0m \u001b[1m15s\u001b[0m 28ms/step - accuracy: 0.1874 - loss: 3.2301 - val_accuracy: 0.3170 - val_loss: 2.3402\n",
      "Epoch 2/200\n",
      "\u001b[1m123/123\u001b[0m \u001b[32m━━━━━━━━━━━━━━━━━━━━\u001b[0m\u001b[37m\u001b[0m \u001b[1m2s\u001b[0m 17ms/step - accuracy: 0.3443 - loss: 2.4805 - val_accuracy: 0.4638 - val_loss: 1.9253\n",
      "Epoch 3/200\n",
      "\u001b[1m123/123\u001b[0m \u001b[32m━━━━━━━━━━━━━━━━━━━━\u001b[0m\u001b[37m\u001b[0m \u001b[1m2s\u001b[0m 17ms/step - accuracy: 0.4222 - loss: 2.1275 - val_accuracy: 0.5831 - val_loss: 1.6729\n",
      "Epoch 4/200\n",
      "\u001b[1m123/123\u001b[0m \u001b[32m━━━━━━━━━━━━━━━━━━━━\u001b[0m\u001b[37m\u001b[0m \u001b[1m2s\u001b[0m 17ms/step - accuracy: 0.4960 - loss: 1.9071 - val_accuracy: 0.6463 - val_loss: 1.5080\n",
      "Epoch 5/200\n",
      "\u001b[1m123/123\u001b[0m \u001b[32m━━━━━━━━━━━━━━━━━━━━\u001b[0m\u001b[37m\u001b[0m \u001b[1m2s\u001b[0m 18ms/step - accuracy: 0.5887 - loss: 1.6503 - val_accuracy: 0.6758 - val_loss: 1.3991\n",
      "Epoch 6/200\n",
      "\u001b[1m123/123\u001b[0m \u001b[32m━━━━━━━━━━━━━━━━━━━━\u001b[0m\u001b[37m\u001b[0m \u001b[1m2s\u001b[0m 18ms/step - accuracy: 0.6743 - loss: 1.4492 - val_accuracy: 0.6983 - val_loss: 1.4219\n",
      "Epoch 7/200\n",
      "\u001b[1m123/123\u001b[0m \u001b[32m━━━━━━━━━━━━━━━━━━━━\u001b[0m\u001b[37m\u001b[0m \u001b[1m2s\u001b[0m 17ms/step - accuracy: 0.7098 - loss: 1.3057 - val_accuracy: 0.7564 - val_loss: 1.2198\n",
      "Epoch 8/200\n",
      "\u001b[1m123/123\u001b[0m \u001b[32m━━━━━━━━━━━━━━━━━━━━\u001b[0m\u001b[37m\u001b[0m \u001b[1m2s\u001b[0m 17ms/step - accuracy: 0.7540 - loss: 1.1849 - val_accuracy: 0.7941 - val_loss: 1.0640\n",
      "Epoch 9/200\n",
      "\u001b[1m123/123\u001b[0m \u001b[32m━━━━━━━━━━━━━━━━━━━━\u001b[0m\u001b[37m\u001b[0m \u001b[1m2s\u001b[0m 17ms/step - accuracy: 0.7752 - loss: 1.1143 - val_accuracy: 0.7859 - val_loss: 1.0904\n",
      "Epoch 10/200\n",
      "\u001b[1m123/123\u001b[0m \u001b[32m━━━━━━━━━━━━━━━━━━━━\u001b[0m\u001b[37m\u001b[0m \u001b[1m2s\u001b[0m 17ms/step - accuracy: 0.7983 - loss: 1.0359 - val_accuracy: 0.8247 - val_loss: 0.9563\n",
      "Epoch 11/200\n",
      "\u001b[1m123/123\u001b[0m \u001b[32m━━━━━━━━━━━━━━━━━━━━\u001b[0m\u001b[37m\u001b[0m \u001b[1m2s\u001b[0m 17ms/step - accuracy: 0.8322 - loss: 0.9382 - val_accuracy: 0.8063 - val_loss: 1.0189\n",
      "Epoch 12/200\n",
      "\u001b[1m123/123\u001b[0m \u001b[32m━━━━━━━━━━━━━━━━━━━━\u001b[0m\u001b[37m\u001b[0m \u001b[1m2s\u001b[0m 17ms/step - accuracy: 0.8326 - loss: 0.9320 - val_accuracy: 0.8563 - val_loss: 0.8672\n",
      "Epoch 13/200\n",
      "\u001b[1m123/123\u001b[0m \u001b[32m━━━━━━━━━━━━━━━━━━━━\u001b[0m\u001b[37m\u001b[0m \u001b[1m2s\u001b[0m 17ms/step - accuracy: 0.8595 - loss: 0.8380 - val_accuracy: 0.8848 - val_loss: 0.7542\n",
      "Epoch 14/200\n",
      "\u001b[1m123/123\u001b[0m \u001b[32m━━━━━━━━━━━━━━━━━━━━\u001b[0m\u001b[37m\u001b[0m \u001b[1m2s\u001b[0m 17ms/step - accuracy: 0.8691 - loss: 0.7739 - val_accuracy: 0.9072 - val_loss: 0.6825\n",
      "Epoch 15/200\n",
      "\u001b[1m123/123\u001b[0m \u001b[32m━━━━━━━━━━━━━━━━━━━━\u001b[0m\u001b[37m\u001b[0m \u001b[1m2s\u001b[0m 17ms/step - accuracy: 0.8864 - loss: 0.7203 - val_accuracy: 0.8919 - val_loss: 0.7049\n",
      "Epoch 16/200\n",
      "\u001b[1m123/123\u001b[0m \u001b[32m━━━━━━━━━━━━━━━━━━━━\u001b[0m\u001b[37m\u001b[0m \u001b[1m2s\u001b[0m 18ms/step - accuracy: 0.8816 - loss: 0.7134 - val_accuracy: 0.9011 - val_loss: 0.6681\n",
      "Epoch 17/200\n",
      "\u001b[1m123/123\u001b[0m \u001b[32m━━━━━━━━━━━━━━━━━━━━\u001b[0m\u001b[37m\u001b[0m \u001b[1m2s\u001b[0m 17ms/step - accuracy: 0.9021 - loss: 0.6418 - val_accuracy: 0.9185 - val_loss: 0.6001\n",
      "Epoch 18/200\n",
      "\u001b[1m123/123\u001b[0m \u001b[32m━━━━━━━━━━━━━━━━━━━━\u001b[0m\u001b[37m\u001b[0m \u001b[1m2s\u001b[0m 17ms/step - accuracy: 0.8932 - loss: 0.6506 - val_accuracy: 0.8950 - val_loss: 0.6880\n",
      "Epoch 19/200\n",
      "\u001b[1m123/123\u001b[0m \u001b[32m━━━━━━━━━━━━━━━━━━━━\u001b[0m\u001b[37m\u001b[0m \u001b[1m2s\u001b[0m 17ms/step - accuracy: 0.9130 - loss: 0.5955 - val_accuracy: 0.9297 - val_loss: 0.5558\n",
      "Epoch 20/200\n",
      "\u001b[1m123/123\u001b[0m \u001b[32m━━━━━━━━━━━━━━━━━━━━\u001b[0m\u001b[37m\u001b[0m \u001b[1m2s\u001b[0m 18ms/step - accuracy: 0.9051 - loss: 0.5832 - val_accuracy: 0.9286 - val_loss: 0.5319\n",
      "Epoch 21/200\n",
      "\u001b[1m123/123\u001b[0m \u001b[32m━━━━━━━━━━━━━━━━━━━━\u001b[0m\u001b[37m\u001b[0m \u001b[1m2s\u001b[0m 18ms/step - accuracy: 0.9314 - loss: 0.4964 - val_accuracy: 0.9276 - val_loss: 0.5381\n",
      "Epoch 22/200\n",
      "\u001b[1m123/123\u001b[0m \u001b[32m━━━━━━━━━━━━━━━━━━━━\u001b[0m\u001b[37m\u001b[0m \u001b[1m2s\u001b[0m 17ms/step - accuracy: 0.9303 - loss: 0.4932 - val_accuracy: 0.9307 - val_loss: 0.4912\n",
      "Epoch 23/200\n",
      "\u001b[1m123/123\u001b[0m \u001b[32m━━━━━━━━━━━━━━━━━━━━\u001b[0m\u001b[37m\u001b[0m \u001b[1m2s\u001b[0m 17ms/step - accuracy: 0.9293 - loss: 0.4662 - val_accuracy: 0.8950 - val_loss: 0.5850\n",
      "Epoch 24/200\n",
      "\u001b[1m123/123\u001b[0m \u001b[32m━━━━━━━━━━━━━━━━━━━━\u001b[0m\u001b[37m\u001b[0m \u001b[1m2s\u001b[0m 17ms/step - accuracy: 0.9303 - loss: 0.4721 - val_accuracy: 0.9470 - val_loss: 0.4490\n",
      "Epoch 25/200\n",
      "\u001b[1m123/123\u001b[0m \u001b[32m━━━━━━━━━━━━━━━━━━━━\u001b[0m\u001b[37m\u001b[0m \u001b[1m2s\u001b[0m 17ms/step - accuracy: 0.9289 - loss: 0.4569 - val_accuracy: 0.9439 - val_loss: 0.4593\n",
      "Epoch 26/200\n",
      "\u001b[1m123/123\u001b[0m \u001b[32m━━━━━━━━━━━━━━━━━━━━\u001b[0m\u001b[37m\u001b[0m \u001b[1m2s\u001b[0m 17ms/step - accuracy: 0.9365 - loss: 0.4189 - val_accuracy: 0.9419 - val_loss: 0.4211\n",
      "Epoch 27/200\n",
      "\u001b[1m123/123\u001b[0m \u001b[32m━━━━━━━━━━━━━━━━━━━━\u001b[0m\u001b[37m\u001b[0m \u001b[1m2s\u001b[0m 17ms/step - accuracy: 0.9439 - loss: 0.3905 - val_accuracy: 0.9429 - val_loss: 0.4154\n",
      "Epoch 28/200\n",
      "\u001b[1m123/123\u001b[0m \u001b[32m━━━━━━━━━━━━━━━━━━━━\u001b[0m\u001b[37m\u001b[0m \u001b[1m2s\u001b[0m 17ms/step - accuracy: 0.9507 - loss: 0.3655 - val_accuracy: 0.9439 - val_loss: 0.4144\n",
      "Epoch 29/200\n",
      "\u001b[1m123/123\u001b[0m \u001b[32m━━━━━━━━━━━━━━━━━━━━\u001b[0m\u001b[37m\u001b[0m \u001b[1m2s\u001b[0m 17ms/step - accuracy: 0.9389 - loss: 0.3668 - val_accuracy: 0.9286 - val_loss: 0.5118\n",
      "Epoch 30/200\n",
      "\u001b[1m123/123\u001b[0m \u001b[32m━━━━━━━━━━━━━━━━━━━━\u001b[0m\u001b[37m\u001b[0m \u001b[1m2s\u001b[0m 17ms/step - accuracy: 0.9321 - loss: 0.3970 - val_accuracy: 0.9460 - val_loss: 0.3798\n",
      "Epoch 31/200\n",
      "\u001b[1m123/123\u001b[0m \u001b[32m━━━━━━━━━━━━━━━━━━━━\u001b[0m\u001b[37m\u001b[0m \u001b[1m2s\u001b[0m 17ms/step - accuracy: 0.9452 - loss: 0.3677 - val_accuracy: 0.9470 - val_loss: 0.3654\n",
      "Epoch 32/200\n",
      "\u001b[1m123/123\u001b[0m \u001b[32m━━━━━━━━━━━━━━━━━━━━\u001b[0m\u001b[37m\u001b[0m \u001b[1m2s\u001b[0m 17ms/step - accuracy: 0.9464 - loss: 0.3512 - val_accuracy: 0.9511 - val_loss: 0.3736\n",
      "Epoch 33/200\n",
      "\u001b[1m123/123\u001b[0m \u001b[32m━━━━━━━━━━━━━━━━━━━━\u001b[0m\u001b[37m\u001b[0m \u001b[1m2s\u001b[0m 17ms/step - accuracy: 0.9410 - loss: 0.3519 - val_accuracy: 0.9521 - val_loss: 0.3823\n",
      "Epoch 34/200\n",
      "\u001b[1m123/123\u001b[0m \u001b[32m━━━━━━━━━━━━━━━━━━━━\u001b[0m\u001b[37m\u001b[0m \u001b[1m2s\u001b[0m 18ms/step - accuracy: 0.9502 - loss: 0.3153 - val_accuracy: 0.9572 - val_loss: 0.3536\n",
      "Epoch 35/200\n",
      "\u001b[1m123/123\u001b[0m \u001b[32m━━━━━━━━━━━━━━━━━━━━\u001b[0m\u001b[37m\u001b[0m \u001b[1m2s\u001b[0m 18ms/step - accuracy: 0.9697 - loss: 0.2580 - val_accuracy: 0.9531 - val_loss: 0.3352\n",
      "Epoch 36/200\n",
      "\u001b[1m123/123\u001b[0m \u001b[32m━━━━━━━━━━━━━━━━━━━━\u001b[0m\u001b[37m\u001b[0m \u001b[1m2s\u001b[0m 17ms/step - accuracy: 0.9564 - loss: 0.2903 - val_accuracy: 0.9439 - val_loss: 0.3854\n",
      "Epoch 37/200\n",
      "\u001b[1m123/123\u001b[0m \u001b[32m━━━━━━━━━━━━━━━━━━━━\u001b[0m\u001b[37m\u001b[0m \u001b[1m2s\u001b[0m 17ms/step - accuracy: 0.9519 - loss: 0.2998 - val_accuracy: 0.9572 - val_loss: 0.3066\n",
      "Epoch 38/200\n",
      "\u001b[1m123/123\u001b[0m \u001b[32m━━━━━━━━━━━━━━━━━━━━\u001b[0m\u001b[37m\u001b[0m \u001b[1m2s\u001b[0m 18ms/step - accuracy: 0.9568 - loss: 0.2781 - val_accuracy: 0.9490 - val_loss: 0.2991\n",
      "Epoch 39/200\n",
      "\u001b[1m123/123\u001b[0m \u001b[32m━━━━━━━━━━━━━━━━━━━━\u001b[0m\u001b[37m\u001b[0m \u001b[1m2s\u001b[0m 18ms/step - accuracy: 0.9569 - loss: 0.2665 - val_accuracy: 0.9317 - val_loss: 0.3995\n",
      "Epoch 40/200\n",
      "\u001b[1m123/123\u001b[0m \u001b[32m━━━━━━━━━━━━━━━━━━━━\u001b[0m\u001b[37m\u001b[0m \u001b[1m2s\u001b[0m 17ms/step - accuracy: 0.9618 - loss: 0.2418 - val_accuracy: 0.9490 - val_loss: 0.3346\n",
      "Epoch 41/200\n",
      "\u001b[1m123/123\u001b[0m \u001b[32m━━━━━━━━━━━━━━━━━━━━\u001b[0m\u001b[37m\u001b[0m \u001b[1m2s\u001b[0m 17ms/step - accuracy: 0.9662 - loss: 0.2345 - val_accuracy: 0.9429 - val_loss: 0.3718\n",
      "Epoch 42/200\n",
      "\u001b[1m123/123\u001b[0m \u001b[32m━━━━━━━━━━━━━━━━━━━━\u001b[0m\u001b[37m\u001b[0m \u001b[1m2s\u001b[0m 17ms/step - accuracy: 0.9540 - loss: 0.2565 - val_accuracy: 0.9429 - val_loss: 0.3894\n",
      "Epoch 43/200\n",
      "\u001b[1m123/123\u001b[0m \u001b[32m━━━━━━━━━━━━━━━━━━━━\u001b[0m\u001b[37m\u001b[0m \u001b[1m2s\u001b[0m 17ms/step - accuracy: 0.9615 - loss: 0.2399 - val_accuracy: 0.9623 - val_loss: 0.3187\n",
      "Epoch 44/200\n",
      "\u001b[1m123/123\u001b[0m \u001b[32m━━━━━━━━━━━━━━━━━━━━\u001b[0m\u001b[37m\u001b[0m \u001b[1m2s\u001b[0m 17ms/step - accuracy: 0.9626 - loss: 0.2384 - val_accuracy: 0.9592 - val_loss: 0.3111\n",
      "Epoch 45/200\n",
      "\u001b[1m123/123\u001b[0m \u001b[32m━━━━━━━━━━━━━━━━━━━━\u001b[0m\u001b[37m\u001b[0m \u001b[1m2s\u001b[0m 17ms/step - accuracy: 0.9577 - loss: 0.2334 - val_accuracy: 0.9480 - val_loss: 0.3078\n",
      "Epoch 46/200\n",
      "\u001b[1m123/123\u001b[0m \u001b[32m━━━━━━━━━━━━━━━━━━━━\u001b[0m\u001b[37m\u001b[0m \u001b[1m2s\u001b[0m 17ms/step - accuracy: 0.9613 - loss: 0.2468 - val_accuracy: 0.9511 - val_loss: 0.2956\n",
      "Epoch 47/200\n",
      "\u001b[1m123/123\u001b[0m \u001b[32m━━━━━━━━━━━━━━━━━━━━\u001b[0m\u001b[37m\u001b[0m \u001b[1m2s\u001b[0m 17ms/step - accuracy: 0.9580 - loss: 0.2359 - val_accuracy: 0.9388 - val_loss: 0.3529\n",
      "Epoch 48/200\n",
      "\u001b[1m123/123\u001b[0m \u001b[32m━━━━━━━━━━━━━━━━━━━━\u001b[0m\u001b[37m\u001b[0m \u001b[1m2s\u001b[0m 17ms/step - accuracy: 0.9665 - loss: 0.2316 - val_accuracy: 0.9643 - val_loss: 0.3019\n",
      "Epoch 49/200\n",
      "\u001b[1m123/123\u001b[0m \u001b[32m━━━━━━━━━━━━━━━━━━━━\u001b[0m\u001b[37m\u001b[0m \u001b[1m2s\u001b[0m 17ms/step - accuracy: 0.9644 - loss: 0.2275 - val_accuracy: 0.9419 - val_loss: 0.3201\n",
      "Epoch 50/200\n",
      "\u001b[1m123/123\u001b[0m \u001b[32m━━━━━━━━━━━━━━━━━━━━\u001b[0m\u001b[37m\u001b[0m \u001b[1m2s\u001b[0m 18ms/step - accuracy: 0.9691 - loss: 0.2063 - val_accuracy: 0.9582 - val_loss: 0.2913\n",
      "Epoch 51/200\n",
      "\u001b[1m123/123\u001b[0m \u001b[32m━━━━━━━━━━━━━━━━━━━━\u001b[0m\u001b[37m\u001b[0m \u001b[1m2s\u001b[0m 17ms/step - accuracy: 0.9623 - loss: 0.2261 - val_accuracy: 0.9399 - val_loss: 0.3689\n",
      "Epoch 52/200\n",
      "\u001b[1m123/123\u001b[0m \u001b[32m━━━━━━━━━━━━━━━━━━━━\u001b[0m\u001b[37m\u001b[0m \u001b[1m2s\u001b[0m 17ms/step - accuracy: 0.9551 - loss: 0.2433 - val_accuracy: 0.9205 - val_loss: 0.4702\n",
      "Epoch 53/200\n",
      "\u001b[1m123/123\u001b[0m \u001b[32m━━━━━━━━━━━━━━━━━━━━\u001b[0m\u001b[37m\u001b[0m \u001b[1m2s\u001b[0m 17ms/step - accuracy: 0.9654 - loss: 0.2219 - val_accuracy: 0.9470 - val_loss: 0.3340\n",
      "Epoch 54/200\n",
      "\u001b[1m123/123\u001b[0m \u001b[32m━━━━━━━━━━━━━━━━━━━━\u001b[0m\u001b[37m\u001b[0m \u001b[1m2s\u001b[0m 17ms/step - accuracy: 0.9662 - loss: 0.2091 - val_accuracy: 0.9501 - val_loss: 0.3426\n",
      "Epoch 55/200\n",
      "\u001b[1m123/123\u001b[0m \u001b[32m━━━━━━━━━━━━━━━━━━━━\u001b[0m\u001b[37m\u001b[0m \u001b[1m2s\u001b[0m 17ms/step - accuracy: 0.9749 - loss: 0.1857 - val_accuracy: 0.9562 - val_loss: 0.2733\n",
      "Epoch 56/200\n",
      "\u001b[1m123/123\u001b[0m \u001b[32m━━━━━━━━━━━━━━━━━━━━\u001b[0m\u001b[37m\u001b[0m \u001b[1m2s\u001b[0m 17ms/step - accuracy: 0.9752 - loss: 0.1780 - val_accuracy: 0.9521 - val_loss: 0.3450\n",
      "Epoch 57/200\n",
      "\u001b[1m123/123\u001b[0m \u001b[32m━━━━━━━━━━━━━━━━━━━━\u001b[0m\u001b[37m\u001b[0m \u001b[1m2s\u001b[0m 17ms/step - accuracy: 0.9716 - loss: 0.1973 - val_accuracy: 0.9480 - val_loss: 0.3388\n",
      "Epoch 58/200\n",
      "\u001b[1m123/123\u001b[0m \u001b[32m━━━━━━━━━━━━━━━━━━━━\u001b[0m\u001b[37m\u001b[0m \u001b[1m2s\u001b[0m 17ms/step - accuracy: 0.9642 - loss: 0.2039 - val_accuracy: 0.9480 - val_loss: 0.3834\n",
      "Epoch 59/200\n",
      "\u001b[1m123/123\u001b[0m \u001b[32m━━━━━━━━━━━━━━━━━━━━\u001b[0m\u001b[37m\u001b[0m \u001b[1m2s\u001b[0m 17ms/step - accuracy: 0.9700 - loss: 0.1994 - val_accuracy: 0.9490 - val_loss: 0.3915\n",
      "Epoch 60/200\n",
      "\u001b[1m123/123\u001b[0m \u001b[32m━━━━━━━━━━━━━━━━━━━━\u001b[0m\u001b[37m\u001b[0m \u001b[1m2s\u001b[0m 17ms/step - accuracy: 0.9639 - loss: 0.2144 - val_accuracy: 0.9521 - val_loss: 0.3353\n",
      "Epoch 61/200\n",
      "\u001b[1m123/123\u001b[0m \u001b[32m━━━━━━━━━━━━━━━━━━━━\u001b[0m\u001b[37m\u001b[0m \u001b[1m2s\u001b[0m 17ms/step - accuracy: 0.9789 - loss: 0.1611 - val_accuracy: 0.9582 - val_loss: 0.3156\n",
      "Epoch 62/200\n",
      "\u001b[1m123/123\u001b[0m \u001b[32m━━━━━━━━━━━━━━━━━━━━\u001b[0m\u001b[37m\u001b[0m \u001b[1m2s\u001b[0m 17ms/step - accuracy: 0.9720 - loss: 0.1842 - val_accuracy: 0.9266 - val_loss: 0.4907\n",
      "Epoch 63/200\n",
      "\u001b[1m123/123\u001b[0m \u001b[32m━━━━━━━━━━━━━━━━━━━━\u001b[0m\u001b[37m\u001b[0m \u001b[1m2s\u001b[0m 17ms/step - accuracy: 0.9668 - loss: 0.2050 - val_accuracy: 0.9501 - val_loss: 0.3179\n",
      "Epoch 64/200\n",
      "\u001b[1m123/123\u001b[0m \u001b[32m━━━━━━━━━━━━━━━━━━━━\u001b[0m\u001b[37m\u001b[0m \u001b[1m2s\u001b[0m 17ms/step - accuracy: 0.9771 - loss: 0.1720 - val_accuracy: 0.9501 - val_loss: 0.3648\n",
      "Epoch 65/200\n",
      "\u001b[1m123/123\u001b[0m \u001b[32m━━━━━━━━━━━━━━━━━━━━\u001b[0m\u001b[37m\u001b[0m \u001b[1m2s\u001b[0m 18ms/step - accuracy: 0.9743 - loss: 0.1841 - val_accuracy: 0.9511 - val_loss: 0.3613\n",
      "Epoch 66/200\n",
      "\u001b[1m123/123\u001b[0m \u001b[32m━━━━━━━━━━━━━━━━━━━━\u001b[0m\u001b[37m\u001b[0m \u001b[1m2s\u001b[0m 17ms/step - accuracy: 0.9727 - loss: 0.1816 - val_accuracy: 0.9511 - val_loss: 0.3224\n",
      "Epoch 67/200\n",
      "\u001b[1m123/123\u001b[0m \u001b[32m━━━━━━━━━━━━━━━━━━━━\u001b[0m\u001b[37m\u001b[0m \u001b[1m2s\u001b[0m 17ms/step - accuracy: 0.9744 - loss: 0.1826 - val_accuracy: 0.9460 - val_loss: 0.3109\n",
      "Epoch 68/200\n",
      "\u001b[1m123/123\u001b[0m \u001b[32m━━━━━━━━━━━━━━━━━━━━\u001b[0m\u001b[37m\u001b[0m \u001b[1m2s\u001b[0m 17ms/step - accuracy: 0.9728 - loss: 0.1840 - val_accuracy: 0.9551 - val_loss: 0.3486\n",
      "Epoch 69/200\n",
      "\u001b[1m123/123\u001b[0m \u001b[32m━━━━━━━━━━━━━━━━━━━━\u001b[0m\u001b[37m\u001b[0m \u001b[1m2s\u001b[0m 17ms/step - accuracy: 0.9683 - loss: 0.1865 - val_accuracy: 0.9592 - val_loss: 0.2796\n",
      "Epoch 70/200\n",
      "\u001b[1m123/123\u001b[0m \u001b[32m━━━━━━━━━━━━━━━━━━━━\u001b[0m\u001b[37m\u001b[0m \u001b[1m2s\u001b[0m 17ms/step - accuracy: 0.9668 - loss: 0.1942 - val_accuracy: 0.9480 - val_loss: 0.3540\n",
      "Epoch 71/200\n",
      "\u001b[1m123/123\u001b[0m \u001b[32m━━━━━━━━━━━━━━━━━━━━\u001b[0m\u001b[37m\u001b[0m \u001b[1m2s\u001b[0m 17ms/step - accuracy: 0.9682 - loss: 0.1867 - val_accuracy: 0.9613 - val_loss: 0.3046\n",
      "Epoch 72/200\n",
      "\u001b[1m123/123\u001b[0m \u001b[32m━━━━━━━━━━━━━━━━━━━━\u001b[0m\u001b[37m\u001b[0m \u001b[1m2s\u001b[0m 17ms/step - accuracy: 0.9729 - loss: 0.1800 - val_accuracy: 0.9531 - val_loss: 0.2851\n",
      "Epoch 73/200\n",
      "\u001b[1m123/123\u001b[0m \u001b[32m━━━━━━━━━━━━━━━━━━━━\u001b[0m\u001b[37m\u001b[0m \u001b[1m2s\u001b[0m 17ms/step - accuracy: 0.9819 - loss: 0.1573 - val_accuracy: 0.9531 - val_loss: 0.3232\n",
      "Epoch 74/200\n",
      "\u001b[1m123/123\u001b[0m \u001b[32m━━━━━━━━━━━━━━━━━━━━\u001b[0m\u001b[37m\u001b[0m \u001b[1m2s\u001b[0m 17ms/step - accuracy: 0.9791 - loss: 0.1534 - val_accuracy: 0.9460 - val_loss: 0.3390\n",
      "Epoch 75/200\n",
      "\u001b[1m123/123\u001b[0m \u001b[32m━━━━━━━━━━━━━━━━━━━━\u001b[0m\u001b[37m\u001b[0m \u001b[1m2s\u001b[0m 17ms/step - accuracy: 0.9679 - loss: 0.1895 - val_accuracy: 0.9674 - val_loss: 0.2477\n",
      "Epoch 76/200\n",
      "\u001b[1m123/123\u001b[0m \u001b[32m━━━━━━━━━━━━━━━━━━━━\u001b[0m\u001b[37m\u001b[0m \u001b[1m2s\u001b[0m 17ms/step - accuracy: 0.9774 - loss: 0.1622 - val_accuracy: 0.9602 - val_loss: 0.2829\n",
      "Epoch 77/200\n",
      "\u001b[1m123/123\u001b[0m \u001b[32m━━━━━━━━━━━━━━━━━━━━\u001b[0m\u001b[37m\u001b[0m \u001b[1m2s\u001b[0m 17ms/step - accuracy: 0.9769 - loss: 0.1553 - val_accuracy: 0.9439 - val_loss: 0.3549\n",
      "Epoch 78/200\n",
      "\u001b[1m123/123\u001b[0m \u001b[32m━━━━━━━━━━━━━━━━━━━━\u001b[0m\u001b[37m\u001b[0m \u001b[1m2s\u001b[0m 17ms/step - accuracy: 0.9675 - loss: 0.1879 - val_accuracy: 0.9592 - val_loss: 0.2981\n",
      "Epoch 79/200\n",
      "\u001b[1m123/123\u001b[0m \u001b[32m━━━━━━━━━━━━━━━━━━━━\u001b[0m\u001b[37m\u001b[0m \u001b[1m2s\u001b[0m 17ms/step - accuracy: 0.9764 - loss: 0.1666 - val_accuracy: 0.9572 - val_loss: 0.2996\n",
      "Epoch 80/200\n",
      "\u001b[1m123/123\u001b[0m \u001b[32m━━━━━━━━━━━━━━━━━━━━\u001b[0m\u001b[37m\u001b[0m \u001b[1m2s\u001b[0m 18ms/step - accuracy: 0.9809 - loss: 0.1451 - val_accuracy: 0.9450 - val_loss: 0.3525\n",
      "Epoch 81/200\n",
      "\u001b[1m123/123\u001b[0m \u001b[32m━━━━━━━━━━━━━━━━━━━━\u001b[0m\u001b[37m\u001b[0m \u001b[1m2s\u001b[0m 18ms/step - accuracy: 0.9702 - loss: 0.1861 - val_accuracy: 0.9521 - val_loss: 0.3281\n",
      "Epoch 82/200\n",
      "\u001b[1m123/123\u001b[0m \u001b[32m━━━━━━━━━━━━━━━━━━━━\u001b[0m\u001b[37m\u001b[0m \u001b[1m2s\u001b[0m 17ms/step - accuracy: 0.9746 - loss: 0.1781 - val_accuracy: 0.9551 - val_loss: 0.3252\n",
      "Epoch 83/200\n",
      "\u001b[1m123/123\u001b[0m \u001b[32m━━━━━━━━━━━━━━━━━━━━\u001b[0m\u001b[37m\u001b[0m \u001b[1m2s\u001b[0m 17ms/step - accuracy: 0.9724 - loss: 0.1675 - val_accuracy: 0.9378 - val_loss: 0.4208\n",
      "Epoch 84/200\n",
      "\u001b[1m123/123\u001b[0m \u001b[32m━━━━━━━━━━━━━━━━━━━━\u001b[0m\u001b[37m\u001b[0m \u001b[1m2s\u001b[0m 17ms/step - accuracy: 0.9737 - loss: 0.1879 - val_accuracy: 0.9602 - val_loss: 0.2895\n",
      "Epoch 85/200\n",
      "\u001b[1m123/123\u001b[0m \u001b[32m━━━━━━━━━━━━━━━━━━━━\u001b[0m\u001b[37m\u001b[0m \u001b[1m2s\u001b[0m 17ms/step - accuracy: 0.9714 - loss: 0.1771 - val_accuracy: 0.9541 - val_loss: 0.3043\n",
      "Epoch 86/200\n",
      "\u001b[1m123/123\u001b[0m \u001b[32m━━━━━━━━━━━━━━━━━━━━\u001b[0m\u001b[37m\u001b[0m \u001b[1m2s\u001b[0m 17ms/step - accuracy: 0.9732 - loss: 0.1677 - val_accuracy: 0.9613 - val_loss: 0.2701\n",
      "Epoch 87/200\n",
      "\u001b[1m123/123\u001b[0m \u001b[32m━━━━━━━━━━━━━━━━━━━━\u001b[0m\u001b[37m\u001b[0m \u001b[1m2s\u001b[0m 17ms/step - accuracy: 0.9778 - loss: 0.1725 - val_accuracy: 0.9582 - val_loss: 0.2896\n",
      "Epoch 88/200\n",
      "\u001b[1m123/123\u001b[0m \u001b[32m━━━━━━━━━━━━━━━━━━━━\u001b[0m\u001b[37m\u001b[0m \u001b[1m2s\u001b[0m 17ms/step - accuracy: 0.9761 - loss: 0.1612 - val_accuracy: 0.9531 - val_loss: 0.3549\n",
      "Epoch 89/200\n",
      "\u001b[1m123/123\u001b[0m \u001b[32m━━━━━━━━━━━━━━━━━━━━\u001b[0m\u001b[37m\u001b[0m \u001b[1m2s\u001b[0m 17ms/step - accuracy: 0.9676 - loss: 0.1977 - val_accuracy: 0.9623 - val_loss: 0.2978\n",
      "Epoch 90/200\n",
      "\u001b[1m123/123\u001b[0m \u001b[32m━━━━━━━━━━━━━━━━━━━━\u001b[0m\u001b[37m\u001b[0m \u001b[1m2s\u001b[0m 17ms/step - accuracy: 0.9797 - loss: 0.1524 - val_accuracy: 0.9531 - val_loss: 0.2889\n",
      "Epoch 91/200\n",
      "\u001b[1m123/123\u001b[0m \u001b[32m━━━━━━━━━━━━━━━━━━━━\u001b[0m\u001b[37m\u001b[0m \u001b[1m2s\u001b[0m 17ms/step - accuracy: 0.9811 - loss: 0.1498 - val_accuracy: 0.9541 - val_loss: 0.3186\n",
      "Epoch 92/200\n",
      "\u001b[1m123/123\u001b[0m \u001b[32m━━━━━━━━━━━━━━━━━━━━\u001b[0m\u001b[37m\u001b[0m \u001b[1m2s\u001b[0m 17ms/step - accuracy: 0.9777 - loss: 0.1625 - val_accuracy: 0.9613 - val_loss: 0.2700\n",
      "Epoch 93/200\n",
      "\u001b[1m123/123\u001b[0m \u001b[32m━━━━━━━━━━━━━━━━━━━━\u001b[0m\u001b[37m\u001b[0m \u001b[1m2s\u001b[0m 17ms/step - accuracy: 0.9796 - loss: 0.1428 - val_accuracy: 0.9551 - val_loss: 0.3107\n",
      "Epoch 94/200\n",
      "\u001b[1m123/123\u001b[0m \u001b[32m━━━━━━━━━━━━━━━━━━━━\u001b[0m\u001b[37m\u001b[0m \u001b[1m2s\u001b[0m 17ms/step - accuracy: 0.9762 - loss: 0.1710 - val_accuracy: 0.9531 - val_loss: 0.3222\n",
      "Epoch 95/200\n",
      "\u001b[1m123/123\u001b[0m \u001b[32m━━━━━━━━━━━━━━━━━━━━\u001b[0m\u001b[37m\u001b[0m \u001b[1m2s\u001b[0m 18ms/step - accuracy: 0.9817 - loss: 0.1568 - val_accuracy: 0.9572 - val_loss: 0.2893\n",
      "Epoch 96/200\n",
      "\u001b[1m123/123\u001b[0m \u001b[32m━━━━━━━━━━━━━━━━━━━━\u001b[0m\u001b[37m\u001b[0m \u001b[1m2s\u001b[0m 18ms/step - accuracy: 0.9756 - loss: 0.1600 - val_accuracy: 0.9429 - val_loss: 0.3553\n",
      "Epoch 97/200\n",
      "\u001b[1m123/123\u001b[0m \u001b[32m━━━━━━━━━━━━━━━━━━━━\u001b[0m\u001b[37m\u001b[0m \u001b[1m2s\u001b[0m 17ms/step - accuracy: 0.9713 - loss: 0.1719 - val_accuracy: 0.9531 - val_loss: 0.2927\n",
      "Epoch 98/200\n",
      "\u001b[1m123/123\u001b[0m \u001b[32m━━━━━━━━━━━━━━━━━━━━\u001b[0m\u001b[37m\u001b[0m \u001b[1m2s\u001b[0m 17ms/step - accuracy: 0.9792 - loss: 0.1640 - val_accuracy: 0.9633 - val_loss: 0.2380\n",
      "Epoch 99/200\n",
      "\u001b[1m123/123\u001b[0m \u001b[32m━━━━━━━━━━━━━━━━━━━━\u001b[0m\u001b[37m\u001b[0m \u001b[1m2s\u001b[0m 17ms/step - accuracy: 0.9769 - loss: 0.1628 - val_accuracy: 0.9562 - val_loss: 0.2937\n",
      "Epoch 100/200\n",
      "\u001b[1m123/123\u001b[0m \u001b[32m━━━━━━━━━━━━━━━━━━━━\u001b[0m\u001b[37m\u001b[0m \u001b[1m2s\u001b[0m 17ms/step - accuracy: 0.9693 - loss: 0.1847 - val_accuracy: 0.9582 - val_loss: 0.2840\n",
      "Epoch 101/200\n",
      "\u001b[1m123/123\u001b[0m \u001b[32m━━━━━━━━━━━━━━━━━━━━\u001b[0m\u001b[37m\u001b[0m \u001b[1m2s\u001b[0m 17ms/step - accuracy: 0.9839 - loss: 0.1348 - val_accuracy: 0.9531 - val_loss: 0.2916\n",
      "Epoch 102/200\n",
      "\u001b[1m123/123\u001b[0m \u001b[32m━━━━━━━━━━━━━━━━━━━━\u001b[0m\u001b[37m\u001b[0m \u001b[1m2s\u001b[0m 17ms/step - accuracy: 0.9719 - loss: 0.1531 - val_accuracy: 0.9531 - val_loss: 0.3256\n",
      "Epoch 103/200\n",
      "\u001b[1m123/123\u001b[0m \u001b[32m━━━━━━━━━━━━━━━━━━━━\u001b[0m\u001b[37m\u001b[0m \u001b[1m2s\u001b[0m 17ms/step - accuracy: 0.9807 - loss: 0.1443 - val_accuracy: 0.9541 - val_loss: 0.2982\n",
      "Epoch 104/200\n",
      "\u001b[1m123/123\u001b[0m \u001b[32m━━━━━━━━━━━━━━━━━━━━\u001b[0m\u001b[37m\u001b[0m \u001b[1m2s\u001b[0m 17ms/step - accuracy: 0.9836 - loss: 0.1307 - val_accuracy: 0.9501 - val_loss: 0.2865\n",
      "Epoch 105/200\n",
      "\u001b[1m123/123\u001b[0m \u001b[32m━━━━━━━━━━━━━━━━━━━━\u001b[0m\u001b[37m\u001b[0m \u001b[1m2s\u001b[0m 17ms/step - accuracy: 0.9812 - loss: 0.1364 - val_accuracy: 0.9531 - val_loss: 0.3464\n",
      "Epoch 106/200\n",
      "\u001b[1m123/123\u001b[0m \u001b[32m━━━━━━━━━━━━━━━━━━━━\u001b[0m\u001b[37m\u001b[0m \u001b[1m2s\u001b[0m 17ms/step - accuracy: 0.9827 - loss: 0.1332 - val_accuracy: 0.9592 - val_loss: 0.2782\n",
      "Epoch 107/200\n",
      "\u001b[1m123/123\u001b[0m \u001b[32m━━━━━━━━━━━━━━━━━━━━\u001b[0m\u001b[37m\u001b[0m \u001b[1m2s\u001b[0m 17ms/step - accuracy: 0.9840 - loss: 0.1345 - val_accuracy: 0.9511 - val_loss: 0.3459\n",
      "Epoch 108/200\n",
      "\u001b[1m123/123\u001b[0m \u001b[32m━━━━━━━━━━━━━━━━━━━━\u001b[0m\u001b[37m\u001b[0m \u001b[1m2s\u001b[0m 17ms/step - accuracy: 0.9748 - loss: 0.1757 - val_accuracy: 0.9551 - val_loss: 0.3150\n",
      "Epoch 109/200\n",
      "\u001b[1m123/123\u001b[0m \u001b[32m━━━━━━━━━━━━━━━━━━━━\u001b[0m\u001b[37m\u001b[0m \u001b[1m2s\u001b[0m 17ms/step - accuracy: 0.9826 - loss: 0.1324 - val_accuracy: 0.9613 - val_loss: 0.2926\n",
      "Epoch 110/200\n",
      "\u001b[1m123/123\u001b[0m \u001b[32m━━━━━━━━━━━━━━━━━━━━\u001b[0m\u001b[37m\u001b[0m \u001b[1m2s\u001b[0m 18ms/step - accuracy: 0.9704 - loss: 0.1777 - val_accuracy: 0.9490 - val_loss: 0.3257\n",
      "Epoch 111/200\n",
      "\u001b[1m123/123\u001b[0m \u001b[32m━━━━━━━━━━━━━━━━━━━━\u001b[0m\u001b[37m\u001b[0m \u001b[1m2s\u001b[0m 17ms/step - accuracy: 0.9779 - loss: 0.1557 - val_accuracy: 0.9572 - val_loss: 0.2959\n",
      "Epoch 112/200\n",
      "\u001b[1m123/123\u001b[0m \u001b[32m━━━━━━━━━━━━━━━━━━━━\u001b[0m\u001b[37m\u001b[0m \u001b[1m2s\u001b[0m 17ms/step - accuracy: 0.9833 - loss: 0.1381 - val_accuracy: 0.9531 - val_loss: 0.3010\n",
      "Epoch 113/200\n",
      "\u001b[1m123/123\u001b[0m \u001b[32m━━━━━━━━━━━━━━━━━━━━\u001b[0m\u001b[37m\u001b[0m \u001b[1m2s\u001b[0m 17ms/step - accuracy: 0.9797 - loss: 0.1654 - val_accuracy: 0.9643 - val_loss: 0.2665\n",
      "Epoch 114/200\n",
      "\u001b[1m123/123\u001b[0m \u001b[32m━━━━━━━━━━━━━━━━━━━━\u001b[0m\u001b[37m\u001b[0m \u001b[1m2s\u001b[0m 17ms/step - accuracy: 0.9860 - loss: 0.1239 - val_accuracy: 0.9592 - val_loss: 0.2694\n",
      "Epoch 115/200\n",
      "\u001b[1m123/123\u001b[0m \u001b[32m━━━━━━━━━━━━━━━━━━━━\u001b[0m\u001b[37m\u001b[0m \u001b[1m2s\u001b[0m 17ms/step - accuracy: 0.9795 - loss: 0.1533 - val_accuracy: 0.9694 - val_loss: 0.2922\n",
      "Epoch 116/200\n",
      "\u001b[1m123/123\u001b[0m \u001b[32m━━━━━━━━━━━━━━━━━━━━\u001b[0m\u001b[37m\u001b[0m \u001b[1m2s\u001b[0m 17ms/step - accuracy: 0.9858 - loss: 0.1267 - val_accuracy: 0.9541 - val_loss: 0.3196\n",
      "Epoch 117/200\n",
      "\u001b[1m123/123\u001b[0m \u001b[32m━━━━━━━━━━━━━━━━━━━━\u001b[0m\u001b[37m\u001b[0m \u001b[1m2s\u001b[0m 17ms/step - accuracy: 0.9761 - loss: 0.1601 - val_accuracy: 0.9602 - val_loss: 0.2718\n",
      "Epoch 118/200\n",
      "\u001b[1m123/123\u001b[0m \u001b[32m━━━━━━━━━━━━━━━━━━━━\u001b[0m\u001b[37m\u001b[0m \u001b[1m2s\u001b[0m 17ms/step - accuracy: 0.9832 - loss: 0.1342 - val_accuracy: 0.9653 - val_loss: 0.2616\n",
      "Epoch 119/200\n",
      "\u001b[1m123/123\u001b[0m \u001b[32m━━━━━━━━━━━━━━━━━━━━\u001b[0m\u001b[37m\u001b[0m \u001b[1m2s\u001b[0m 17ms/step - accuracy: 0.9802 - loss: 0.1440 - val_accuracy: 0.9613 - val_loss: 0.2513\n",
      "Epoch 120/200\n",
      "\u001b[1m123/123\u001b[0m \u001b[32m━━━━━━━━━━━━━━━━━━━━\u001b[0m\u001b[37m\u001b[0m \u001b[1m2s\u001b[0m 17ms/step - accuracy: 0.9828 - loss: 0.1507 - val_accuracy: 0.9480 - val_loss: 0.3740\n",
      "Epoch 121/200\n",
      "\u001b[1m123/123\u001b[0m \u001b[32m━━━━━━━━━━━━━━━━━━━━\u001b[0m\u001b[37m\u001b[0m \u001b[1m2s\u001b[0m 17ms/step - accuracy: 0.9827 - loss: 0.1396 - val_accuracy: 0.9551 - val_loss: 0.2987\n",
      "Epoch 122/200\n",
      "\u001b[1m123/123\u001b[0m \u001b[32m━━━━━━━━━━━━━━━━━━━━\u001b[0m\u001b[37m\u001b[0m \u001b[1m2s\u001b[0m 17ms/step - accuracy: 0.9808 - loss: 0.1419 - val_accuracy: 0.9541 - val_loss: 0.2872\n",
      "Epoch 123/200\n",
      "\u001b[1m123/123\u001b[0m \u001b[32m━━━━━━━━━━━━━━━━━━━━\u001b[0m\u001b[37m\u001b[0m \u001b[1m2s\u001b[0m 17ms/step - accuracy: 0.9860 - loss: 0.1280 - val_accuracy: 0.9511 - val_loss: 0.3602\n",
      "Epoch 124/200\n",
      "\u001b[1m123/123\u001b[0m \u001b[32m━━━━━━━━━━━━━━━━━━━━\u001b[0m\u001b[37m\u001b[0m \u001b[1m2s\u001b[0m 17ms/step - accuracy: 0.9796 - loss: 0.1389 - val_accuracy: 0.9623 - val_loss: 0.2888\n",
      "Epoch 125/200\n",
      "\u001b[1m123/123\u001b[0m \u001b[32m━━━━━━━━━━━━━━━━━━━━\u001b[0m\u001b[37m\u001b[0m \u001b[1m2s\u001b[0m 17ms/step - accuracy: 0.9847 - loss: 0.1328 - val_accuracy: 0.9623 - val_loss: 0.2845\n",
      "Epoch 126/200\n",
      "\u001b[1m123/123\u001b[0m \u001b[32m━━━━━━━━━━━━━━━━━━━━\u001b[0m\u001b[37m\u001b[0m \u001b[1m2s\u001b[0m 18ms/step - accuracy: 0.9854 - loss: 0.1245 - val_accuracy: 0.9613 - val_loss: 0.3015\n",
      "Epoch 127/200\n",
      "\u001b[1m123/123\u001b[0m \u001b[32m━━━━━━━━━━━━━━━━━━━━\u001b[0m\u001b[37m\u001b[0m \u001b[1m2s\u001b[0m 17ms/step - accuracy: 0.9777 - loss: 0.1533 - val_accuracy: 0.9531 - val_loss: 0.2871\n",
      "Epoch 128/200\n",
      "\u001b[1m123/123\u001b[0m \u001b[32m━━━━━━━━━━━━━━━━━━━━\u001b[0m\u001b[37m\u001b[0m \u001b[1m2s\u001b[0m 17ms/step - accuracy: 0.9731 - loss: 0.1701 - val_accuracy: 0.9490 - val_loss: 0.2879\n",
      "Epoch 129/200\n",
      "\u001b[1m123/123\u001b[0m \u001b[32m━━━━━━━━━━━━━━━━━━━━\u001b[0m\u001b[37m\u001b[0m \u001b[1m2s\u001b[0m 17ms/step - accuracy: 0.9803 - loss: 0.1544 - val_accuracy: 0.9602 - val_loss: 0.3242\n",
      "Epoch 130/200\n",
      "\u001b[1m123/123\u001b[0m \u001b[32m━━━━━━━━━━━━━━━━━━━━\u001b[0m\u001b[37m\u001b[0m \u001b[1m2s\u001b[0m 17ms/step - accuracy: 0.9884 - loss: 0.1115 - val_accuracy: 0.9602 - val_loss: 0.2894\n",
      "Epoch 131/200\n",
      "\u001b[1m123/123\u001b[0m \u001b[32m━━━━━━━━━━━━━━━━━━━━\u001b[0m\u001b[37m\u001b[0m \u001b[1m2s\u001b[0m 17ms/step - accuracy: 0.9812 - loss: 0.1341 - val_accuracy: 0.9572 - val_loss: 0.3132\n",
      "Epoch 132/200\n",
      "\u001b[1m123/123\u001b[0m \u001b[32m━━━━━━━━━━━━━━━━━━━━\u001b[0m\u001b[37m\u001b[0m \u001b[1m2s\u001b[0m 17ms/step - accuracy: 0.9850 - loss: 0.1256 - val_accuracy: 0.9643 - val_loss: 0.3436\n",
      "Epoch 133/200\n",
      "\u001b[1m123/123\u001b[0m \u001b[32m━━━━━━━━━━━━━━━━━━━━\u001b[0m\u001b[37m\u001b[0m \u001b[1m2s\u001b[0m 17ms/step - accuracy: 0.9829 - loss: 0.1326 - val_accuracy: 0.9531 - val_loss: 0.3297\n",
      "Epoch 134/200\n",
      "\u001b[1m123/123\u001b[0m \u001b[32m━━━━━━━━━━━━━━━━━━━━\u001b[0m\u001b[37m\u001b[0m \u001b[1m2s\u001b[0m 17ms/step - accuracy: 0.9783 - loss: 0.1495 - val_accuracy: 0.9562 - val_loss: 0.2985\n",
      "Epoch 135/200\n",
      "\u001b[1m123/123\u001b[0m \u001b[32m━━━━━━━━━━━━━━━━━━━━\u001b[0m\u001b[37m\u001b[0m \u001b[1m2s\u001b[0m 17ms/step - accuracy: 0.9859 - loss: 0.1165 - val_accuracy: 0.9460 - val_loss: 0.3614\n",
      "Epoch 136/200\n",
      "\u001b[1m123/123\u001b[0m \u001b[32m━━━━━━━━━━━━━━━━━━━━\u001b[0m\u001b[37m\u001b[0m \u001b[1m2s\u001b[0m 17ms/step - accuracy: 0.9870 - loss: 0.1210 - val_accuracy: 0.9592 - val_loss: 0.2953\n",
      "Epoch 137/200\n",
      "\u001b[1m123/123\u001b[0m \u001b[32m━━━━━━━━━━━━━━━━━━━━\u001b[0m\u001b[37m\u001b[0m \u001b[1m2s\u001b[0m 17ms/step - accuracy: 0.9778 - loss: 0.1475 - val_accuracy: 0.9531 - val_loss: 0.4055\n",
      "Epoch 138/200\n",
      "\u001b[1m123/123\u001b[0m \u001b[32m━━━━━━━━━━━━━━━━━━━━\u001b[0m\u001b[37m\u001b[0m \u001b[1m2s\u001b[0m 17ms/step - accuracy: 0.9691 - loss: 0.1705 - val_accuracy: 0.9551 - val_loss: 0.3297\n",
      "Epoch 139/200\n",
      "\u001b[1m123/123\u001b[0m \u001b[32m━━━━━━━━━━━━━━━━━━━━\u001b[0m\u001b[37m\u001b[0m \u001b[1m2s\u001b[0m 17ms/step - accuracy: 0.9833 - loss: 0.1417 - val_accuracy: 0.9592 - val_loss: 0.3348\n",
      "Epoch 140/200\n",
      "\u001b[1m123/123\u001b[0m \u001b[32m━━━━━━━━━━━━━━━━━━━━\u001b[0m\u001b[37m\u001b[0m \u001b[1m2s\u001b[0m 17ms/step - accuracy: 0.9833 - loss: 0.1309 - val_accuracy: 0.9592 - val_loss: 0.3274\n",
      "Epoch 141/200\n",
      "\u001b[1m123/123\u001b[0m \u001b[32m━━━━━━━━━━━━━━━━━━━━\u001b[0m\u001b[37m\u001b[0m \u001b[1m2s\u001b[0m 18ms/step - accuracy: 0.9788 - loss: 0.1566 - val_accuracy: 0.9592 - val_loss: 0.2700\n",
      "Epoch 142/200\n",
      "\u001b[1m123/123\u001b[0m \u001b[32m━━━━━━━━━━━━━━━━━━━━\u001b[0m\u001b[37m\u001b[0m \u001b[1m2s\u001b[0m 17ms/step - accuracy: 0.9824 - loss: 0.1309 - val_accuracy: 0.9602 - val_loss: 0.3035\n",
      "Epoch 143/200\n",
      "\u001b[1m123/123\u001b[0m \u001b[32m━━━━━━━━━━━━━━━━━━━━\u001b[0m\u001b[37m\u001b[0m \u001b[1m2s\u001b[0m 17ms/step - accuracy: 0.9863 - loss: 0.1116 - val_accuracy: 0.9643 - val_loss: 0.2847\n",
      "Epoch 144/200\n",
      "\u001b[1m123/123\u001b[0m \u001b[32m━━━━━━━━━━━━━━━━━━━━\u001b[0m\u001b[37m\u001b[0m \u001b[1m2s\u001b[0m 17ms/step - accuracy: 0.9860 - loss: 0.1160 - val_accuracy: 0.9674 - val_loss: 0.2415\n",
      "Epoch 145/200\n",
      "\u001b[1m123/123\u001b[0m \u001b[32m━━━━━━━━━━━━━━━━━━━━\u001b[0m\u001b[37m\u001b[0m \u001b[1m2s\u001b[0m 17ms/step - accuracy: 0.9841 - loss: 0.1222 - val_accuracy: 0.9602 - val_loss: 0.2477\n",
      "Epoch 146/200\n",
      "\u001b[1m123/123\u001b[0m \u001b[32m━━━━━━━━━━━━━━━━━━━━\u001b[0m\u001b[37m\u001b[0m \u001b[1m2s\u001b[0m 17ms/step - accuracy: 0.9894 - loss: 0.1074 - val_accuracy: 0.9653 - val_loss: 0.2596\n",
      "Epoch 147/200\n",
      "\u001b[1m123/123\u001b[0m \u001b[32m━━━━━━━━━━━━━━━━━━━━\u001b[0m\u001b[37m\u001b[0m \u001b[1m2s\u001b[0m 17ms/step - accuracy: 0.9805 - loss: 0.1373 - val_accuracy: 0.9572 - val_loss: 0.3161\n",
      "Epoch 148/200\n",
      "\u001b[1m123/123\u001b[0m \u001b[32m━━━━━━━━━━━━━━━━━━━━\u001b[0m\u001b[37m\u001b[0m \u001b[1m2s\u001b[0m 17ms/step - accuracy: 0.9767 - loss: 0.1475 - val_accuracy: 0.9521 - val_loss: 0.3303\n",
      "Epoch 149/200\n",
      "\u001b[1m123/123\u001b[0m \u001b[32m━━━━━━━━━━━━━━━━━━━━\u001b[0m\u001b[37m\u001b[0m \u001b[1m2s\u001b[0m 17ms/step - accuracy: 0.9803 - loss: 0.1385 - val_accuracy: 0.9684 - val_loss: 0.2620\n",
      "Epoch 150/200\n",
      "\u001b[1m123/123\u001b[0m \u001b[32m━━━━━━━━━━━━━━━━━━━━\u001b[0m\u001b[37m\u001b[0m \u001b[1m2s\u001b[0m 17ms/step - accuracy: 0.9760 - loss: 0.1632 - val_accuracy: 0.9613 - val_loss: 0.2723\n",
      "Epoch 151/200\n",
      "\u001b[1m123/123\u001b[0m \u001b[32m━━━━━━━━━━━━━━━━━━━━\u001b[0m\u001b[37m\u001b[0m \u001b[1m2s\u001b[0m 17ms/step - accuracy: 0.9800 - loss: 0.1483 - val_accuracy: 0.9694 - val_loss: 0.2527\n",
      "Epoch 152/200\n",
      "\u001b[1m123/123\u001b[0m \u001b[32m━━━━━━━━━━━━━━━━━━━━\u001b[0m\u001b[37m\u001b[0m \u001b[1m2s\u001b[0m 17ms/step - accuracy: 0.9877 - loss: 0.1199 - val_accuracy: 0.9674 - val_loss: 0.2719\n",
      "Epoch 153/200\n",
      "\u001b[1m123/123\u001b[0m \u001b[32m━━━━━━━━━━━━━━━━━━━━\u001b[0m\u001b[37m\u001b[0m \u001b[1m2s\u001b[0m 17ms/step - accuracy: 0.9874 - loss: 0.1177 - val_accuracy: 0.9653 - val_loss: 0.2716\n",
      "Epoch 154/200\n",
      "\u001b[1m123/123\u001b[0m \u001b[32m━━━━━━━━━━━━━━━━━━━━\u001b[0m\u001b[37m\u001b[0m \u001b[1m2s\u001b[0m 18ms/step - accuracy: 0.9844 - loss: 0.1180 - val_accuracy: 0.9633 - val_loss: 0.2792\n",
      "Epoch 155/200\n",
      "\u001b[1m123/123\u001b[0m \u001b[32m━━━━━━━━━━━━━━━━━━━━\u001b[0m\u001b[37m\u001b[0m \u001b[1m2s\u001b[0m 17ms/step - accuracy: 0.9757 - loss: 0.1549 - val_accuracy: 0.9674 - val_loss: 0.2435\n",
      "Epoch 156/200\n",
      "\u001b[1m123/123\u001b[0m \u001b[32m━━━━━━━━━━━━━━━━━━━━\u001b[0m\u001b[37m\u001b[0m \u001b[1m2s\u001b[0m 19ms/step - accuracy: 0.9858 - loss: 0.1150 - val_accuracy: 0.9674 - val_loss: 0.2417\n",
      "Epoch 157/200\n",
      "\u001b[1m123/123\u001b[0m \u001b[32m━━━━━━━━━━━━━━━━━━━━\u001b[0m\u001b[37m\u001b[0m \u001b[1m2s\u001b[0m 17ms/step - accuracy: 0.9872 - loss: 0.1077 - val_accuracy: 0.9653 - val_loss: 0.2865\n",
      "Epoch 158/200\n",
      "\u001b[1m123/123\u001b[0m \u001b[32m━━━━━━━━━━━━━━━━━━━━\u001b[0m\u001b[37m\u001b[0m \u001b[1m2s\u001b[0m 17ms/step - accuracy: 0.9892 - loss: 0.1066 - val_accuracy: 0.9633 - val_loss: 0.2875\n",
      "Epoch 159/200\n",
      "\u001b[1m123/123\u001b[0m \u001b[32m━━━━━━━━━━━━━━━━━━━━\u001b[0m\u001b[37m\u001b[0m \u001b[1m2s\u001b[0m 17ms/step - accuracy: 0.9847 - loss: 0.1193 - val_accuracy: 0.9592 - val_loss: 0.3062\n",
      "Epoch 160/200\n",
      "\u001b[1m123/123\u001b[0m \u001b[32m━━━━━━━━━━━━━━━━━━━━\u001b[0m\u001b[37m\u001b[0m \u001b[1m2s\u001b[0m 17ms/step - accuracy: 0.9884 - loss: 0.1002 - val_accuracy: 0.9664 - val_loss: 0.2698\n",
      "Epoch 161/200\n",
      "\u001b[1m123/123\u001b[0m \u001b[32m━━━━━━━━━━━━━━━━━━━━\u001b[0m\u001b[37m\u001b[0m \u001b[1m2s\u001b[0m 17ms/step - accuracy: 0.9822 - loss: 0.1307 - val_accuracy: 0.9653 - val_loss: 0.2966\n",
      "Epoch 162/200\n",
      "\u001b[1m123/123\u001b[0m \u001b[32m━━━━━━━━━━━━━━━━━━━━\u001b[0m\u001b[37m\u001b[0m \u001b[1m2s\u001b[0m 17ms/step - accuracy: 0.9882 - loss: 0.1138 - val_accuracy: 0.9531 - val_loss: 0.3480\n",
      "Epoch 163/200\n",
      "\u001b[1m123/123\u001b[0m \u001b[32m━━━━━━━━━━━━━━━━━━━━\u001b[0m\u001b[37m\u001b[0m \u001b[1m2s\u001b[0m 18ms/step - accuracy: 0.9891 - loss: 0.1200 - val_accuracy: 0.9664 - val_loss: 0.2907\n",
      "Epoch 164/200\n",
      "\u001b[1m123/123\u001b[0m \u001b[32m━━━━━━━━━━━━━━━━━━━━\u001b[0m\u001b[37m\u001b[0m \u001b[1m2s\u001b[0m 17ms/step - accuracy: 0.9849 - loss: 0.1208 - val_accuracy: 0.9613 - val_loss: 0.2889\n",
      "Epoch 165/200\n",
      "\u001b[1m123/123\u001b[0m \u001b[32m━━━━━━━━━━━━━━━━━━━━\u001b[0m\u001b[37m\u001b[0m \u001b[1m2s\u001b[0m 17ms/step - accuracy: 0.9873 - loss: 0.1156 - val_accuracy: 0.9531 - val_loss: 0.3476\n",
      "Epoch 166/200\n",
      "\u001b[1m123/123\u001b[0m \u001b[32m━━━━━━━━━━━━━━━━━━━━\u001b[0m\u001b[37m\u001b[0m \u001b[1m2s\u001b[0m 18ms/step - accuracy: 0.9881 - loss: 0.1064 - val_accuracy: 0.9653 - val_loss: 0.2818\n",
      "Epoch 167/200\n",
      "\u001b[1m123/123\u001b[0m \u001b[32m━━━━━━━━━━━━━━━━━━━━\u001b[0m\u001b[37m\u001b[0m \u001b[1m2s\u001b[0m 17ms/step - accuracy: 0.9835 - loss: 0.1245 - val_accuracy: 0.9602 - val_loss: 0.2891\n",
      "Epoch 168/200\n",
      "\u001b[1m123/123\u001b[0m \u001b[32m━━━━━━━━━━━━━━━━━━━━\u001b[0m\u001b[37m\u001b[0m \u001b[1m2s\u001b[0m 17ms/step - accuracy: 0.9844 - loss: 0.1275 - val_accuracy: 0.9633 - val_loss: 0.2954\n",
      "Epoch 169/200\n",
      "\u001b[1m123/123\u001b[0m \u001b[32m━━━━━━━━━━━━━━━━━━━━\u001b[0m\u001b[37m\u001b[0m \u001b[1m2s\u001b[0m 17ms/step - accuracy: 0.9883 - loss: 0.1065 - val_accuracy: 0.9633 - val_loss: 0.2623\n",
      "Epoch 170/200\n",
      "\u001b[1m123/123\u001b[0m \u001b[32m━━━━━━━━━━━━━━━━━━━━\u001b[0m\u001b[37m\u001b[0m \u001b[1m2s\u001b[0m 18ms/step - accuracy: 0.9894 - loss: 0.0997 - val_accuracy: 0.9674 - val_loss: 0.2663\n",
      "Epoch 171/200\n",
      "\u001b[1m123/123\u001b[0m \u001b[32m━━━━━━━━━━━━━━━━━━━━\u001b[0m\u001b[37m\u001b[0m \u001b[1m2s\u001b[0m 19ms/step - accuracy: 0.9849 - loss: 0.1244 - val_accuracy: 0.9501 - val_loss: 0.3284\n",
      "Epoch 172/200\n",
      "\u001b[1m123/123\u001b[0m \u001b[32m━━━━━━━━━━━━━━━━━━━━\u001b[0m\u001b[37m\u001b[0m \u001b[1m2s\u001b[0m 17ms/step - accuracy: 0.9890 - loss: 0.1073 - val_accuracy: 0.9633 - val_loss: 0.2923\n",
      "Epoch 173/200\n",
      "\u001b[1m123/123\u001b[0m \u001b[32m━━━━━━━━━━━━━━━━━━━━\u001b[0m\u001b[37m\u001b[0m \u001b[1m2s\u001b[0m 17ms/step - accuracy: 0.9867 - loss: 0.1105 - val_accuracy: 0.9551 - val_loss: 0.3470\n",
      "Epoch 174/200\n",
      "\u001b[1m123/123\u001b[0m \u001b[32m━━━━━━━━━━━━━━━━━━━━\u001b[0m\u001b[37m\u001b[0m \u001b[1m2s\u001b[0m 17ms/step - accuracy: 0.9809 - loss: 0.1451 - val_accuracy: 0.9643 - val_loss: 0.2988\n",
      "Epoch 175/200\n",
      "\u001b[1m123/123\u001b[0m \u001b[32m━━━━━━━━━━━━━━━━━━━━\u001b[0m\u001b[37m\u001b[0m \u001b[1m2s\u001b[0m 18ms/step - accuracy: 0.9844 - loss: 0.1237 - val_accuracy: 0.9633 - val_loss: 0.2955\n",
      "Epoch 176/200\n",
      "\u001b[1m123/123\u001b[0m \u001b[32m━━━━━━━━━━━━━━━━━━━━\u001b[0m\u001b[37m\u001b[0m \u001b[1m2s\u001b[0m 17ms/step - accuracy: 0.9882 - loss: 0.1099 - val_accuracy: 0.9592 - val_loss: 0.2925\n",
      "Epoch 177/200\n",
      "\u001b[1m123/123\u001b[0m \u001b[32m━━━━━━━━━━━━━━━━━━━━\u001b[0m\u001b[37m\u001b[0m \u001b[1m2s\u001b[0m 18ms/step - accuracy: 0.9845 - loss: 0.1250 - val_accuracy: 0.9613 - val_loss: 0.3152\n",
      "Epoch 178/200\n",
      "\u001b[1m123/123\u001b[0m \u001b[32m━━━━━━━━━━━━━━━━━━━━\u001b[0m\u001b[37m\u001b[0m \u001b[1m2s\u001b[0m 17ms/step - accuracy: 0.9906 - loss: 0.0992 - val_accuracy: 0.9633 - val_loss: 0.2512\n",
      "Epoch 179/200\n",
      "\u001b[1m123/123\u001b[0m \u001b[32m━━━━━━━━━━━━━━━━━━━━\u001b[0m\u001b[37m\u001b[0m \u001b[1m2s\u001b[0m 17ms/step - accuracy: 0.9849 - loss: 0.1120 - val_accuracy: 0.9694 - val_loss: 0.2357\n",
      "Epoch 180/200\n",
      "\u001b[1m123/123\u001b[0m \u001b[32m━━━━━━━━━━━━━━━━━━━━\u001b[0m\u001b[37m\u001b[0m \u001b[1m2s\u001b[0m 17ms/step - accuracy: 0.9893 - loss: 0.0994 - val_accuracy: 0.9674 - val_loss: 0.2523\n",
      "Epoch 181/200\n",
      "\u001b[1m123/123\u001b[0m \u001b[32m━━━━━━━━━━━━━━━━━━━━\u001b[0m\u001b[37m\u001b[0m \u001b[1m2s\u001b[0m 17ms/step - accuracy: 0.9934 - loss: 0.0890 - val_accuracy: 0.9602 - val_loss: 0.2670\n",
      "Epoch 182/200\n",
      "\u001b[1m123/123\u001b[0m \u001b[32m━━━━━━━━━━━━━━━━━━━━\u001b[0m\u001b[37m\u001b[0m \u001b[1m2s\u001b[0m 17ms/step - accuracy: 0.9772 - loss: 0.1384 - val_accuracy: 0.9613 - val_loss: 0.3421\n",
      "Epoch 183/200\n",
      "\u001b[1m123/123\u001b[0m \u001b[32m━━━━━━━━━━━━━━━━━━━━\u001b[0m\u001b[37m\u001b[0m \u001b[1m2s\u001b[0m 17ms/step - accuracy: 0.9829 - loss: 0.1240 - val_accuracy: 0.9623 - val_loss: 0.3254\n",
      "Epoch 184/200\n",
      "\u001b[1m123/123\u001b[0m \u001b[32m━━━━━━━━━━━━━━━━━━━━\u001b[0m\u001b[37m\u001b[0m \u001b[1m2s\u001b[0m 18ms/step - accuracy: 0.9888 - loss: 0.1011 - val_accuracy: 0.9572 - val_loss: 0.3289\n",
      "Epoch 185/200\n",
      "\u001b[1m123/123\u001b[0m \u001b[32m━━━━━━━━━━━━━━━━━━━━\u001b[0m\u001b[37m\u001b[0m \u001b[1m2s\u001b[0m 19ms/step - accuracy: 0.9754 - loss: 0.1540 - val_accuracy: 0.9592 - val_loss: 0.3190\n",
      "Epoch 186/200\n",
      "\u001b[1m123/123\u001b[0m \u001b[32m━━━━━━━━━━━━━━━━━━━━\u001b[0m\u001b[37m\u001b[0m \u001b[1m2s\u001b[0m 18ms/step - accuracy: 0.9827 - loss: 0.1231 - val_accuracy: 0.9613 - val_loss: 0.3211\n",
      "Epoch 187/200\n",
      "\u001b[1m123/123\u001b[0m \u001b[32m━━━━━━━━━━━━━━━━━━━━\u001b[0m\u001b[37m\u001b[0m \u001b[1m2s\u001b[0m 17ms/step - accuracy: 0.9859 - loss: 0.1119 - val_accuracy: 0.9633 - val_loss: 0.2957\n",
      "Epoch 188/200\n",
      "\u001b[1m123/123\u001b[0m \u001b[32m━━━━━━━━━━━━━━━━━━━━\u001b[0m\u001b[37m\u001b[0m \u001b[1m2s\u001b[0m 17ms/step - accuracy: 0.9841 - loss: 0.1323 - val_accuracy: 0.9592 - val_loss: 0.2814\n",
      "Epoch 189/200\n",
      "\u001b[1m123/123\u001b[0m \u001b[32m━━━━━━━━━━━━━━━━━━━━\u001b[0m\u001b[37m\u001b[0m \u001b[1m2s\u001b[0m 18ms/step - accuracy: 0.9898 - loss: 0.1099 - val_accuracy: 0.9592 - val_loss: 0.2663\n",
      "Epoch 190/200\n",
      "\u001b[1m123/123\u001b[0m \u001b[32m━━━━━━━━━━━━━━━━━━━━\u001b[0m\u001b[37m\u001b[0m \u001b[1m2s\u001b[0m 17ms/step - accuracy: 0.9915 - loss: 0.0963 - val_accuracy: 0.9551 - val_loss: 0.2792\n",
      "Epoch 191/200\n",
      "\u001b[1m123/123\u001b[0m \u001b[32m━━━━━━━━━━━━━━━━━━━━\u001b[0m\u001b[37m\u001b[0m \u001b[1m2s\u001b[0m 18ms/step - accuracy: 0.9843 - loss: 0.1372 - val_accuracy: 0.9551 - val_loss: 0.3002\n",
      "Epoch 192/200\n",
      "\u001b[1m123/123\u001b[0m \u001b[32m━━━━━━━━━━━━━━━━━━━━\u001b[0m\u001b[37m\u001b[0m \u001b[1m2s\u001b[0m 17ms/step - accuracy: 0.9888 - loss: 0.1015 - val_accuracy: 0.9592 - val_loss: 0.3180\n",
      "Epoch 193/200\n",
      "\u001b[1m123/123\u001b[0m \u001b[32m━━━━━━━━━━━━━━━━━━━━\u001b[0m\u001b[37m\u001b[0m \u001b[1m2s\u001b[0m 17ms/step - accuracy: 0.9847 - loss: 0.1152 - val_accuracy: 0.9633 - val_loss: 0.2700\n",
      "Epoch 194/200\n",
      "\u001b[1m123/123\u001b[0m \u001b[32m━━━━━━━━━━━━━━━━━━━━\u001b[0m\u001b[37m\u001b[0m \u001b[1m2s\u001b[0m 18ms/step - accuracy: 0.9813 - loss: 0.1243 - val_accuracy: 0.9633 - val_loss: 0.2619\n",
      "Epoch 195/200\n",
      "\u001b[1m123/123\u001b[0m \u001b[32m━━━━━━━━━━━━━━━━━━━━\u001b[0m\u001b[37m\u001b[0m \u001b[1m2s\u001b[0m 17ms/step - accuracy: 0.9866 - loss: 0.1053 - val_accuracy: 0.9653 - val_loss: 0.2530\n",
      "Epoch 196/200\n",
      "\u001b[1m123/123\u001b[0m \u001b[32m━━━━━━━━━━━━━━━━━━━━\u001b[0m\u001b[37m\u001b[0m \u001b[1m2s\u001b[0m 17ms/step - accuracy: 0.9873 - loss: 0.0945 - val_accuracy: 0.9674 - val_loss: 0.2311\n",
      "Epoch 197/200\n",
      "\u001b[1m123/123\u001b[0m \u001b[32m━━━━━━━━━━━━━━━━━━━━\u001b[0m\u001b[37m\u001b[0m \u001b[1m2s\u001b[0m 17ms/step - accuracy: 0.9868 - loss: 0.1112 - val_accuracy: 0.9674 - val_loss: 0.2273\n",
      "Epoch 198/200\n",
      "\u001b[1m123/123\u001b[0m \u001b[32m━━━━━━━━━━━━━━━━━━━━\u001b[0m\u001b[37m\u001b[0m \u001b[1m2s\u001b[0m 17ms/step - accuracy: 0.9893 - loss: 0.1005 - val_accuracy: 0.9684 - val_loss: 0.2353\n",
      "Epoch 199/200\n",
      "\u001b[1m123/123\u001b[0m \u001b[32m━━━━━━━━━━━━━━━━━━━━\u001b[0m\u001b[37m\u001b[0m \u001b[1m2s\u001b[0m 17ms/step - accuracy: 0.9857 - loss: 0.1106 - val_accuracy: 0.9715 - val_loss: 0.2399\n",
      "Epoch 200/200\n",
      "\u001b[1m123/123\u001b[0m \u001b[32m━━━━━━━━━━━━━━━━━━━━\u001b[0m\u001b[37m\u001b[0m \u001b[1m2s\u001b[0m 19ms/step - accuracy: 0.9903 - loss: 0.1046 - val_accuracy: 0.9694 - val_loss: 0.2380\n"
     ]
    }
   ],
   "source": [
    "from tensorflow.keras.models import Sequential\n",
    "from tensorflow.keras.layers import Conv1D, MaxPooling1D, LSTM, Bidirectional, Dense, Dropout, BatchNormalization\n",
    "from tensorflow.keras.regularizers import l2\n",
    "from tensorflow.keras.callbacks import ModelCheckpoint\n",
    "\n",
    "checkpoint_cb = ModelCheckpoint(\n",
    "    filepath='checkpoints/epoch_{epoch:02d}.weights.h5',\n",
    "    save_weights_only=True,\n",
    "    save_freq='epoch'\n",
    ")\n",
    "model = Sequential([\n",
    "    \n",
    "    \n",
    "    Conv1D(64, 3, padding='same', activation='relu', input_shape=(X.shape[1], X.shape[2])),\n",
    "    BatchNormalization(),\n",
    "    MaxPooling1D(2),\n",
    "    Dropout(0.3),\n",
    "\n",
    "    Conv1D(128, 3, padding='same', activation='relu'),\n",
    "    BatchNormalization(),\n",
    "    MaxPooling1D(2),\n",
    "    Dropout(0.3),\n",
    "\n",
    "    Bidirectional(LSTM(128, return_sequences=False)),\n",
    "    BatchNormalization(),\n",
    "\n",
    "    Dense(256, activation='relu', kernel_regularizer=l2(0.001)),\n",
    "    BatchNormalization(),\n",
    "    Dropout(0.3),\n",
    "\n",
    "    Dense(128, activation='relu', kernel_regularizer=l2(0.001)),\n",
    "    BatchNormalization(),\n",
    "    Dropout(0.3),\n",
    "\n",
    "    Dense(128, activation='relu', kernel_regularizer=l2(0.001)),\n",
    "    BatchNormalization(),\n",
    "    Dropout(0.3),\n",
    "    \n",
    "    Dense(y.shape[1], activation='softmax')\n",
    "])\n",
    "\n",
    "model.compile(optimizer='adam', loss='categorical_crossentropy', metrics=['accuracy'])\n",
    "\n",
    "history=model.fit(X_train, y_train, validation_data=(X_val, y_val), epochs=200, batch_size=32,callbacks=[checkpoint_cb])#,class_weight=class_weights)removed due to no improvement"
   ]
  },
  {
   "cell_type": "code",
   "execution_count": 10,
   "id": "2a574849",
   "metadata": {
    "execution": {
     "iopub.execute_input": "2025-06-23T07:11:09.366524Z",
     "iopub.status.busy": "2025-06-23T07:11:09.366236Z",
     "iopub.status.idle": "2025-06-23T07:11:09.583327Z",
     "shell.execute_reply": "2025-06-23T07:11:09.582672Z"
    },
    "papermill": {
     "duration": 0.549124,
     "end_time": "2025-06-23T07:11:09.584581",
     "exception": false,
     "start_time": "2025-06-23T07:11:09.035457",
     "status": "completed"
    },
    "tags": []
   },
   "outputs": [
    {
     "name": "stdout",
     "output_type": "stream",
     "text": [
      "Best average (acc + val_acc)/2 at epoch 196,accuracy=0.9900586009025574, validation accuracy=0.9673802256584167, average value = 0.9787\n"
     ]
    }
   ],
   "source": [
    "train_acc = np.array(history.history['accuracy'])\n",
    "val_acc = np.array(history.history['val_accuracy'])\n",
    "loss=np.array(history.history['loss'])\n",
    "val_loss=np.array(history.history['val_loss'])\n",
    "avg_loss=(loss+val_loss)/2\n",
    "avg_acc = (train_acc + val_acc) / 2\n",
    "best_epoch = np.argmax(avg_acc) + 1  # +1 because epochs start from 1 in filenames\n",
    "\n",
    "print(f\"Best average (acc + val_acc)/2 at epoch {best_epoch},accuracy={train_acc[best_epoch-1]}, validation accuracy={val_acc[best_epoch-1]}, average value = {avg_acc[best_epoch-1]:.4f}\")\n",
    "history.model.load_weights(f\"checkpoints/epoch_{best_epoch:02d}.weights.h5\")\n",
    "model.save(\"kaggle/working/model.h5\")"
   ]
  },
  {
   "cell_type": "code",
   "execution_count": 11,
   "id": "5eaa4a5d",
   "metadata": {
    "execution": {
     "iopub.execute_input": "2025-06-23T07:11:10.128781Z",
     "iopub.status.busy": "2025-06-23T07:11:10.128509Z",
     "iopub.status.idle": "2025-06-23T07:11:11.891628Z",
     "shell.execute_reply": "2025-06-23T07:11:11.890886Z"
    },
    "papermill": {
     "duration": 2.037311,
     "end_time": "2025-06-23T07:11:11.892906",
     "exception": false,
     "start_time": "2025-06-23T07:11:09.855595",
     "status": "completed"
    },
    "tags": []
   },
   "outputs": [
    {
     "name": "stdout",
     "output_type": "stream",
     "text": [
      "\u001b[1m31/31\u001b[0m \u001b[32m━━━━━━━━━━━━━━━━━━━━\u001b[0m\u001b[37m\u001b[0m \u001b[1m1s\u001b[0m 19ms/step\n",
      "              precision    recall  f1-score   support\n",
      "\n",
      "       angry       1.00      0.99      0.99       150\n",
      "        calm       0.94      0.96      0.95       151\n",
      "     disgust       1.00      1.00      1.00        77\n",
      "     fearful       0.94      0.97      0.95       150\n",
      "       happy       0.98      0.97      0.98       150\n",
      "     neutral       0.97      0.97      0.97        75\n",
      "         sad       0.95      0.93      0.94       151\n",
      "   surprised       1.00      0.95      0.97        77\n",
      "\n",
      "    accuracy                           0.97       981\n",
      "   macro avg       0.97      0.97      0.97       981\n",
      "weighted avg       0.97      0.97      0.97       981\n",
      "\n"
     ]
    },
    {
     "data": {
      "image/png": "[encoded data removed]",
      "text/plain": [
       "<Figure size 640x480 with 2 Axes>"
      ]
     },
     "metadata": {},
     "output_type": "display_data"
    }
   ],
   "source": [
    "y_pred = model.predict(X_val)\n",
    "y_pred_labels = np.argmax(y_pred, axis=1)\n",
    "y_true = np.argmax(y_val, axis=1)\n",
    "target_names = le.classes_\n",
    "\n",
    "\n",
    "# Classification report\n",
    "report =classification_report(y_true, y_pred_labels, target_names=target_names)\n",
    "print(report)\n",
    "with open(\"kaggle/working/classification_report.txt\", \"w\") as f:\n",
    "    f.write(report)\n",
    "# Confusion matrix\n",
    "cm = confusion_matrix(y_true, y_pred_labels)\n",
    "sns.heatmap(cm, annot=True, fmt='d', xticklabels=target_names, yticklabels=target_names)\n",
    "plt.xlabel('Predicted')\n",
    "plt.ylabel('True')\n",
    "plt.title('Confusion Matrix')\n",
    "plt.savefig(\"kaggle/working/confusion_matrix.png\", dpi=300) \n",
    "plt.show()\n",
    "\n"
   ]
  },
  {
   "cell_type": "code",
   "execution_count": 12,
   "id": "599438cd",
   "metadata": {
    "execution": {
     "iopub.execute_input": "2025-06-23T07:11:12.439357Z",
     "iopub.status.busy": "2025-06-23T07:11:12.439061Z",
     "iopub.status.idle": "2025-06-23T07:11:12.610107Z",
     "shell.execute_reply": "2025-06-23T07:11:12.609412Z"
    },
    "papermill": {
     "duration": 0.446578,
     "end_time": "2025-06-23T07:11:12.612049",
     "exception": false,
     "start_time": "2025-06-23T07:11:12.165471",
     "status": "completed"
    },
    "tags": []
   },
   "outputs": [
    {
     "data": {
      "image/png": "[encoded data removed]",
      "text/plain": [
       "<Figure size 640x480 with 1 Axes>"
      ]
     },
     "metadata": {},
     "output_type": "display_data"
    }
   ],
   "source": [
    "\n",
    "\n",
    "acc=history.history['accuracy']\n",
    "val_acc=history.history['val_accuracy']\n",
    "epochs=range(len(acc))\n",
    "plt.plot(epochs,acc,label='train_accuracy')\n",
    "plt.plot(epochs,val_acc,label='val_accuracy')\n",
    "plt.plot(epochs,avg_acc,label='average')\n",
    "plt.xlabel('epochs')\n",
    "plt.ylabel('accuracy')\n",
    "plt.legend()\n",
    "plt.show()\n",
    "\n"
   ]
  },
  {
   "cell_type": "code",
   "execution_count": 13,
   "id": "035cff56",
   "metadata": {
    "execution": {
     "iopub.execute_input": "2025-06-23T07:11:13.236174Z",
     "iopub.status.busy": "2025-06-23T07:11:13.235873Z",
     "iopub.status.idle": "2025-06-23T07:11:13.396576Z",
     "shell.execute_reply": "2025-06-23T07:11:13.395933Z"
    },
    "papermill": {
     "duration": 0.44217,
     "end_time": "2025-06-23T07:11:13.397987",
     "exception": false,
     "start_time": "2025-06-23T07:11:12.955817",
     "status": "completed"
    },
    "tags": []
   },
   "outputs": [
    {
     "data": {
      "image/png": "[encoded data removed]",
      "text/plain": [
       "<Figure size 640x480 with 1 Axes>"
      ]
     },
     "metadata": {},
     "output_type": "display_data"
    }
   ],
   "source": [
    "\n",
    "\n",
    "loss=history.history['loss']\n",
    "val_loss=history.history['val_loss']\n",
    "plt.plot(epochs,loss,label='train_loss')\n",
    "plt.plot(epochs,val_loss,label='val_loss')\n",
    "plt.plot(epochs,avg_loss,label='average')\n",
    "plt.xlabel('epochs')\n",
    "plt.ylabel('loss')\n",
    "plt.legend()\n",
    "plt.show()\n",
    "\n"
   ]
  }
 ],
 "metadata": {
  "kaggle": {
   "accelerator": "gpu",
   "dataSources": [
    {
     "datasetId": 107620,
     "sourceId": 256618,
     "sourceType": "datasetVersion"
    },
    {
     "datasetId": 107666,
     "sourceId": 256774,
     "sourceType": "datasetVersion"
    }
   ],
   "dockerImageVersionId": 31040,
   "isGpuEnabled": true,
   "isInternetEnabled": true,
   "language": "python",
   "sourceType": "notebook"
  },
  "kernelspec": {
   "display_name": "Python 3",
   "language": "python",
   "name": "python3"
  },
  "language_info": {
   "codemirror_mode": {
    "name": "ipython",
    "version": 3
   },
   "file_extension": ".py",
   "mimetype": "text/x-python",
   "name": "python",
   "nbconvert_exporter": "python",
   "pygments_lexer": "ipython3",
   "version": "3.11.11"
  },
  "papermill": {
   "default_parameters": {},
   "duration": 857.797777,
   "end_time": "2025-06-23T07:11:17.072445",
   "environment_variables": {},
   "exception": null,
   "input_path": "__notebook__.ipynb",
   "output_path": "__notebook__.ipynb",
   "parameters": {},
   "start_time": "2025-06-23T06:56:59.274668",
   "version": "2.6.0"
  }
 },
 "nbformat": 4,
 "nbformat_minor": 5
}
